{
  "nbformat": 4,
  "nbformat_minor": 0,
  "metadata": {
    "colab": {
      "name": "coronavirus.ipynb",
      "provenance": [],
      "authorship_tag": "ABX9TyMZMOh+YjPA6c2/mP9Dxyyv",
      "include_colab_link": true
    },
    "kernelspec": {
      "name": "python3",
      "display_name": "Python 3"
    }
  },
  "cells": [
    {
      "cell_type": "markdown",
      "metadata": {
        "id": "view-in-github",
        "colab_type": "text"
      },
      "source": [
        "<a href=\"https://colab.research.google.com/github/shadab4150/practice_projects/blob/master/coronavirus.ipynb\" target=\"_parent\"><img src=\"https://colab.research.google.com/assets/colab-badge.svg\" alt=\"Open In Colab\"/></a>"
      ]
    },
    {
      "cell_type": "code",
      "metadata": {
        "id": "oAMVZH3BPH84",
        "colab_type": "code",
        "colab": {
          "base_uri": "https://localhost:8080/",
          "height": 102
        },
        "outputId": "951f0b9a-7cab-4773-c2a5-f13ed4680535"
      },
      "source": [
        "!unzip '/content/novel-corona-virus-2019-dataset.zip' -d '/content/corona/'"
      ],
      "execution_count": 1,
      "outputs": [
        {
          "output_type": "stream",
          "text": [
            "Archive:  /content/novel-corona-virus-2019-dataset.zip\n",
            "  inflating: /content/corona/2019_nCoV_data.csv  \n",
            "  inflating: /content/corona/time_series_2019_ncov_confirmed.csv  \n",
            "  inflating: /content/corona/time_series_2019_ncov_deaths.csv  \n",
            "  inflating: /content/corona/time_series_2019_ncov_recovered.csv  \n"
          ],
          "name": "stdout"
        }
      ]
    },
    {
      "cell_type": "code",
      "metadata": {
        "id": "zAv2t14SP6fX",
        "colab_type": "code",
        "colab": {}
      },
      "source": [
        "import pandas as pd\n",
        "import seaborn as sns\n",
        "import matplotlib.pyplot as plt\n",
        "from tqdm import tqdm\n",
        "import plotly.express as px\n",
        "import numpy as np"
      ],
      "execution_count": 0,
      "outputs": []
    },
    {
      "cell_type": "code",
      "metadata": {
        "id": "BTRUYpYfQK-b",
        "colab_type": "code",
        "colab": {}
      },
      "source": [
        "df = pd.read_csv('/content/2019_nC0v_20200121_20200126_cleaned.csv')"
      ],
      "execution_count": 0,
      "outputs": []
    },
    {
      "cell_type": "code",
      "metadata": {
        "id": "G1Wpnt9WQOSO",
        "colab_type": "code",
        "colab": {
          "base_uri": "https://localhost:8080/",
          "height": 204
        },
        "outputId": "9b908bd7-3efa-4bd6-bf31-dc057bcf9418"
      },
      "source": [
        "df.head()"
      ],
      "execution_count": 4,
      "outputs": [
        {
          "output_type": "execute_result",
          "data": {
            "text/html": [
              "<div>\n",
              "<style scoped>\n",
              "    .dataframe tbody tr th:only-of-type {\n",
              "        vertical-align: middle;\n",
              "    }\n",
              "\n",
              "    .dataframe tbody tr th {\n",
              "        vertical-align: top;\n",
              "    }\n",
              "\n",
              "    .dataframe thead th {\n",
              "        text-align: right;\n",
              "    }\n",
              "</style>\n",
              "<table border=\"1\" class=\"dataframe\">\n",
              "  <thead>\n",
              "    <tr style=\"text-align: right;\">\n",
              "      <th></th>\n",
              "      <th>Unnamed: 0</th>\n",
              "      <th>Province/State</th>\n",
              "      <th>Country</th>\n",
              "      <th>Date last updated</th>\n",
              "      <th>Confirmed</th>\n",
              "      <th>Suspected</th>\n",
              "      <th>Recovered</th>\n",
              "      <th>Deaths</th>\n",
              "    </tr>\n",
              "  </thead>\n",
              "  <tbody>\n",
              "    <tr>\n",
              "      <th>0</th>\n",
              "      <td>0</td>\n",
              "      <td>Shanghai</td>\n",
              "      <td>Mainland China</td>\n",
              "      <td>1/21/2020</td>\n",
              "      <td>9.0</td>\n",
              "      <td>10.0</td>\n",
              "      <td>0.0</td>\n",
              "      <td>0.0</td>\n",
              "    </tr>\n",
              "    <tr>\n",
              "      <th>1</th>\n",
              "      <td>1</td>\n",
              "      <td>Yunnan</td>\n",
              "      <td>Mainland China</td>\n",
              "      <td>1/21/2020</td>\n",
              "      <td>1.0</td>\n",
              "      <td>0.0</td>\n",
              "      <td>0.0</td>\n",
              "      <td>0.0</td>\n",
              "    </tr>\n",
              "    <tr>\n",
              "      <th>2</th>\n",
              "      <td>2</td>\n",
              "      <td>Beijing</td>\n",
              "      <td>Mainland China</td>\n",
              "      <td>1/21/2020</td>\n",
              "      <td>10.0</td>\n",
              "      <td>0.0</td>\n",
              "      <td>0.0</td>\n",
              "      <td>0.0</td>\n",
              "    </tr>\n",
              "    <tr>\n",
              "      <th>3</th>\n",
              "      <td>3</td>\n",
              "      <td>Taiwan</td>\n",
              "      <td>Taiwan</td>\n",
              "      <td>1/21/2020</td>\n",
              "      <td>1.0</td>\n",
              "      <td>0.0</td>\n",
              "      <td>0.0</td>\n",
              "      <td>0.0</td>\n",
              "    </tr>\n",
              "    <tr>\n",
              "      <th>4</th>\n",
              "      <td>4</td>\n",
              "      <td>Jilin</td>\n",
              "      <td>Mainland China</td>\n",
              "      <td>1/21/2020</td>\n",
              "      <td>0.0</td>\n",
              "      <td>1.0</td>\n",
              "      <td>0.0</td>\n",
              "      <td>0.0</td>\n",
              "    </tr>\n",
              "  </tbody>\n",
              "</table>\n",
              "</div>"
            ],
            "text/plain": [
              "   Unnamed: 0 Province/State         Country  ... Suspected  Recovered  Deaths\n",
              "0           0       Shanghai  Mainland China  ...      10.0        0.0     0.0\n",
              "1           1         Yunnan  Mainland China  ...       0.0        0.0     0.0\n",
              "2           2        Beijing  Mainland China  ...       0.0        0.0     0.0\n",
              "3           3         Taiwan          Taiwan  ...       0.0        0.0     0.0\n",
              "4           4          Jilin  Mainland China  ...       1.0        0.0     0.0\n",
              "\n",
              "[5 rows x 8 columns]"
            ]
          },
          "metadata": {
            "tags": []
          },
          "execution_count": 4
        }
      ]
    },
    {
      "cell_type": "code",
      "metadata": {
        "id": "3ok3IkUtQwGW",
        "colab_type": "code",
        "colab": {
          "base_uri": "https://localhost:8080/",
          "height": 68
        },
        "outputId": "b33c18cf-9199-4df6-c481-483965dcffe4"
      },
      "source": [
        "df.columns"
      ],
      "execution_count": 9,
      "outputs": [
        {
          "output_type": "execute_result",
          "data": {
            "text/plain": [
              "Index(['Unnamed: 0', 'Province/State', 'Country', 'Date last updated',\n",
              "       'Confirmed', 'Suspected', 'Recovered', 'Deaths'],\n",
              "      dtype='object')"
            ]
          },
          "metadata": {
            "tags": []
          },
          "execution_count": 9
        }
      ]
    },
    {
      "cell_type": "code",
      "metadata": {
        "id": "1vEOrc3FQmwv",
        "colab_type": "code",
        "colab": {}
      },
      "source": [
        "country=df[['Country','Confirmed', 'Suspected', 'Recovered', 'Deaths']].groupby(['Country']).agg({'Confirmed':'sum','Suspected':'sum','Recovered':'sum','Deaths':'sum'})"
      ],
      "execution_count": 0,
      "outputs": []
    },
    {
      "cell_type": "code",
      "metadata": {
        "id": "LQfgDzBwRT9y",
        "colab_type": "code",
        "colab": {}
      },
      "source": [
        "country.reset_index(inplace=True,)"
      ],
      "execution_count": 0,
      "outputs": []
    },
    {
      "cell_type": "code",
      "metadata": {
        "id": "4VEwX7JZReJb",
        "colab_type": "code",
        "colab": {
          "base_uri": "https://localhost:8080/",
          "height": 638
        },
        "outputId": "d875722e-b093-443a-f126-eb907032040e"
      },
      "source": [
        "country"
      ],
      "execution_count": 19,
      "outputs": [
        {
          "output_type": "execute_result",
          "data": {
            "text/html": [
              "<div>\n",
              "<style scoped>\n",
              "    .dataframe tbody tr th:only-of-type {\n",
              "        vertical-align: middle;\n",
              "    }\n",
              "\n",
              "    .dataframe tbody tr th {\n",
              "        vertical-align: top;\n",
              "    }\n",
              "\n",
              "    .dataframe thead th {\n",
              "        text-align: right;\n",
              "    }\n",
              "</style>\n",
              "<table border=\"1\" class=\"dataframe\">\n",
              "  <thead>\n",
              "    <tr style=\"text-align: right;\">\n",
              "      <th></th>\n",
              "      <th>Country</th>\n",
              "      <th>Confirmed</th>\n",
              "      <th>Suspected</th>\n",
              "      <th>Recovered</th>\n",
              "      <th>Deaths</th>\n",
              "    </tr>\n",
              "  </thead>\n",
              "  <tbody>\n",
              "    <tr>\n",
              "      <th>0</th>\n",
              "      <td>Australia</td>\n",
              "      <td>13.0</td>\n",
              "      <td>1.0</td>\n",
              "      <td>0.0</td>\n",
              "      <td>0.0</td>\n",
              "    </tr>\n",
              "    <tr>\n",
              "      <th>1</th>\n",
              "      <td>Brazil</td>\n",
              "      <td>0.0</td>\n",
              "      <td>1.0</td>\n",
              "      <td>0.0</td>\n",
              "      <td>0.0</td>\n",
              "    </tr>\n",
              "    <tr>\n",
              "      <th>2</th>\n",
              "      <td>Canada</td>\n",
              "      <td>1.0</td>\n",
              "      <td>0.0</td>\n",
              "      <td>0.0</td>\n",
              "      <td>0.0</td>\n",
              "    </tr>\n",
              "    <tr>\n",
              "      <th>3</th>\n",
              "      <td>Colombia</td>\n",
              "      <td>0.0</td>\n",
              "      <td>1.0</td>\n",
              "      <td>0.0</td>\n",
              "      <td>0.0</td>\n",
              "    </tr>\n",
              "    <tr>\n",
              "      <th>4</th>\n",
              "      <td>France</td>\n",
              "      <td>14.0</td>\n",
              "      <td>0.0</td>\n",
              "      <td>0.0</td>\n",
              "      <td>0.0</td>\n",
              "    </tr>\n",
              "    <tr>\n",
              "      <th>5</th>\n",
              "      <td>Hong Kong</td>\n",
              "      <td>29.0</td>\n",
              "      <td>1139.0</td>\n",
              "      <td>0.0</td>\n",
              "      <td>0.0</td>\n",
              "    </tr>\n",
              "    <tr>\n",
              "      <th>6</th>\n",
              "      <td>Japan</td>\n",
              "      <td>18.0</td>\n",
              "      <td>0.0</td>\n",
              "      <td>1.0</td>\n",
              "      <td>0.0</td>\n",
              "    </tr>\n",
              "    <tr>\n",
              "      <th>7</th>\n",
              "      <td>Macau</td>\n",
              "      <td>18.0</td>\n",
              "      <td>0.0</td>\n",
              "      <td>0.0</td>\n",
              "      <td>0.0</td>\n",
              "    </tr>\n",
              "    <tr>\n",
              "      <th>8</th>\n",
              "      <td>Mainland China</td>\n",
              "      <td>10053.0</td>\n",
              "      <td>839.0</td>\n",
              "      <td>275.0</td>\n",
              "      <td>265.0</td>\n",
              "    </tr>\n",
              "    <tr>\n",
              "      <th>9</th>\n",
              "      <td>Malaysia</td>\n",
              "      <td>13.0</td>\n",
              "      <td>4.0</td>\n",
              "      <td>0.0</td>\n",
              "      <td>0.0</td>\n",
              "    </tr>\n",
              "    <tr>\n",
              "      <th>10</th>\n",
              "      <td>Mexico</td>\n",
              "      <td>0.0</td>\n",
              "      <td>1.0</td>\n",
              "      <td>0.0</td>\n",
              "      <td>0.0</td>\n",
              "    </tr>\n",
              "    <tr>\n",
              "      <th>11</th>\n",
              "      <td>Nepal</td>\n",
              "      <td>4.0</td>\n",
              "      <td>0.0</td>\n",
              "      <td>0.0</td>\n",
              "      <td>0.0</td>\n",
              "    </tr>\n",
              "    <tr>\n",
              "      <th>12</th>\n",
              "      <td>Philippines</td>\n",
              "      <td>0.0</td>\n",
              "      <td>4.0</td>\n",
              "      <td>0.0</td>\n",
              "      <td>0.0</td>\n",
              "    </tr>\n",
              "    <tr>\n",
              "      <th>13</th>\n",
              "      <td>Singapore</td>\n",
              "      <td>18.0</td>\n",
              "      <td>0.0</td>\n",
              "      <td>0.0</td>\n",
              "      <td>0.0</td>\n",
              "    </tr>\n",
              "    <tr>\n",
              "      <th>14</th>\n",
              "      <td>South Korea</td>\n",
              "      <td>16.0</td>\n",
              "      <td>0.0</td>\n",
              "      <td>0.0</td>\n",
              "      <td>0.0</td>\n",
              "    </tr>\n",
              "    <tr>\n",
              "      <th>15</th>\n",
              "      <td>Taiwan</td>\n",
              "      <td>20.0</td>\n",
              "      <td>0.0</td>\n",
              "      <td>0.0</td>\n",
              "      <td>0.0</td>\n",
              "    </tr>\n",
              "    <tr>\n",
              "      <th>16</th>\n",
              "      <td>Thailand</td>\n",
              "      <td>43.0</td>\n",
              "      <td>0.0</td>\n",
              "      <td>2.0</td>\n",
              "      <td>0.0</td>\n",
              "    </tr>\n",
              "    <tr>\n",
              "      <th>17</th>\n",
              "      <td>United States</td>\n",
              "      <td>15.0</td>\n",
              "      <td>0.0</td>\n",
              "      <td>0.0</td>\n",
              "      <td>0.0</td>\n",
              "    </tr>\n",
              "    <tr>\n",
              "      <th>18</th>\n",
              "      <td>Vietnam</td>\n",
              "      <td>14.0</td>\n",
              "      <td>0.0</td>\n",
              "      <td>0.0</td>\n",
              "      <td>0.0</td>\n",
              "    </tr>\n",
              "  </tbody>\n",
              "</table>\n",
              "</div>"
            ],
            "text/plain": [
              "           Country  Confirmed  Suspected  Recovered  Deaths\n",
              "0        Australia       13.0        1.0        0.0     0.0\n",
              "1           Brazil        0.0        1.0        0.0     0.0\n",
              "2           Canada        1.0        0.0        0.0     0.0\n",
              "3         Colombia        0.0        1.0        0.0     0.0\n",
              "4           France       14.0        0.0        0.0     0.0\n",
              "5        Hong Kong       29.0     1139.0        0.0     0.0\n",
              "6            Japan       18.0        0.0        1.0     0.0\n",
              "7            Macau       18.0        0.0        0.0     0.0\n",
              "8   Mainland China    10053.0      839.0      275.0   265.0\n",
              "9         Malaysia       13.0        4.0        0.0     0.0\n",
              "10          Mexico        0.0        1.0        0.0     0.0\n",
              "11           Nepal        4.0        0.0        0.0     0.0\n",
              "12     Philippines        0.0        4.0        0.0     0.0\n",
              "13       Singapore       18.0        0.0        0.0     0.0\n",
              "14     South Korea       16.0        0.0        0.0     0.0\n",
              "15          Taiwan       20.0        0.0        0.0     0.0\n",
              "16        Thailand       43.0        0.0        2.0     0.0\n",
              "17   United States       15.0        0.0        0.0     0.0\n",
              "18         Vietnam       14.0        0.0        0.0     0.0"
            ]
          },
          "metadata": {
            "tags": []
          },
          "execution_count": 19
        }
      ]
    },
    {
      "cell_type": "code",
      "metadata": {
        "id": "VG13YlGmQPbV",
        "colab_type": "code",
        "colab": {
          "base_uri": "https://localhost:8080/",
          "height": 530
        },
        "outputId": "7eec30b8-c32f-4dbf-ba7d-9e27927259b5"
      },
      "source": [
        "plt.figure(1,figsize=(20,8))\n",
        "plt.subplot(121)\n",
        "sns.barplot(data=country,y='Country',x='Confirmed');\n",
        "plt.title('Confirmed Cases')\n",
        "plt.xlim(0,80)\n",
        "plt.subplot(122)\n",
        "sns.barplot(data=country,y='Country',x='Suspected');\n",
        "plt.title('Suspected cases')\n",
        "plt.xlim(0,80)"
      ],
      "execution_count": 29,
      "outputs": [
        {
          "output_type": "execute_result",
          "data": {
            "text/plain": [
              "(0, 80)"
            ]
          },
          "metadata": {
            "tags": []
          },
          "execution_count": 29
        },
        {
          "output_type": "display_data",
          "data": {
            "image/png": "[encoded data removed]",
            "text/plain": [
              "<Figure size 1440x576 with 2 Axes>"
            ]
          },
          "metadata": {
            "tags": []
          }
        }
      ]
    },
    {
      "cell_type": "code",
      "metadata": {
        "id": "-yJb6YSNTX4g",
        "colab_type": "code",
        "colab": {}
      },
      "source": [
        "'Country','Confirmed', 'Suspected', 'Recovered', 'Deaths'"
      ],
      "execution_count": 0,
      "outputs": []
    },
    {
      "cell_type": "code",
      "metadata": {
        "id": "8BrWsDnwTYAd",
        "colab_type": "code",
        "colab": {
          "base_uri": "https://localhost:8080/",
          "height": 204
        },
        "outputId": "1f54b1cd-c5ac-47e6-c66d-d09f5e01d566"
      },
      "source": [
        "china=df[df['Country']=='Mainland China'].copy()\n",
        "china.head()"
      ],
      "execution_count": 33,
      "outputs": [
        {
          "output_type": "execute_result",
          "data": {
            "text/html": [
              "<div>\n",
              "<style scoped>\n",
              "    .dataframe tbody tr th:only-of-type {\n",
              "        vertical-align: middle;\n",
              "    }\n",
              "\n",
              "    .dataframe tbody tr th {\n",
              "        vertical-align: top;\n",
              "    }\n",
              "\n",
              "    .dataframe thead th {\n",
              "        text-align: right;\n",
              "    }\n",
              "</style>\n",
              "<table border=\"1\" class=\"dataframe\">\n",
              "  <thead>\n",
              "    <tr style=\"text-align: right;\">\n",
              "      <th></th>\n",
              "      <th>Unnamed: 0</th>\n",
              "      <th>Province/State</th>\n",
              "      <th>Country</th>\n",
              "      <th>Date last updated</th>\n",
              "      <th>Confirmed</th>\n",
              "      <th>Suspected</th>\n",
              "      <th>Recovered</th>\n",
              "      <th>Deaths</th>\n",
              "    </tr>\n",
              "  </thead>\n",
              "  <tbody>\n",
              "    <tr>\n",
              "      <th>0</th>\n",
              "      <td>0</td>\n",
              "      <td>Shanghai</td>\n",
              "      <td>Mainland China</td>\n",
              "      <td>1/21/2020</td>\n",
              "      <td>9.0</td>\n",
              "      <td>10.0</td>\n",
              "      <td>0.0</td>\n",
              "      <td>0.0</td>\n",
              "    </tr>\n",
              "    <tr>\n",
              "      <th>1</th>\n",
              "      <td>1</td>\n",
              "      <td>Yunnan</td>\n",
              "      <td>Mainland China</td>\n",
              "      <td>1/21/2020</td>\n",
              "      <td>1.0</td>\n",
              "      <td>0.0</td>\n",
              "      <td>0.0</td>\n",
              "      <td>0.0</td>\n",
              "    </tr>\n",
              "    <tr>\n",
              "      <th>2</th>\n",
              "      <td>2</td>\n",
              "      <td>Beijing</td>\n",
              "      <td>Mainland China</td>\n",
              "      <td>1/21/2020</td>\n",
              "      <td>10.0</td>\n",
              "      <td>0.0</td>\n",
              "      <td>0.0</td>\n",
              "      <td>0.0</td>\n",
              "    </tr>\n",
              "    <tr>\n",
              "      <th>4</th>\n",
              "      <td>4</td>\n",
              "      <td>Jilin</td>\n",
              "      <td>Mainland China</td>\n",
              "      <td>1/21/2020</td>\n",
              "      <td>0.0</td>\n",
              "      <td>1.0</td>\n",
              "      <td>0.0</td>\n",
              "      <td>0.0</td>\n",
              "    </tr>\n",
              "    <tr>\n",
              "      <th>5</th>\n",
              "      <td>5</td>\n",
              "      <td>Sichuan</td>\n",
              "      <td>Mainland China</td>\n",
              "      <td>1/21/2020</td>\n",
              "      <td>2.0</td>\n",
              "      <td>1.0</td>\n",
              "      <td>0.0</td>\n",
              "      <td>0.0</td>\n",
              "    </tr>\n",
              "  </tbody>\n",
              "</table>\n",
              "</div>"
            ],
            "text/plain": [
              "   Unnamed: 0 Province/State         Country  ... Suspected  Recovered  Deaths\n",
              "0           0       Shanghai  Mainland China  ...      10.0        0.0     0.0\n",
              "1           1         Yunnan  Mainland China  ...       0.0        0.0     0.0\n",
              "2           2        Beijing  Mainland China  ...       0.0        0.0     0.0\n",
              "4           4          Jilin  Mainland China  ...       1.0        0.0     0.0\n",
              "5           5        Sichuan  Mainland China  ...       1.0        0.0     0.0\n",
              "\n",
              "[5 rows x 8 columns]"
            ]
          },
          "metadata": {
            "tags": []
          },
          "execution_count": 33
        }
      ]
    },
    {
      "cell_type": "code",
      "metadata": {
        "id": "kwjVwx0HSzeh",
        "colab_type": "code",
        "colab": {
          "base_uri": "https://localhost:8080/",
          "height": 514
        },
        "outputId": "977c8ae5-e2c4-4a00-de9d-9552914e86b3"
      },
      "source": [
        "china_cases=china[['Province/State','Confirmed', 'Suspected', 'Recovered', 'Deaths']].groupby(['Province/State']).agg({'Confirmed':'sum','Suspected':'sum','Recovered':'sum','Deaths':'sum'})\n",
        "china_cases.reset_index(inplace=True,)\n",
        "china_cases.head(15)"
      ],
      "execution_count": 36,
      "outputs": [
        {
          "output_type": "execute_result",
          "data": {
            "text/html": [
              "<div>\n",
              "<style scoped>\n",
              "    .dataframe tbody tr th:only-of-type {\n",
              "        vertical-align: middle;\n",
              "    }\n",
              "\n",
              "    .dataframe tbody tr th {\n",
              "        vertical-align: top;\n",
              "    }\n",
              "\n",
              "    .dataframe thead th {\n",
              "        text-align: right;\n",
              "    }\n",
              "</style>\n",
              "<table border=\"1\" class=\"dataframe\">\n",
              "  <thead>\n",
              "    <tr style=\"text-align: right;\">\n",
              "      <th></th>\n",
              "      <th>Province/State</th>\n",
              "      <th>Confirmed</th>\n",
              "      <th>Suspected</th>\n",
              "      <th>Recovered</th>\n",
              "      <th>Deaths</th>\n",
              "    </tr>\n",
              "  </thead>\n",
              "  <tbody>\n",
              "    <tr>\n",
              "      <th>0</th>\n",
              "      <td>Anhui</td>\n",
              "      <td>238.0</td>\n",
              "      <td>35.0</td>\n",
              "      <td>0.0</td>\n",
              "      <td>0.0</td>\n",
              "    </tr>\n",
              "    <tr>\n",
              "      <th>1</th>\n",
              "      <td>Beijing</td>\n",
              "      <td>304.0</td>\n",
              "      <td>22.0</td>\n",
              "      <td>8.0</td>\n",
              "      <td>0.0</td>\n",
              "    </tr>\n",
              "    <tr>\n",
              "      <th>2</th>\n",
              "      <td>Chongqing</td>\n",
              "      <td>338.0</td>\n",
              "      <td>26.0</td>\n",
              "      <td>0.0</td>\n",
              "      <td>0.0</td>\n",
              "    </tr>\n",
              "    <tr>\n",
              "      <th>3</th>\n",
              "      <td>Fujian</td>\n",
              "      <td>102.0</td>\n",
              "      <td>70.0</td>\n",
              "      <td>0.0</td>\n",
              "      <td>1.0</td>\n",
              "    </tr>\n",
              "    <tr>\n",
              "      <th>4</th>\n",
              "      <td>Gansu</td>\n",
              "      <td>28.0</td>\n",
              "      <td>0.0</td>\n",
              "      <td>0.0</td>\n",
              "      <td>0.0</td>\n",
              "    </tr>\n",
              "    <tr>\n",
              "      <th>5</th>\n",
              "      <td>Guangdong</td>\n",
              "      <td>546.0</td>\n",
              "      <td>6.0</td>\n",
              "      <td>14.0</td>\n",
              "      <td>0.0</td>\n",
              "    </tr>\n",
              "    <tr>\n",
              "      <th>6</th>\n",
              "      <td>Guangxi</td>\n",
              "      <td>158.0</td>\n",
              "      <td>2.0</td>\n",
              "      <td>0.0</td>\n",
              "      <td>0.0</td>\n",
              "    </tr>\n",
              "    <tr>\n",
              "      <th>7</th>\n",
              "      <td>Guizhou</td>\n",
              "      <td>28.0</td>\n",
              "      <td>1.0</td>\n",
              "      <td>0.0</td>\n",
              "      <td>0.0</td>\n",
              "    </tr>\n",
              "    <tr>\n",
              "      <th>8</th>\n",
              "      <td>Hainan</td>\n",
              "      <td>102.0</td>\n",
              "      <td>97.0</td>\n",
              "      <td>0.0</td>\n",
              "      <td>0.0</td>\n",
              "    </tr>\n",
              "    <tr>\n",
              "      <th>9</th>\n",
              "      <td>Hebei</td>\n",
              "      <td>48.0</td>\n",
              "      <td>0.0</td>\n",
              "      <td>0.0</td>\n",
              "      <td>7.0</td>\n",
              "    </tr>\n",
              "    <tr>\n",
              "      <th>10</th>\n",
              "      <td>Heilongjiang</td>\n",
              "      <td>58.0</td>\n",
              "      <td>2.0</td>\n",
              "      <td>0.0</td>\n",
              "      <td>5.0</td>\n",
              "    </tr>\n",
              "    <tr>\n",
              "      <th>11</th>\n",
              "      <td>Henan</td>\n",
              "      <td>259.0</td>\n",
              "      <td>50.0</td>\n",
              "      <td>0.0</td>\n",
              "      <td>2.0</td>\n",
              "    </tr>\n",
              "    <tr>\n",
              "      <th>12</th>\n",
              "      <td>Hubei</td>\n",
              "      <td>5856.0</td>\n",
              "      <td>11.0</td>\n",
              "      <td>238.0</td>\n",
              "      <td>248.0</td>\n",
              "    </tr>\n",
              "    <tr>\n",
              "      <th>13</th>\n",
              "      <td>Hunan</td>\n",
              "      <td>286.0</td>\n",
              "      <td>0.0</td>\n",
              "      <td>0.0</td>\n",
              "      <td>0.0</td>\n",
              "    </tr>\n",
              "    <tr>\n",
              "      <th>14</th>\n",
              "      <td>Inner Mongolia</td>\n",
              "      <td>25.0</td>\n",
              "      <td>5.0</td>\n",
              "      <td>0.0</td>\n",
              "      <td>0.0</td>\n",
              "    </tr>\n",
              "  </tbody>\n",
              "</table>\n",
              "</div>"
            ],
            "text/plain": [
              "    Province/State  Confirmed  Suspected  Recovered  Deaths\n",
              "0            Anhui      238.0       35.0        0.0     0.0\n",
              "1          Beijing      304.0       22.0        8.0     0.0\n",
              "2        Chongqing      338.0       26.0        0.0     0.0\n",
              "3           Fujian      102.0       70.0        0.0     1.0\n",
              "4            Gansu       28.0        0.0        0.0     0.0\n",
              "5        Guangdong      546.0        6.0       14.0     0.0\n",
              "6          Guangxi      158.0        2.0        0.0     0.0\n",
              "7          Guizhou       28.0        1.0        0.0     0.0\n",
              "8           Hainan      102.0       97.0        0.0     0.0\n",
              "9            Hebei       48.0        0.0        0.0     7.0\n",
              "10    Heilongjiang       58.0        2.0        0.0     5.0\n",
              "11           Henan      259.0       50.0        0.0     2.0\n",
              "12           Hubei     5856.0       11.0      238.0   248.0\n",
              "13           Hunan      286.0        0.0        0.0     0.0\n",
              "14  Inner Mongolia       25.0        5.0        0.0     0.0"
            ]
          },
          "metadata": {
            "tags": []
          },
          "execution_count": 36
        }
      ]
    },
    {
      "cell_type": "code",
      "metadata": {
        "id": "TXLEJXADTG0S",
        "colab_type": "code",
        "colab": {
          "base_uri": "https://localhost:8080/",
          "height": 577
        },
        "outputId": "b740733c-0e41-40a0-d113-3d8ca6482265"
      },
      "source": [
        "plt.figure(1,figsize=(20,8))\n",
        "plt.subplot(121)\n",
        "sns.barplot(data=china_cases,x='Province/State',y='Confirmed');\n",
        "plt.title('Confirmed Cases china')\n",
        "plt.xticks(np.arange(31),china_cases['Province/State'].values,rotation=90);\n",
        "\n",
        "plt.subplot(122)\n",
        "sns.barplot(data=china_cases,x='Province/State',y='Suspected');\n",
        "plt.title('Suspected cases china')\n",
        "plt.xticks(np.arange(31),china_cases['Province/State'].values,rotation=90);\n"
      ],
      "execution_count": 49,
      "outputs": [
        {
          "output_type": "display_data",
          "data": {
            "image/png": "[encoded data removed]",
            "text/plain": [
              "<Figure size 1440x576 with 2 Axes>"
            ]
          },
          "metadata": {
            "tags": []
          }
        }
      ]
    },
    {
      "cell_type": "code",
      "metadata": {
        "id": "LUGPiVA_UtIz",
        "colab_type": "code",
        "colab": {
          "base_uri": "https://localhost:8080/",
          "height": 34
        },
        "outputId": "ca92f2ba-8046-4df1-85a0-d8a569a7e223"
      },
      "source": [
        "china_cases.shape[0]"
      ],
      "execution_count": 41,
      "outputs": [
        {
          "output_type": "execute_result",
          "data": {
            "text/plain": [
              "31"
            ]
          },
          "metadata": {
            "tags": []
          },
          "execution_count": 41
        }
      ]
    },
    {
      "cell_type": "code",
      "metadata": {
        "id": "-s75HVw6UKA9",
        "colab_type": "code",
        "colab": {
          "base_uri": "https://localhost:8080/",
          "height": 360
        },
        "outputId": "90c02cd9-b347-447d-f5f1-ebd7364a4df7"
      },
      "source": [
        "sns.barplot(data=china_cases,x='Province/State',y='Deaths');\n",
        "plt.title('Suspected cases')\n",
        "plt.xticks(np.arange(31),china_cases['Province/State'].values,rotation=90);"
      ],
      "execution_count": 50,
      "outputs": [
        {
          "output_type": "display_data",
          "data": {
            "image/png": "[encoded data removed]",
            "text/plain": [
              "<Figure size 432x288 with 1 Axes>"
            ]
          },
          "metadata": {
            "tags": []
          }
        }
      ]
    },
    {
      "cell_type": "code",
      "metadata": {
        "id": "99_UpGIKUen3",
        "colab_type": "code",
        "colab": {}
      },
      "source": [
        "df1 = pd.read_csv('/content/corona/time_series_2019_ncov_confirmed.csv')"
      ],
      "execution_count": 0,
      "outputs": []
    },
    {
      "cell_type": "code",
      "metadata": {
        "id": "6rXnRk2uVLon",
        "colab_type": "code",
        "colab": {
          "base_uri": "https://localhost:8080/",
          "height": 241
        },
        "outputId": "f78e4098-0563-41c5-f43c-709f490b16df"
      },
      "source": [
        "df1.head(5)"
      ],
      "execution_count": 58,
      "outputs": [
        {
          "output_type": "execute_result",
          "data": {
            "text/html": [
              "<div>\n",
              "<style scoped>\n",
              "    .dataframe tbody tr th:only-of-type {\n",
              "        vertical-align: middle;\n",
              "    }\n",
              "\n",
              "    .dataframe tbody tr th {\n",
              "        vertical-align: top;\n",
              "    }\n",
              "\n",
              "    .dataframe thead th {\n",
              "        text-align: right;\n",
              "    }\n",
              "</style>\n",
              "<table border=\"1\" class=\"dataframe\">\n",
              "  <thead>\n",
              "    <tr style=\"text-align: right;\">\n",
              "      <th></th>\n",
              "      <th>Province/State</th>\n",
              "      <th>Country/Region</th>\n",
              "      <th>Lat</th>\n",
              "      <th>Long</th>\n",
              "      <th>1/21/20 22:00</th>\n",
              "      <th>1/22/20 12:00</th>\n",
              "      <th>1/23/20 12:00</th>\n",
              "      <th>1/24/20 0:00</th>\n",
              "      <th>1/24/20 12:00</th>\n",
              "      <th>1/25/20 0:00</th>\n",
              "      <th>1/25/20 12:00</th>\n",
              "      <th>1/25/20 22:00</th>\n",
              "      <th>1/26/20 11:00</th>\n",
              "      <th>1/26/20 23:00</th>\n",
              "      <th>1/27/20 9:00</th>\n",
              "      <th>1/27/20 19:00</th>\n",
              "      <th>1/27/20 20:30</th>\n",
              "      <th>1/28/20 13:00</th>\n",
              "      <th>1/28/20 18:00</th>\n",
              "      <th>1/28/20 23:00</th>\n",
              "      <th>1/29/20 13:30</th>\n",
              "      <th>1/29/20 14:30</th>\n",
              "      <th>1/29/20 21:00</th>\n",
              "      <th>1/30/20 11:00</th>\n",
              "      <th>1/31/20 14:00</th>\n",
              "      <th>02/01/20 10:00</th>\n",
              "      <th>02/02/20 21:00</th>\n",
              "      <th>02/03/20 21:00</th>\n",
              "      <th>02/04/20 9:40</th>\n",
              "      <th>02/04/20 22:00</th>\n",
              "      <th>02/05/20 9:00</th>\n",
              "      <th>02/05/20 23:00</th>\n",
              "      <th>02/06/20 9:00</th>\n",
              "      <th>02/06/20 14:20</th>\n",
              "      <th>02/07/20 20:13</th>\n",
              "      <th>02/07/20 22:50</th>\n",
              "      <th>02/08/20 22:04</th>\n",
              "      <th>02/08/20 23:04</th>\n",
              "      <th>02/09/20 10:30</th>\n",
              "      <th>02/09/20 23:20</th>\n",
              "    </tr>\n",
              "  </thead>\n",
              "  <tbody>\n",
              "    <tr>\n",
              "      <th>0</th>\n",
              "      <td>Anhui</td>\n",
              "      <td>Mainland China</td>\n",
              "      <td>31.82571</td>\n",
              "      <td>117.2264</td>\n",
              "      <td>0.0</td>\n",
              "      <td>1.0</td>\n",
              "      <td>9.0</td>\n",
              "      <td>15.0</td>\n",
              "      <td>15.0</td>\n",
              "      <td>39.0</td>\n",
              "      <td>39.0</td>\n",
              "      <td>60.0</td>\n",
              "      <td>60.0</td>\n",
              "      <td>70.0</td>\n",
              "      <td>70.0</td>\n",
              "      <td>70.0</td>\n",
              "      <td>106.0</td>\n",
              "      <td>106.0</td>\n",
              "      <td>106.0</td>\n",
              "      <td>152.0</td>\n",
              "      <td>152.0</td>\n",
              "      <td>152.0</td>\n",
              "      <td>200.0</td>\n",
              "      <td>200.0</td>\n",
              "      <td>237.0</td>\n",
              "      <td>297.0</td>\n",
              "      <td>408.0</td>\n",
              "      <td>480.0</td>\n",
              "      <td>480.0</td>\n",
              "      <td>530.0</td>\n",
              "      <td>530.0</td>\n",
              "      <td>591.0</td>\n",
              "      <td>591.0</td>\n",
              "      <td>591.0</td>\n",
              "      <td>665</td>\n",
              "      <td>733</td>\n",
              "      <td>733</td>\n",
              "      <td>779</td>\n",
              "      <td>779</td>\n",
              "      <td>830</td>\n",
              "    </tr>\n",
              "    <tr>\n",
              "      <th>1</th>\n",
              "      <td>Beijing</td>\n",
              "      <td>Mainland China</td>\n",
              "      <td>40.18238</td>\n",
              "      <td>116.4142</td>\n",
              "      <td>10.0</td>\n",
              "      <td>14.0</td>\n",
              "      <td>22.0</td>\n",
              "      <td>26.0</td>\n",
              "      <td>36.0</td>\n",
              "      <td>36.0</td>\n",
              "      <td>41.0</td>\n",
              "      <td>51.0</td>\n",
              "      <td>68.0</td>\n",
              "      <td>68.0</td>\n",
              "      <td>72.0</td>\n",
              "      <td>80.0</td>\n",
              "      <td>80.0</td>\n",
              "      <td>91.0</td>\n",
              "      <td>91.0</td>\n",
              "      <td>91.0</td>\n",
              "      <td>111.0</td>\n",
              "      <td>111.0</td>\n",
              "      <td>111.0</td>\n",
              "      <td>114.0</td>\n",
              "      <td>139.0</td>\n",
              "      <td>168.0</td>\n",
              "      <td>191.0</td>\n",
              "      <td>212.0</td>\n",
              "      <td>212.0</td>\n",
              "      <td>228.0</td>\n",
              "      <td>253.0</td>\n",
              "      <td>274.0</td>\n",
              "      <td>274.0</td>\n",
              "      <td>274.0</td>\n",
              "      <td>297</td>\n",
              "      <td>315</td>\n",
              "      <td>315</td>\n",
              "      <td>326</td>\n",
              "      <td>326</td>\n",
              "      <td>337</td>\n",
              "    </tr>\n",
              "    <tr>\n",
              "      <th>2</th>\n",
              "      <td>Chongqing</td>\n",
              "      <td>Mainland China</td>\n",
              "      <td>30.05718</td>\n",
              "      <td>107.8740</td>\n",
              "      <td>5.0</td>\n",
              "      <td>6.0</td>\n",
              "      <td>9.0</td>\n",
              "      <td>27.0</td>\n",
              "      <td>27.0</td>\n",
              "      <td>57.0</td>\n",
              "      <td>57.0</td>\n",
              "      <td>75.0</td>\n",
              "      <td>75.0</td>\n",
              "      <td>110.0</td>\n",
              "      <td>110.0</td>\n",
              "      <td>110.0</td>\n",
              "      <td>132.0</td>\n",
              "      <td>132.0</td>\n",
              "      <td>132.0</td>\n",
              "      <td>147.0</td>\n",
              "      <td>147.0</td>\n",
              "      <td>147.0</td>\n",
              "      <td>165.0</td>\n",
              "      <td>182.0</td>\n",
              "      <td>211.0</td>\n",
              "      <td>247.0</td>\n",
              "      <td>300.0</td>\n",
              "      <td>337.0</td>\n",
              "      <td>337.0</td>\n",
              "      <td>366.0</td>\n",
              "      <td>376.0</td>\n",
              "      <td>389.0</td>\n",
              "      <td>400.0</td>\n",
              "      <td>400.0</td>\n",
              "      <td>415</td>\n",
              "      <td>426</td>\n",
              "      <td>428</td>\n",
              "      <td>446</td>\n",
              "      <td>450</td>\n",
              "      <td>468</td>\n",
              "    </tr>\n",
              "    <tr>\n",
              "      <th>3</th>\n",
              "      <td>Fujian</td>\n",
              "      <td>Mainland China</td>\n",
              "      <td>26.07783</td>\n",
              "      <td>117.9895</td>\n",
              "      <td>0.0</td>\n",
              "      <td>1.0</td>\n",
              "      <td>5.0</td>\n",
              "      <td>5.0</td>\n",
              "      <td>10.0</td>\n",
              "      <td>10.0</td>\n",
              "      <td>18.0</td>\n",
              "      <td>18.0</td>\n",
              "      <td>35.0</td>\n",
              "      <td>35.0</td>\n",
              "      <td>56.0</td>\n",
              "      <td>59.0</td>\n",
              "      <td>59.0</td>\n",
              "      <td>80.0</td>\n",
              "      <td>80.0</td>\n",
              "      <td>82.0</td>\n",
              "      <td>84.0</td>\n",
              "      <td>84.0</td>\n",
              "      <td>101.0</td>\n",
              "      <td>101.0</td>\n",
              "      <td>120.0</td>\n",
              "      <td>144.0</td>\n",
              "      <td>159.0</td>\n",
              "      <td>179.0</td>\n",
              "      <td>179.0</td>\n",
              "      <td>194.0</td>\n",
              "      <td>205.0</td>\n",
              "      <td>215.0</td>\n",
              "      <td>215.0</td>\n",
              "      <td>215.0</td>\n",
              "      <td>224</td>\n",
              "      <td>239</td>\n",
              "      <td>239</td>\n",
              "      <td>250</td>\n",
              "      <td>250</td>\n",
              "      <td>261</td>\n",
              "    </tr>\n",
              "    <tr>\n",
              "      <th>4</th>\n",
              "      <td>Gansu</td>\n",
              "      <td>Mainland China</td>\n",
              "      <td>36.06110</td>\n",
              "      <td>103.8343</td>\n",
              "      <td>0.0</td>\n",
              "      <td>0.0</td>\n",
              "      <td>2.0</td>\n",
              "      <td>2.0</td>\n",
              "      <td>2.0</td>\n",
              "      <td>4.0</td>\n",
              "      <td>4.0</td>\n",
              "      <td>7.0</td>\n",
              "      <td>7.0</td>\n",
              "      <td>14.0</td>\n",
              "      <td>14.0</td>\n",
              "      <td>14.0</td>\n",
              "      <td>19.0</td>\n",
              "      <td>19.0</td>\n",
              "      <td>19.0</td>\n",
              "      <td>24.0</td>\n",
              "      <td>24.0</td>\n",
              "      <td>24.0</td>\n",
              "      <td>26.0</td>\n",
              "      <td>26.0</td>\n",
              "      <td>29.0</td>\n",
              "      <td>35.0</td>\n",
              "      <td>51.0</td>\n",
              "      <td>55.0</td>\n",
              "      <td>55.0</td>\n",
              "      <td>57.0</td>\n",
              "      <td>57.0</td>\n",
              "      <td>62.0</td>\n",
              "      <td>62.0</td>\n",
              "      <td>62.0</td>\n",
              "      <td>67</td>\n",
              "      <td>71</td>\n",
              "      <td>79</td>\n",
              "      <td>79</td>\n",
              "      <td>79</td>\n",
              "      <td>83</td>\n",
              "    </tr>\n",
              "  </tbody>\n",
              "</table>\n",
              "</div>"
            ],
            "text/plain": [
              "  Province/State  Country/Region  ...  02/09/20 10:30  02/09/20 23:20\n",
              "0          Anhui  Mainland China  ...             779             830\n",
              "1        Beijing  Mainland China  ...             326             337\n",
              "2      Chongqing  Mainland China  ...             450             468\n",
              "3         Fujian  Mainland China  ...             250             261\n",
              "4          Gansu  Mainland China  ...              79              83\n",
              "\n",
              "[5 rows x 40 columns]"
            ]
          },
          "metadata": {
            "tags": []
          },
          "execution_count": 58
        }
      ]
    },
    {
      "cell_type": "code",
      "metadata": {
        "id": "lh65dOvYXZdC",
        "colab_type": "code",
        "colab": {}
      },
      "source": [
        "col_list=['1/21/20 22:00',\n",
        "       '1/22/20 12:00', '1/23/20 12:00', '1/24/20 0:00', '1/24/20 12:00',\n",
        "       '1/25/20 0:00', '1/25/20 12:00', '1/25/20 22:00', '1/26/20 11:00',\n",
        "       '1/26/20 23:00', '1/27/20 9:00', '1/27/20 19:00', '1/27/20 20:30',\n",
        "       '1/28/20 13:00', '1/28/20 18:00', '1/28/20 23:00', '1/29/20 13:30',\n",
        "       '1/29/20 14:30', '1/29/20 21:00', '1/30/20 11:00', '1/31/20 14:00',\n",
        "       '02/01/20 10:00', '02/02/20 21:00', '02/03/20 21:00', '02/04/20 9:40',\n",
        "       '02/04/20 22:00', '02/05/20 9:00', '02/05/20 23:00', '02/06/20 9:00',\n",
        "       '02/06/20 14:20', '02/07/20 20:13', '02/07/20 22:50', '02/08/20 22:04',\n",
        "       '02/08/20 23:04', '02/09/20 10:30', '02/09/20 23:20']"
      ],
      "execution_count": 0,
      "outputs": []
    },
    {
      "cell_type": "code",
      "metadata": {
        "id": "8zaKdx45XUEg",
        "colab_type": "code",
        "colab": {}
      },
      "source": [
        "df1['confirmed'] = df1[col_list].sum(axis=1)"
      ],
      "execution_count": 0,
      "outputs": []
    },
    {
      "cell_type": "code",
      "metadata": {
        "id": "-HMbCksJXUI6",
        "colab_type": "code",
        "colab": {
          "base_uri": "https://localhost:8080/",
          "height": 204
        },
        "outputId": "2060b47c-0854-480f-86e8-e3eb0e829840"
      },
      "source": [
        "df1.drop(col_list,axis=1,inplace=True)\n",
        "df1.head()"
      ],
      "execution_count": 66,
      "outputs": [
        {
          "output_type": "execute_result",
          "data": {
            "text/html": [
              "<div>\n",
              "<style scoped>\n",
              "    .dataframe tbody tr th:only-of-type {\n",
              "        vertical-align: middle;\n",
              "    }\n",
              "\n",
              "    .dataframe tbody tr th {\n",
              "        vertical-align: top;\n",
              "    }\n",
              "\n",
              "    .dataframe thead th {\n",
              "        text-align: right;\n",
              "    }\n",
              "</style>\n",
              "<table border=\"1\" class=\"dataframe\">\n",
              "  <thead>\n",
              "    <tr style=\"text-align: right;\">\n",
              "      <th></th>\n",
              "      <th>Province/State</th>\n",
              "      <th>Country/Region</th>\n",
              "      <th>Lat</th>\n",
              "      <th>Long</th>\n",
              "      <th>confirmed</th>\n",
              "    </tr>\n",
              "  </thead>\n",
              "  <tbody>\n",
              "    <tr>\n",
              "      <th>0</th>\n",
              "      <td>Anhui</td>\n",
              "      <td>Mainland China</td>\n",
              "      <td>31.82571</td>\n",
              "      <td>117.2264</td>\n",
              "      <td>10876.0</td>\n",
              "    </tr>\n",
              "    <tr>\n",
              "      <th>1</th>\n",
              "      <td>Beijing</td>\n",
              "      <td>Mainland China</td>\n",
              "      <td>40.18238</td>\n",
              "      <td>116.4142</td>\n",
              "      <td>5465.0</td>\n",
              "    </tr>\n",
              "    <tr>\n",
              "      <th>2</th>\n",
              "      <td>Chongqing</td>\n",
              "      <td>Mainland China</td>\n",
              "      <td>30.05718</td>\n",
              "      <td>107.8740</td>\n",
              "      <td>7848.0</td>\n",
              "    </tr>\n",
              "    <tr>\n",
              "      <th>3</th>\n",
              "      <td>Fujian</td>\n",
              "      <td>Mainland China</td>\n",
              "      <td>26.07783</td>\n",
              "      <td>117.9895</td>\n",
              "      <td>4211.0</td>\n",
              "    </tr>\n",
              "    <tr>\n",
              "      <th>4</th>\n",
              "      <td>Gansu</td>\n",
              "      <td>Mainland China</td>\n",
              "      <td>36.06110</td>\n",
              "      <td>103.8343</td>\n",
              "      <td>1234.0</td>\n",
              "    </tr>\n",
              "  </tbody>\n",
              "</table>\n",
              "</div>"
            ],
            "text/plain": [
              "  Province/State  Country/Region       Lat      Long  confirmed\n",
              "0          Anhui  Mainland China  31.82571  117.2264    10876.0\n",
              "1        Beijing  Mainland China  40.18238  116.4142     5465.0\n",
              "2      Chongqing  Mainland China  30.05718  107.8740     7848.0\n",
              "3         Fujian  Mainland China  26.07783  117.9895     4211.0\n",
              "4          Gansu  Mainland China  36.06110  103.8343     1234.0"
            ]
          },
          "metadata": {
            "tags": []
          },
          "execution_count": 66
        }
      ]
    },
    {
      "cell_type": "code",
      "metadata": {
        "id": "p74420tGY0oK",
        "colab_type": "code",
        "colab": {
          "base_uri": "https://localhost:8080/",
          "height": 34
        },
        "outputId": "c8d00c8c-25b2-4594-a53c-24456d00ada2"
      },
      "source": [
        "df.shape"
      ],
      "execution_count": 70,
      "outputs": [
        {
          "output_type": "execute_result",
          "data": {
            "text/plain": [
              "(1704, 8)"
            ]
          },
          "metadata": {
            "tags": []
          },
          "execution_count": 70
        }
      ]
    },
    {
      "cell_type": "code",
      "metadata": {
        "id": "FIec56ExV_Xt",
        "colab_type": "code",
        "colab": {}
      },
      "source": [
        "df1.fillna(0,inplace=True)"
      ],
      "execution_count": 0,
      "outputs": []
    },
    {
      "cell_type": "code",
      "metadata": {
        "id": "cgbjaiLXWcsP",
        "colab_type": "code",
        "colab": {}
      },
      "source": [
        "df = px.data.gapminder()\n",
        "fig = px.line_geo(df.query(\"year==2007\"), locations=\"iso_alpha\", color=\"Country\", projection=\"orthographic\",)\n",
        "fig.show()\n"
      ],
      "execution_count": 0,
      "outputs": []
    },
    {
      "cell_type": "code",
      "metadata": {
        "id": "JDjVvv9IW5OE",
        "colab_type": "code",
        "colab": {
          "base_uri": "https://localhost:8080/",
          "height": 542
        },
        "outputId": "dbd2ac77-37c7-4513-bd71-8e1d496f4c3c"
      },
      "source": [
        "import plotly.express as px\n",
        "df = px.data.gapminder()\n",
        "fig = px.scatter_geo(df1, lat='Lat',lon=\"Long\", hover_name=\"Province/State\",color='Country/Region', projection=\"natural earth\",)\n",
        "fig.show()"
      ],
      "execution_count": 93,
      "outputs": [
        {
          "output_type": "display_data",
          "data": {
            "text/html": [
              "<html>\n",
              "<head><meta charset=\"utf-8\" /></head>\n",
              "<body>\n",
              "    <div>\n",
              "            <script src=\"https://cdnjs.cloudflare.com/ajax/libs/mathjax/2.7.5/MathJax.js?config=TeX-AMS-MML_SVG\"></script><script type=\"text/javascript\">if (window.MathJax) {MathJax.Hub.Config({SVG: {font: \"STIX-Web\"}});}</script>\n",
              "                <script type=\"text/javascript\">window.PlotlyConfig = {MathJaxConfig: 'local'};</script>\n",
              "        <script src=\"https://cdn.plot.ly/plotly-latest.min.js\"></script>    \n",
              "            <div id=\"7039f63a-d8ae-4aa4-b9b4-6eba0a0cc2d9\" class=\"plotly-graph-div\" style=\"height:525px; width:100%;\"></div>\n",
              "            <script type=\"text/javascript\">\n",
              "                \n",
              "                    window.PLOTLYENV=window.PLOTLYENV || {};\n",
              "                    \n",
              "                if (document.getElementById(\"7039f63a-d8ae-4aa4-b9b4-6eba0a0cc2d9\")) {\n",
              "                    Plotly.newPlot(\n",
              "                        '7039f63a-d8ae-4aa4-b9b4-6eba0a0cc2d9',\n",
              "                        [{\"geo\": \"geo\", \"hoverlabel\": {\"namelength\": 0}, \"hovertemplate\": \"<b>%{hovertext}</b><br><br>Country/Region=Mainland China<br>Lat=%{lat}<br>Long=%{lon}\", \"hovertext\": [\"Anhui\", \"Beijing\", \"Chongqing\", \"Fujian\", \"Gansu\", \"Guangdong\", \"Guangxi\", \"Guizhou\", \"Hainan\", \"Hebei\", \"Heilongjiang\", \"Henan\", \"Hubei\", \"Hunan\", \"Inner Mongolia\", \"Jiangsu\", \"Jiangxi\", \"Jilin\", \"Liaoning\", \"Ningxia\", \"Qinghai\", \"Shaanxi\", \"Shandong\", \"Shanghai\", \"Shanxi\", \"Sichuan\", \"Tianjin\", \"Tibet\", \"Xinjiang\", \"Yunnan\", \"Zhejiang\"], \"lat\": [31.825709999999997, 40.18238, 30.05718, 26.07783, 36.0611, 23.33841, 23.829079999999998, 26.81536, 19.19673, 38.0428, 47.861999999999995, 33.882020000000004, 30.975640000000002, 27.610409999999998, 44.09448, 32.97027, 27.614009999999997, 43.66657, 41.292840000000005, 37.26923, 35.65945, 35.19165, 36.34377, 31.20327, 37.577690000000004, 30.617140000000003, 39.293620000000004, 30.1534, 41.11981, 24.97411, 29.182509999999997], \"legendgroup\": \"Country/Region=Mainland China\", \"lon\": [117.2264, 116.4142, 107.874, 117.9895, 103.8343, 113.42200000000001, 108.7881, 106.8748, 109.7455, 114.5149, 127.7622, 113.61399999999999, 112.2707, 111.7088, 113.9456, 119.464, 115.7221, 126.1917, 122.6086, 106.1655, 96.02564, 108.8701, 118.1529, 121.4554, 112.2922, 102.7103, 117.333, 88.7879, 85.17822, 101.4868, 120.0985], \"marker\": {\"color\": \"#636efa\"}, \"name\": \"Country/Region=Mainland China\", \"showlegend\": true, \"type\": \"scattergeo\"}, {\"geo\": \"geo\", \"hoverlabel\": {\"namelength\": 0}, \"hovertemplate\": \"<b>%{hovertext}</b><br><br>Country/Region=Thailand<br>Lat=%{lat}<br>Long=%{lon}\", \"hovertext\": [0], \"lat\": [13.7563], \"legendgroup\": \"Country/Region=Thailand\", \"lon\": [100.5018], \"marker\": {\"color\": \"#EF553B\"}, \"name\": \"Country/Region=Thailand\", \"showlegend\": true, \"type\": \"scattergeo\"}, {\"geo\": \"geo\", \"hoverlabel\": {\"namelength\": 0}, \"hovertemplate\": \"<b>%{hovertext}</b><br><br>Country/Region=Japan<br>Lat=%{lat}<br>Long=%{lon}\", \"hovertext\": [0], \"lat\": [35.6762], \"legendgroup\": \"Country/Region=Japan\", \"lon\": [139.6503], \"marker\": {\"color\": \"#00cc96\"}, \"name\": \"Country/Region=Japan\", \"showlegend\": true, \"type\": \"scattergeo\"}, {\"geo\": \"geo\", \"hoverlabel\": {\"namelength\": 0}, \"hovertemplate\": \"<b>%{hovertext}</b><br><br>Country/Region=South Korea<br>Lat=%{lat}<br>Long=%{lon}\", \"hovertext\": [0], \"lat\": [37.5665], \"legendgroup\": \"Country/Region=South Korea\", \"lon\": [126.978], \"marker\": {\"color\": \"#ab63fa\"}, \"name\": \"Country/Region=South Korea\", \"showlegend\": true, \"type\": \"scattergeo\"}, {\"geo\": \"geo\", \"hoverlabel\": {\"namelength\": 0}, \"hovertemplate\": \"<b>%{hovertext}</b><br><br>Country/Region=Taiwan<br>Lat=%{lat}<br>Long=%{lon}\", \"hovertext\": [\"Taiwan\"], \"lat\": [23.6978], \"legendgroup\": \"Country/Region=Taiwan\", \"lon\": [120.9605], \"marker\": {\"color\": \"#FFA15A\"}, \"name\": \"Country/Region=Taiwan\", \"showlegend\": true, \"type\": \"scattergeo\"}, {\"geo\": \"geo\", \"hoverlabel\": {\"namelength\": 0}, \"hovertemplate\": \"<b>%{hovertext}</b><br><br>Country/Region=US<br>Lat=%{lat}<br>Long=%{lon}\", \"hovertext\": [\"Seattle, WA\", \"Chicago, IL\", \"Tempe, AZ\", \"Orange, CA\", \"Los Angeles, CA\", \"Santa Clara, CA\", \"Boston, MA\", \"San Benito, CA\", \"Madison, WI\"], \"lat\": [47.7511, 40.6331, 34.0489, 33.7879, 34.0522, 37.3541, 42.3601, 36.5761, 43.0731], \"legendgroup\": \"Country/Region=US\", \"lon\": [-120.74, -89.3985, -111.094, -117.8531, -118.2437, -121.9552, -71.0589, -120.9876, -89.4012], \"marker\": {\"color\": \"#19d3f3\"}, \"name\": \"Country/Region=US\", \"showlegend\": true, \"type\": \"scattergeo\"}, {\"geo\": \"geo\", \"hoverlabel\": {\"namelength\": 0}, \"hovertemplate\": \"<b>%{hovertext}</b><br><br>Country/Region=Macau<br>Lat=%{lat}<br>Long=%{lon}\", \"hovertext\": [\"Macau\"], \"lat\": [22.1987], \"legendgroup\": \"Country/Region=Macau\", \"lon\": [113.5439], \"marker\": {\"color\": \"#FF6692\"}, \"name\": \"Country/Region=Macau\", \"showlegend\": true, \"type\": \"scattergeo\"}, {\"geo\": \"geo\", \"hoverlabel\": {\"namelength\": 0}, \"hovertemplate\": \"<b>%{hovertext}</b><br><br>Country/Region=Hong Kong<br>Lat=%{lat}<br>Long=%{lon}\", \"hovertext\": [\"Hong Kong\"], \"lat\": [22.3193], \"legendgroup\": \"Country/Region=Hong Kong\", \"lon\": [114.1694], \"marker\": {\"color\": \"#B6E880\"}, \"name\": \"Country/Region=Hong Kong\", \"showlegend\": true, \"type\": \"scattergeo\"}, {\"geo\": \"geo\", \"hoverlabel\": {\"namelength\": 0}, \"hovertemplate\": \"<b>%{hovertext}</b><br><br>Country/Region=Singapore<br>Lat=%{lat}<br>Long=%{lon}\", \"hovertext\": [0], \"lat\": [1.3521], \"legendgroup\": \"Country/Region=Singapore\", \"lon\": [103.8198], \"marker\": {\"color\": \"#FF97FF\"}, \"name\": \"Country/Region=Singapore\", \"showlegend\": true, \"type\": \"scattergeo\"}, {\"geo\": \"geo\", \"hoverlabel\": {\"namelength\": 0}, \"hovertemplate\": \"<b>%{hovertext}</b><br><br>Country/Region=Vietnam<br>Lat=%{lat}<br>Long=%{lon}\", \"hovertext\": [0], \"lat\": [21.0278], \"legendgroup\": \"Country/Region=Vietnam\", \"lon\": [105.8342], \"marker\": {\"color\": \"#FECB52\"}, \"name\": \"Country/Region=Vietnam\", \"showlegend\": true, \"type\": \"scattergeo\"}, {\"geo\": \"geo\", \"hoverlabel\": {\"namelength\": 0}, \"hovertemplate\": \"<b>%{hovertext}</b><br><br>Country/Region=France<br>Lat=%{lat}<br>Long=%{lon}\", \"hovertext\": [0], \"lat\": [46.2276], \"legendgroup\": \"Country/Region=France\", \"lon\": [2.2137], \"marker\": {\"color\": \"#636efa\"}, \"name\": \"Country/Region=France\", \"showlegend\": true, \"type\": \"scattergeo\"}, {\"geo\": \"geo\", \"hoverlabel\": {\"namelength\": 0}, \"hovertemplate\": \"<b>%{hovertext}</b><br><br>Country/Region=Nepal<br>Lat=%{lat}<br>Long=%{lon}\", \"hovertext\": [0], \"lat\": [28.3949], \"legendgroup\": \"Country/Region=Nepal\", \"lon\": [84.124], \"marker\": {\"color\": \"#EF553B\"}, \"name\": \"Country/Region=Nepal\", \"showlegend\": true, \"type\": \"scattergeo\"}, {\"geo\": \"geo\", \"hoverlabel\": {\"namelength\": 0}, \"hovertemplate\": \"<b>%{hovertext}</b><br><br>Country/Region=Malaysia<br>Lat=%{lat}<br>Long=%{lon}\", \"hovertext\": [0], \"lat\": [4.2105], \"legendgroup\": \"Country/Region=Malaysia\", \"lon\": [101.9758], \"marker\": {\"color\": \"#00cc96\"}, \"name\": \"Country/Region=Malaysia\", \"showlegend\": true, \"type\": \"scattergeo\"}, {\"geo\": \"geo\", \"hoverlabel\": {\"namelength\": 0}, \"hovertemplate\": \"<b>%{hovertext}</b><br><br>Country/Region=Canada<br>Lat=%{lat}<br>Long=%{lon}\", \"hovertext\": [\"Toronto, ON\", \"British Columbia\", \"London, ON\"], \"lat\": [43.6532, 49.2827, 42.9849], \"legendgroup\": \"Country/Region=Canada\", \"lon\": [-79.3832, -123.12100000000001, -81.2453], \"marker\": {\"color\": \"#ab63fa\"}, \"name\": \"Country/Region=Canada\", \"showlegend\": true, \"type\": \"scattergeo\"}, {\"geo\": \"geo\", \"hoverlabel\": {\"namelength\": 0}, \"hovertemplate\": \"<b>%{hovertext}</b><br><br>Country/Region=Australia<br>Lat=%{lat}<br>Long=%{lon}\", \"hovertext\": [\"New South Wales\", \"Victoria\", \"Queensland\", \"South Australia\"], \"lat\": [-33.8688, -37.8136, -27.4698, -34.9285], \"legendgroup\": \"Country/Region=Australia\", \"lon\": [151.2093, 144.9631, 153.0251, 138.6007], \"marker\": {\"color\": \"#FFA15A\"}, \"name\": \"Country/Region=Australia\", \"showlegend\": true, \"type\": \"scattergeo\"}, {\"geo\": \"geo\", \"hoverlabel\": {\"namelength\": 0}, \"hovertemplate\": \"<b>%{hovertext}</b><br><br>Country/Region=Cambodia<br>Lat=%{lat}<br>Long=%{lon}\", \"hovertext\": [0], \"lat\": [12.5657], \"legendgroup\": \"Country/Region=Cambodia\", \"lon\": [104.991], \"marker\": {\"color\": \"#19d3f3\"}, \"name\": \"Country/Region=Cambodia\", \"showlegend\": true, \"type\": \"scattergeo\"}, {\"geo\": \"geo\", \"hoverlabel\": {\"namelength\": 0}, \"hovertemplate\": \"<b>%{hovertext}</b><br><br>Country/Region=Sri Lanka<br>Lat=%{lat}<br>Long=%{lon}\", \"hovertext\": [0], \"lat\": [7.8731], \"legendgroup\": \"Country/Region=Sri Lanka\", \"lon\": [80.7718], \"marker\": {\"color\": \"#FF6692\"}, \"name\": \"Country/Region=Sri Lanka\", \"showlegend\": true, \"type\": \"scattergeo\"}, {\"geo\": \"geo\", \"hoverlabel\": {\"namelength\": 0}, \"hovertemplate\": \"<b>%{hovertext}</b><br><br>Country/Region=Germany<br>Lat=%{lat}<br>Long=%{lon}\", \"hovertext\": [0], \"lat\": [51.1657], \"legendgroup\": \"Country/Region=Germany\", \"lon\": [10.4515], \"marker\": {\"color\": \"#B6E880\"}, \"name\": \"Country/Region=Germany\", \"showlegend\": true, \"type\": \"scattergeo\"}, {\"geo\": \"geo\", \"hoverlabel\": {\"namelength\": 0}, \"hovertemplate\": \"<b>%{hovertext}</b><br><br>Country/Region=Finland<br>Lat=%{lat}<br>Long=%{lon}\", \"hovertext\": [0], \"lat\": [61.9241], \"legendgroup\": \"Country/Region=Finland\", \"lon\": [25.7482], \"marker\": {\"color\": \"#FF97FF\"}, \"name\": \"Country/Region=Finland\", \"showlegend\": true, \"type\": \"scattergeo\"}, {\"geo\": \"geo\", \"hoverlabel\": {\"namelength\": 0}, \"hovertemplate\": \"<b>%{hovertext}</b><br><br>Country/Region=United Arab Emirates<br>Lat=%{lat}<br>Long=%{lon}\", \"hovertext\": [0], \"lat\": [23.4241], \"legendgroup\": \"Country/Region=United Arab Emirates\", \"lon\": [53.8478], \"marker\": {\"color\": \"#FECB52\"}, \"name\": \"Country/Region=United Arab Emirates\", \"showlegend\": true, \"type\": \"scattergeo\"}, {\"geo\": \"geo\", \"hoverlabel\": {\"namelength\": 0}, \"hovertemplate\": \"<b>%{hovertext}</b><br><br>Country/Region=Philippines<br>Lat=%{lat}<br>Long=%{lon}\", \"hovertext\": [0], \"lat\": [12.8797], \"legendgroup\": \"Country/Region=Philippines\", \"lon\": [121.774], \"marker\": {\"color\": \"#636efa\"}, \"name\": \"Country/Region=Philippines\", \"showlegend\": true, \"type\": \"scattergeo\"}, {\"geo\": \"geo\", \"hoverlabel\": {\"namelength\": 0}, \"hovertemplate\": \"<b>%{hovertext}</b><br><br>Country/Region=India<br>Lat=%{lat}<br>Long=%{lon}\", \"hovertext\": [0], \"lat\": [20.5937], \"legendgroup\": \"Country/Region=India\", \"lon\": [78.9629], \"marker\": {\"color\": \"#EF553B\"}, \"name\": \"Country/Region=India\", \"showlegend\": true, \"type\": \"scattergeo\"}, {\"geo\": \"geo\", \"hoverlabel\": {\"namelength\": 0}, \"hovertemplate\": \"<b>%{hovertext}</b><br><br>Country/Region=Italy<br>Lat=%{lat}<br>Long=%{lon}\", \"hovertext\": [0], \"lat\": [41.8719], \"legendgroup\": \"Country/Region=Italy\", \"lon\": [12.5674], \"marker\": {\"color\": \"#00cc96\"}, \"name\": \"Country/Region=Italy\", \"showlegend\": true, \"type\": \"scattergeo\"}, {\"geo\": \"geo\", \"hoverlabel\": {\"namelength\": 0}, \"hovertemplate\": \"<b>%{hovertext}</b><br><br>Country/Region=UK<br>Lat=%{lat}<br>Long=%{lon}\", \"hovertext\": [0], \"lat\": [55.3781], \"legendgroup\": \"Country/Region=UK\", \"lon\": [-3.4360000000000004], \"marker\": {\"color\": \"#ab63fa\"}, \"name\": \"Country/Region=UK\", \"showlegend\": true, \"type\": \"scattergeo\"}, {\"geo\": \"geo\", \"hoverlabel\": {\"namelength\": 0}, \"hovertemplate\": \"<b>%{hovertext}</b><br><br>Country/Region=Russia<br>Lat=%{lat}<br>Long=%{lon}\", \"hovertext\": [0], \"lat\": [61.523999999999994], \"legendgroup\": \"Country/Region=Russia\", \"lon\": [105.3188], \"marker\": {\"color\": \"#FFA15A\"}, \"name\": \"Country/Region=Russia\", \"showlegend\": true, \"type\": \"scattergeo\"}, {\"geo\": \"geo\", \"hoverlabel\": {\"namelength\": 0}, \"hovertemplate\": \"<b>%{hovertext}</b><br><br>Country/Region=Sweden<br>Lat=%{lat}<br>Long=%{lon}\", \"hovertext\": [0], \"lat\": [60.1282], \"legendgroup\": \"Country/Region=Sweden\", \"lon\": [18.6435], \"marker\": {\"color\": \"#19d3f3\"}, \"name\": \"Country/Region=Sweden\", \"showlegend\": true, \"type\": \"scattergeo\"}, {\"geo\": \"geo\", \"hoverlabel\": {\"namelength\": 0}, \"hovertemplate\": \"<b>%{hovertext}</b><br><br>Country/Region=Spain<br>Lat=%{lat}<br>Long=%{lon}\", \"hovertext\": [0], \"lat\": [40.4637], \"legendgroup\": \"Country/Region=Spain\", \"lon\": [-3.7492], \"marker\": {\"color\": \"#FF6692\"}, \"name\": \"Country/Region=Spain\", \"showlegend\": true, \"type\": \"scattergeo\"}, {\"geo\": \"geo\", \"hoverlabel\": {\"namelength\": 0}, \"hovertemplate\": \"<b>%{hovertext}</b><br><br>Country/Region=Belgium<br>Lat=%{lat}<br>Long=%{lon}\", \"hovertext\": [0], \"lat\": [50.5039], \"legendgroup\": \"Country/Region=Belgium\", \"lon\": [4.4699], \"marker\": {\"color\": \"#B6E880\"}, \"name\": \"Country/Region=Belgium\", \"showlegend\": true, \"type\": \"scattergeo\"}, {\"geo\": \"geo\", \"hoverlabel\": {\"namelength\": 0}, \"hovertemplate\": \"<b>%{hovertext}</b><br><br>Country/Region=Others<br>Lat=%{lat}<br>Long=%{lon}\", \"hovertext\": [\"Diamond Princess cruise ship\"], \"lat\": [35.4437], \"legendgroup\": \"Country/Region=Others\", \"lon\": [129.638], \"marker\": {\"color\": \"#FF97FF\"}, \"name\": \"Country/Region=Others\", \"showlegend\": true, \"type\": \"scattergeo\"}],\n",
              "                        {\"geo\": {\"center\": {}, \"domain\": {\"x\": [0.0, 1.0], \"y\": [0.0, 1.0]}, \"projection\": {\"type\": \"natural earth\"}}, \"legend\": {\"tracegroupgap\": 0}, \"margin\": {\"t\": 60}, \"template\": {\"data\": {\"bar\": [{\"error_x\": {\"color\": \"#2a3f5f\"}, \"error_y\": {\"color\": \"#2a3f5f\"}, \"marker\": {\"line\": {\"color\": \"#E5ECF6\", \"width\": 0.5}}, \"type\": \"bar\"}], \"barpolar\": [{\"marker\": {\"line\": {\"color\": \"#E5ECF6\", \"width\": 0.5}}, \"type\": \"barpolar\"}], \"carpet\": [{\"aaxis\": {\"endlinecolor\": \"#2a3f5f\", \"gridcolor\": \"white\", \"linecolor\": \"white\", \"minorgridcolor\": \"white\", \"startlinecolor\": \"#2a3f5f\"}, \"baxis\": {\"endlinecolor\": \"#2a3f5f\", \"gridcolor\": \"white\", \"linecolor\": \"white\", \"minorgridcolor\": \"white\", \"startlinecolor\": \"#2a3f5f\"}, \"type\": \"carpet\"}], \"choropleth\": [{\"colorbar\": {\"outlinewidth\": 0, \"ticks\": \"\"}, \"type\": \"choropleth\"}], \"contour\": [{\"colorbar\": {\"outlinewidth\": 0, \"ticks\": \"\"}, \"colorscale\": [[0.0, \"#0d0887\"], [0.1111111111111111, \"#46039f\"], [0.2222222222222222, \"#7201a8\"], [0.3333333333333333, \"#9c179e\"], [0.4444444444444444, \"#bd3786\"], [0.5555555555555556, \"#d8576b\"], [0.6666666666666666, \"#ed7953\"], [0.7777777777777778, \"#fb9f3a\"], [0.8888888888888888, \"#fdca26\"], [1.0, \"#f0f921\"]], \"type\": \"contour\"}], \"contourcarpet\": [{\"colorbar\": {\"outlinewidth\": 0, \"ticks\": \"\"}, \"type\": \"contourcarpet\"}], \"heatmap\": [{\"colorbar\": {\"outlinewidth\": 0, \"ticks\": \"\"}, \"colorscale\": [[0.0, \"#0d0887\"], [0.1111111111111111, \"#46039f\"], [0.2222222222222222, \"#7201a8\"], [0.3333333333333333, \"#9c179e\"], [0.4444444444444444, \"#bd3786\"], [0.5555555555555556, \"#d8576b\"], [0.6666666666666666, \"#ed7953\"], [0.7777777777777778, \"#fb9f3a\"], [0.8888888888888888, \"#fdca26\"], [1.0, \"#f0f921\"]], \"type\": \"heatmap\"}], \"heatmapgl\": [{\"colorbar\": {\"outlinewidth\": 0, \"ticks\": \"\"}, \"colorscale\": [[0.0, \"#0d0887\"], [0.1111111111111111, \"#46039f\"], [0.2222222222222222, \"#7201a8\"], [0.3333333333333333, \"#9c179e\"], [0.4444444444444444, \"#bd3786\"], [0.5555555555555556, \"#d8576b\"], [0.6666666666666666, \"#ed7953\"], [0.7777777777777778, \"#fb9f3a\"], [0.8888888888888888, \"#fdca26\"], [1.0, \"#f0f921\"]], \"type\": \"heatmapgl\"}], \"histogram\": [{\"marker\": {\"colorbar\": {\"outlinewidth\": 0, \"ticks\": \"\"}}, \"type\": \"histogram\"}], \"histogram2d\": [{\"colorbar\": {\"outlinewidth\": 0, \"ticks\": \"\"}, \"colorscale\": [[0.0, \"#0d0887\"], [0.1111111111111111, \"#46039f\"], [0.2222222222222222, \"#7201a8\"], [0.3333333333333333, \"#9c179e\"], [0.4444444444444444, \"#bd3786\"], [0.5555555555555556, \"#d8576b\"], [0.6666666666666666, \"#ed7953\"], [0.7777777777777778, \"#fb9f3a\"], [0.8888888888888888, \"#fdca26\"], [1.0, \"#f0f921\"]], \"type\": \"histogram2d\"}], \"histogram2dcontour\": [{\"colorbar\": {\"outlinewidth\": 0, \"ticks\": \"\"}, \"colorscale\": [[0.0, \"#0d0887\"], [0.1111111111111111, \"#46039f\"], [0.2222222222222222, \"#7201a8\"], [0.3333333333333333, \"#9c179e\"], [0.4444444444444444, \"#bd3786\"], [0.5555555555555556, \"#d8576b\"], [0.6666666666666666, \"#ed7953\"], [0.7777777777777778, \"#fb9f3a\"], [0.8888888888888888, \"#fdca26\"], [1.0, \"#f0f921\"]], \"type\": \"histogram2dcontour\"}], \"mesh3d\": [{\"colorbar\": {\"outlinewidth\": 0, \"ticks\": \"\"}, \"type\": \"mesh3d\"}], \"parcoords\": [{\"line\": {\"colorbar\": {\"outlinewidth\": 0, \"ticks\": \"\"}}, \"type\": \"parcoords\"}], \"pie\": [{\"automargin\": true, \"type\": \"pie\"}], \"scatter\": [{\"marker\": {\"colorbar\": {\"outlinewidth\": 0, \"ticks\": \"\"}}, \"type\": \"scatter\"}], \"scatter3d\": [{\"line\": {\"colorbar\": {\"outlinewidth\": 0, \"ticks\": \"\"}}, \"marker\": {\"colorbar\": {\"outlinewidth\": 0, \"ticks\": \"\"}}, \"type\": \"scatter3d\"}], \"scattercarpet\": [{\"marker\": {\"colorbar\": {\"outlinewidth\": 0, \"ticks\": \"\"}}, \"type\": \"scattercarpet\"}], \"scattergeo\": [{\"marker\": {\"colorbar\": {\"outlinewidth\": 0, \"ticks\": \"\"}}, \"type\": \"scattergeo\"}], \"scattergl\": [{\"marker\": {\"colorbar\": {\"outlinewidth\": 0, \"ticks\": \"\"}}, \"type\": \"scattergl\"}], \"scattermapbox\": [{\"marker\": {\"colorbar\": {\"outlinewidth\": 0, \"ticks\": \"\"}}, \"type\": \"scattermapbox\"}], \"scatterpolar\": [{\"marker\": {\"colorbar\": {\"outlinewidth\": 0, \"ticks\": \"\"}}, \"type\": \"scatterpolar\"}], \"scatterpolargl\": [{\"marker\": {\"colorbar\": {\"outlinewidth\": 0, \"ticks\": \"\"}}, \"type\": \"scatterpolargl\"}], \"scatterternary\": [{\"marker\": {\"colorbar\": {\"outlinewidth\": 0, \"ticks\": \"\"}}, \"type\": \"scatterternary\"}], \"surface\": [{\"colorbar\": {\"outlinewidth\": 0, \"ticks\": \"\"}, \"colorscale\": [[0.0, \"#0d0887\"], [0.1111111111111111, \"#46039f\"], [0.2222222222222222, \"#7201a8\"], [0.3333333333333333, \"#9c179e\"], [0.4444444444444444, \"#bd3786\"], [0.5555555555555556, \"#d8576b\"], [0.6666666666666666, \"#ed7953\"], [0.7777777777777778, \"#fb9f3a\"], [0.8888888888888888, \"#fdca26\"], [1.0, \"#f0f921\"]], \"type\": \"surface\"}], \"table\": [{\"cells\": {\"fill\": {\"color\": \"#EBF0F8\"}, \"line\": {\"color\": \"white\"}}, \"header\": {\"fill\": {\"color\": \"#C8D4E3\"}, \"line\": {\"color\": \"white\"}}, \"type\": \"table\"}]}, \"layout\": {\"annotationdefaults\": {\"arrowcolor\": \"#2a3f5f\", \"arrowhead\": 0, \"arrowwidth\": 1}, \"coloraxis\": {\"colorbar\": {\"outlinewidth\": 0, \"ticks\": \"\"}}, \"colorscale\": {\"diverging\": [[0, \"#8e0152\"], [0.1, \"#c51b7d\"], [0.2, \"#de77ae\"], [0.3, \"#f1b6da\"], [0.4, \"#fde0ef\"], [0.5, \"#f7f7f7\"], [0.6, \"#e6f5d0\"], [0.7, \"#b8e186\"], [0.8, \"#7fbc41\"], [0.9, \"#4d9221\"], [1, \"#276419\"]], \"sequential\": [[0.0, \"#0d0887\"], [0.1111111111111111, \"#46039f\"], [0.2222222222222222, \"#7201a8\"], [0.3333333333333333, \"#9c179e\"], [0.4444444444444444, \"#bd3786\"], [0.5555555555555556, \"#d8576b\"], [0.6666666666666666, \"#ed7953\"], [0.7777777777777778, \"#fb9f3a\"], [0.8888888888888888, \"#fdca26\"], [1.0, \"#f0f921\"]], \"sequentialminus\": [[0.0, \"#0d0887\"], [0.1111111111111111, \"#46039f\"], [0.2222222222222222, \"#7201a8\"], [0.3333333333333333, \"#9c179e\"], [0.4444444444444444, \"#bd3786\"], [0.5555555555555556, \"#d8576b\"], [0.6666666666666666, \"#ed7953\"], [0.7777777777777778, \"#fb9f3a\"], [0.8888888888888888, \"#fdca26\"], [1.0, \"#f0f921\"]]}, \"colorway\": [\"#636efa\", \"#EF553B\", \"#00cc96\", \"#ab63fa\", \"#FFA15A\", \"#19d3f3\", \"#FF6692\", \"#B6E880\", \"#FF97FF\", \"#FECB52\"], \"font\": {\"color\": \"#2a3f5f\"}, \"geo\": {\"bgcolor\": \"white\", \"lakecolor\": \"white\", \"landcolor\": \"#E5ECF6\", \"showlakes\": true, \"showland\": true, \"subunitcolor\": \"white\"}, \"hoverlabel\": {\"align\": \"left\"}, \"hovermode\": \"closest\", \"mapbox\": {\"style\": \"light\"}, \"paper_bgcolor\": \"white\", \"plot_bgcolor\": \"#E5ECF6\", \"polar\": {\"angularaxis\": {\"gridcolor\": \"white\", \"linecolor\": \"white\", \"ticks\": \"\"}, \"bgcolor\": \"#E5ECF6\", \"radialaxis\": {\"gridcolor\": \"white\", \"linecolor\": \"white\", \"ticks\": \"\"}}, \"scene\": {\"xaxis\": {\"backgroundcolor\": \"#E5ECF6\", \"gridcolor\": \"white\", \"gridwidth\": 2, \"linecolor\": \"white\", \"showbackground\": true, \"ticks\": \"\", \"zerolinecolor\": \"white\"}, \"yaxis\": {\"backgroundcolor\": \"#E5ECF6\", \"gridcolor\": \"white\", \"gridwidth\": 2, \"linecolor\": \"white\", \"showbackground\": true, \"ticks\": \"\", \"zerolinecolor\": \"white\"}, \"zaxis\": {\"backgroundcolor\": \"#E5ECF6\", \"gridcolor\": \"white\", \"gridwidth\": 2, \"linecolor\": \"white\", \"showbackground\": true, \"ticks\": \"\", \"zerolinecolor\": \"white\"}}, \"shapedefaults\": {\"line\": {\"color\": \"#2a3f5f\"}}, \"ternary\": {\"aaxis\": {\"gridcolor\": \"white\", \"linecolor\": \"white\", \"ticks\": \"\"}, \"baxis\": {\"gridcolor\": \"white\", \"linecolor\": \"white\", \"ticks\": \"\"}, \"bgcolor\": \"#E5ECF6\", \"caxis\": {\"gridcolor\": \"white\", \"linecolor\": \"white\", \"ticks\": \"\"}}, \"title\": {\"x\": 0.05}, \"xaxis\": {\"automargin\": true, \"gridcolor\": \"white\", \"linecolor\": \"white\", \"ticks\": \"\", \"title\": {\"standoff\": 15}, \"zerolinecolor\": \"white\", \"zerolinewidth\": 2}, \"yaxis\": {\"automargin\": true, \"gridcolor\": \"white\", \"linecolor\": \"white\", \"ticks\": \"\", \"title\": {\"standoff\": 15}, \"zerolinecolor\": \"white\", \"zerolinewidth\": 2}}}},\n",
              "                        {\"responsive\": true}\n",
              "                    ).then(function(){\n",
              "                            \n",
              "var gd = document.getElementById('7039f63a-d8ae-4aa4-b9b4-6eba0a0cc2d9');\n",
              "var x = new MutationObserver(function (mutations, observer) {{\n",
              "        var display = window.getComputedStyle(gd).display;\n",
              "        if (!display || display === 'none') {{\n",
              "            console.log([gd, 'removed!']);\n",
              "            Plotly.purge(gd);\n",
              "            observer.disconnect();\n",
              "        }}\n",
              "}});\n",
              "\n",
              "// Listen for the removal of the full notebook cells\n",
              "var notebookContainer = gd.closest('#notebook-container');\n",
              "if (notebookContainer) {{\n",
              "    x.observe(notebookContainer, {childList: true});\n",
              "}}\n",
              "\n",
              "// Listen for the clearing of the current output cell\n",
              "var outputEl = gd.closest('.output');\n",
              "if (outputEl) {{\n",
              "    x.observe(outputEl, {childList: true});\n",
              "}}\n",
              "\n",
              "                        })\n",
              "                };\n",
              "                \n",
              "            </script>\n",
              "        </div>\n",
              "</body>\n",
              "</html>"
            ]
          },
          "metadata": {
            "tags": []
          }
        }
      ]
    },
    {
      "cell_type": "code",
      "metadata": {
        "id": "h1B_GVyMW5Ft",
        "colab_type": "code",
        "colab": {}
      },
      "source": [
        ""
      ],
      "execution_count": 0,
      "outputs": []
    },
    {
      "cell_type": "code",
      "metadata": {
        "id": "KzTTaCTJW5DX",
        "colab_type": "code",
        "colab": {}
      },
      "source": [
        ""
      ],
      "execution_count": 0,
      "outputs": []
    },
    {
      "cell_type": "code",
      "metadata": {
        "id": "4rY0h3ztW5Aw",
        "colab_type": "code",
        "colab": {}
      },
      "source": [
        ""
      ],
      "execution_count": 0,
      "outputs": []
    }
  ]
}