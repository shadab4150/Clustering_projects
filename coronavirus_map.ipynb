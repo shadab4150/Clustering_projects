{
  "nbformat": 4,
  "nbformat_minor": 0,
  "metadata": {
    "colab": {
      "name": "coronavirus_map.ipynb",
      "provenance": [],
      "collapsed_sections": [],
      "authorship_tag": "ABX9TyOq/Js4DfeFUbmCVPnsYbBy",
      "include_colab_link": true
    },
    "kernelspec": {
      "name": "python3",
      "display_name": "Python 3"
    }
  },
  "cells": [
    {
      "cell_type": "markdown",
      "metadata": {
        "id": "view-in-github",
        "colab_type": "text"
      },
      "source": [
        "<a href=\"https://colab.research.google.com/github/shadab4150/practice_projects/blob/master/coronavirus_map.ipynb\" target=\"_parent\"><img src=\"https://colab.research.google.com/assets/colab-badge.svg\" alt=\"Open In Colab\"/></a>"
      ]
    },
    {
      "cell_type": "code",
      "metadata": {
        "id": "oAMVZH3BPH84",
        "colab_type": "code",
        "colab": {
          "base_uri": "https://localhost:8080/",
          "height": 102
        },
        "outputId": "951f0b9a-7cab-4773-c2a5-f13ed4680535"
      },
      "source": [
        "!unzip '/content/novel-corona-virus-2019-dataset.zip' -d '/content/corona/'"
      ],
      "execution_count": 1,
      "outputs": [
        {
          "output_type": "stream",
          "text": [
            "Archive:  /content/novel-corona-virus-2019-dataset.zip\n",
            "  inflating: /content/corona/2019_nCoV_data.csv  \n",
            "  inflating: /content/corona/time_series_2019_ncov_confirmed.csv  \n",
            "  inflating: /content/corona/time_series_2019_ncov_deaths.csv  \n",
            "  inflating: /content/corona/time_series_2019_ncov_recovered.csv  \n"
          ],
          "name": "stdout"
        }
      ]
    },
    {
      "cell_type": "code",
      "metadata": {
        "id": "zAv2t14SP6fX",
        "colab_type": "code",
        "colab": {}
      },
      "source": [
        "import pandas as pd\n",
        "import seaborn as sns\n",
        "import matplotlib.pyplot as plt\n",
        "from tqdm import tqdm\n",
        "import plotly.express as px\n",
        "import numpy as np"
      ],
      "execution_count": 0,
      "outputs": []
    },
    {
      "cell_type": "code",
      "metadata": {
        "id": "BTRUYpYfQK-b",
        "colab_type": "code",
        "colab": {}
      },
      "source": [
        "df = pd.read_csv('/content/2019_nC0v_20200121_20200126_cleaned.csv')"
      ],
      "execution_count": 0,
      "outputs": []
    },
    {
      "cell_type": "code",
      "metadata": {
        "id": "G1Wpnt9WQOSO",
        "colab_type": "code",
        "colab": {
          "base_uri": "https://localhost:8080/",
          "height": 204
        },
        "outputId": "9b908bd7-3efa-4bd6-bf31-dc057bcf9418"
      },
      "source": [
        "df.head()"
      ],
      "execution_count": 4,
      "outputs": [
        {
          "output_type": "execute_result",
          "data": {
            "text/html": [
              "<div>\n",
              "<style scoped>\n",
              "    .dataframe tbody tr th:only-of-type {\n",
              "        vertical-align: middle;\n",
              "    }\n",
              "\n",
              "    .dataframe tbody tr th {\n",
              "        vertical-align: top;\n",
              "    }\n",
              "\n",
              "    .dataframe thead th {\n",
              "        text-align: right;\n",
              "    }\n",
              "</style>\n",
              "<table border=\"1\" class=\"dataframe\">\n",
              "  <thead>\n",
              "    <tr style=\"text-align: right;\">\n",
              "      <th></th>\n",
              "      <th>Unnamed: 0</th>\n",
              "      <th>Province/State</th>\n",
              "      <th>Country</th>\n",
              "      <th>Date last updated</th>\n",
              "      <th>Confirmed</th>\n",
              "      <th>Suspected</th>\n",
              "      <th>Recovered</th>\n",
              "      <th>Deaths</th>\n",
              "    </tr>\n",
              "  </thead>\n",
              "  <tbody>\n",
              "    <tr>\n",
              "      <th>0</th>\n",
              "      <td>0</td>\n",
              "      <td>Shanghai</td>\n",
              "      <td>Mainland China</td>\n",
              "      <td>1/21/2020</td>\n",
              "      <td>9.0</td>\n",
              "      <td>10.0</td>\n",
              "      <td>0.0</td>\n",
              "      <td>0.0</td>\n",
              "    </tr>\n",
              "    <tr>\n",
              "      <th>1</th>\n",
              "      <td>1</td>\n",
              "      <td>Yunnan</td>\n",
              "      <td>Mainland China</td>\n",
              "      <td>1/21/2020</td>\n",
              "      <td>1.0</td>\n",
              "      <td>0.0</td>\n",
              "      <td>0.0</td>\n",
              "      <td>0.0</td>\n",
              "    </tr>\n",
              "    <tr>\n",
              "      <th>2</th>\n",
              "      <td>2</td>\n",
              "      <td>Beijing</td>\n",
              "      <td>Mainland China</td>\n",
              "      <td>1/21/2020</td>\n",
              "      <td>10.0</td>\n",
              "      <td>0.0</td>\n",
              "      <td>0.0</td>\n",
              "      <td>0.0</td>\n",
              "    </tr>\n",
              "    <tr>\n",
              "      <th>3</th>\n",
              "      <td>3</td>\n",
              "      <td>Taiwan</td>\n",
              "      <td>Taiwan</td>\n",
              "      <td>1/21/2020</td>\n",
              "      <td>1.0</td>\n",
              "      <td>0.0</td>\n",
              "      <td>0.0</td>\n",
              "      <td>0.0</td>\n",
              "    </tr>\n",
              "    <tr>\n",
              "      <th>4</th>\n",
              "      <td>4</td>\n",
              "      <td>Jilin</td>\n",
              "      <td>Mainland China</td>\n",
              "      <td>1/21/2020</td>\n",
              "      <td>0.0</td>\n",
              "      <td>1.0</td>\n",
              "      <td>0.0</td>\n",
              "      <td>0.0</td>\n",
              "    </tr>\n",
              "  </tbody>\n",
              "</table>\n",
              "</div>"
            ],
            "text/plain": [
              "   Unnamed: 0 Province/State         Country  ... Suspected  Recovered  Deaths\n",
              "0           0       Shanghai  Mainland China  ...      10.0        0.0     0.0\n",
              "1           1         Yunnan  Mainland China  ...       0.0        0.0     0.0\n",
              "2           2        Beijing  Mainland China  ...       0.0        0.0     0.0\n",
              "3           3         Taiwan          Taiwan  ...       0.0        0.0     0.0\n",
              "4           4          Jilin  Mainland China  ...       1.0        0.0     0.0\n",
              "\n",
              "[5 rows x 8 columns]"
            ]
          },
          "metadata": {
            "tags": []
          },
          "execution_count": 4
        }
      ]
    },
    {
      "cell_type": "code",
      "metadata": {
        "id": "3ok3IkUtQwGW",
        "colab_type": "code",
        "colab": {
          "base_uri": "https://localhost:8080/",
          "height": 68
        },
        "outputId": "b33c18cf-9199-4df6-c481-483965dcffe4"
      },
      "source": [
        "df.columns"
      ],
      "execution_count": 9,
      "outputs": [
        {
          "output_type": "execute_result",
          "data": {
            "text/plain": [
              "Index(['Unnamed: 0', 'Province/State', 'Country', 'Date last updated',\n",
              "       'Confirmed', 'Suspected', 'Recovered', 'Deaths'],\n",
              "      dtype='object')"
            ]
          },
          "metadata": {
            "tags": []
          },
          "execution_count": 9
        }
      ]
    },
    {
      "cell_type": "code",
      "metadata": {
        "id": "1vEOrc3FQmwv",
        "colab_type": "code",
        "colab": {}
      },
      "source": [
        "country=df[['Country','Confirmed', 'Suspected', 'Recovered', 'Deaths']].groupby(['Country']).agg({'Confirmed':'sum','Suspected':'sum','Recovered':'sum','Deaths':'sum'})"
      ],
      "execution_count": 0,
      "outputs": []
    },
    {
      "cell_type": "code",
      "metadata": {
        "id": "LQfgDzBwRT9y",
        "colab_type": "code",
        "colab": {}
      },
      "source": [
        "country.reset_index(inplace=True,)"
      ],
      "execution_count": 0,
      "outputs": []
    },
    {
      "cell_type": "code",
      "metadata": {
        "id": "4VEwX7JZReJb",
        "colab_type": "code",
        "colab": {
          "base_uri": "https://localhost:8080/",
          "height": 638
        },
        "outputId": "d875722e-b093-443a-f126-eb907032040e"
      },
      "source": [
        "country"
      ],
      "execution_count": 19,
      "outputs": [
        {
          "output_type": "execute_result",
          "data": {
            "text/html": [
              "<div>\n",
              "<style scoped>\n",
              "    .dataframe tbody tr th:only-of-type {\n",
              "        vertical-align: middle;\n",
              "    }\n",
              "\n",
              "    .dataframe tbody tr th {\n",
              "        vertical-align: top;\n",
              "    }\n",
              "\n",
              "    .dataframe thead th {\n",
              "        text-align: right;\n",
              "    }\n",
              "</style>\n",
              "<table border=\"1\" class=\"dataframe\">\n",
              "  <thead>\n",
              "    <tr style=\"text-align: right;\">\n",
              "      <th></th>\n",
              "      <th>Country</th>\n",
              "      <th>Confirmed</th>\n",
              "      <th>Suspected</th>\n",
              "      <th>Recovered</th>\n",
              "      <th>Deaths</th>\n",
              "    </tr>\n",
              "  </thead>\n",
              "  <tbody>\n",
              "    <tr>\n",
              "      <th>0</th>\n",
              "      <td>Australia</td>\n",
              "      <td>13.0</td>\n",
              "      <td>1.0</td>\n",
              "      <td>0.0</td>\n",
              "      <td>0.0</td>\n",
              "    </tr>\n",
              "    <tr>\n",
              "      <th>1</th>\n",
              "      <td>Brazil</td>\n",
              "      <td>0.0</td>\n",
              "      <td>1.0</td>\n",
              "      <td>0.0</td>\n",
              "      <td>0.0</td>\n",
              "    </tr>\n",
              "    <tr>\n",
              "      <th>2</th>\n",
              "      <td>Canada</td>\n",
              "      <td>1.0</td>\n",
              "      <td>0.0</td>\n",
              "      <td>0.0</td>\n",
              "      <td>0.0</td>\n",
              "    </tr>\n",
              "    <tr>\n",
              "      <th>3</th>\n",
              "      <td>Colombia</td>\n",
              "      <td>0.0</td>\n",
              "      <td>1.0</td>\n",
              "      <td>0.0</td>\n",
              "      <td>0.0</td>\n",
              "    </tr>\n",
              "    <tr>\n",
              "      <th>4</th>\n",
              "      <td>France</td>\n",
              "      <td>14.0</td>\n",
              "      <td>0.0</td>\n",
              "      <td>0.0</td>\n",
              "      <td>0.0</td>\n",
              "    </tr>\n",
              "    <tr>\n",
              "      <th>5</th>\n",
              "      <td>Hong Kong</td>\n",
              "      <td>29.0</td>\n",
              "      <td>1139.0</td>\n",
              "      <td>0.0</td>\n",
              "      <td>0.0</td>\n",
              "    </tr>\n",
              "    <tr>\n",
              "      <th>6</th>\n",
              "      <td>Japan</td>\n",
              "      <td>18.0</td>\n",
              "      <td>0.0</td>\n",
              "      <td>1.0</td>\n",
              "      <td>0.0</td>\n",
              "    </tr>\n",
              "    <tr>\n",
              "      <th>7</th>\n",
              "      <td>Macau</td>\n",
              "      <td>18.0</td>\n",
              "      <td>0.0</td>\n",
              "      <td>0.0</td>\n",
              "      <td>0.0</td>\n",
              "    </tr>\n",
              "    <tr>\n",
              "      <th>8</th>\n",
              "      <td>Mainland China</td>\n",
              "      <td>10053.0</td>\n",
              "      <td>839.0</td>\n",
              "      <td>275.0</td>\n",
              "      <td>265.0</td>\n",
              "    </tr>\n",
              "    <tr>\n",
              "      <th>9</th>\n",
              "      <td>Malaysia</td>\n",
              "      <td>13.0</td>\n",
              "      <td>4.0</td>\n",
              "      <td>0.0</td>\n",
              "      <td>0.0</td>\n",
              "    </tr>\n",
              "    <tr>\n",
              "      <th>10</th>\n",
              "      <td>Mexico</td>\n",
              "      <td>0.0</td>\n",
              "      <td>1.0</td>\n",
              "      <td>0.0</td>\n",
              "      <td>0.0</td>\n",
              "    </tr>\n",
              "    <tr>\n",
              "      <th>11</th>\n",
              "      <td>Nepal</td>\n",
              "      <td>4.0</td>\n",
              "      <td>0.0</td>\n",
              "      <td>0.0</td>\n",
              "      <td>0.0</td>\n",
              "    </tr>\n",
              "    <tr>\n",
              "      <th>12</th>\n",
              "      <td>Philippines</td>\n",
              "      <td>0.0</td>\n",
              "      <td>4.0</td>\n",
              "      <td>0.0</td>\n",
              "      <td>0.0</td>\n",
              "    </tr>\n",
              "    <tr>\n",
              "      <th>13</th>\n",
              "      <td>Singapore</td>\n",
              "      <td>18.0</td>\n",
              "      <td>0.0</td>\n",
              "      <td>0.0</td>\n",
              "      <td>0.0</td>\n",
              "    </tr>\n",
              "    <tr>\n",
              "      <th>14</th>\n",
              "      <td>South Korea</td>\n",
              "      <td>16.0</td>\n",
              "      <td>0.0</td>\n",
              "      <td>0.0</td>\n",
              "      <td>0.0</td>\n",
              "    </tr>\n",
              "    <tr>\n",
              "      <th>15</th>\n",
              "      <td>Taiwan</td>\n",
              "      <td>20.0</td>\n",
              "      <td>0.0</td>\n",
              "      <td>0.0</td>\n",
              "      <td>0.0</td>\n",
              "    </tr>\n",
              "    <tr>\n",
              "      <th>16</th>\n",
              "      <td>Thailand</td>\n",
              "      <td>43.0</td>\n",
              "      <td>0.0</td>\n",
              "      <td>2.0</td>\n",
              "      <td>0.0</td>\n",
              "    </tr>\n",
              "    <tr>\n",
              "      <th>17</th>\n",
              "      <td>United States</td>\n",
              "      <td>15.0</td>\n",
              "      <td>0.0</td>\n",
              "      <td>0.0</td>\n",
              "      <td>0.0</td>\n",
              "    </tr>\n",
              "    <tr>\n",
              "      <th>18</th>\n",
              "      <td>Vietnam</td>\n",
              "      <td>14.0</td>\n",
              "      <td>0.0</td>\n",
              "      <td>0.0</td>\n",
              "      <td>0.0</td>\n",
              "    </tr>\n",
              "  </tbody>\n",
              "</table>\n",
              "</div>"
            ],
            "text/plain": [
              "           Country  Confirmed  Suspected  Recovered  Deaths\n",
              "0        Australia       13.0        1.0        0.0     0.0\n",
              "1           Brazil        0.0        1.0        0.0     0.0\n",
              "2           Canada        1.0        0.0        0.0     0.0\n",
              "3         Colombia        0.0        1.0        0.0     0.0\n",
              "4           France       14.0        0.0        0.0     0.0\n",
              "5        Hong Kong       29.0     1139.0        0.0     0.0\n",
              "6            Japan       18.0        0.0        1.0     0.0\n",
              "7            Macau       18.0        0.0        0.0     0.0\n",
              "8   Mainland China    10053.0      839.0      275.0   265.0\n",
              "9         Malaysia       13.0        4.0        0.0     0.0\n",
              "10          Mexico        0.0        1.0        0.0     0.0\n",
              "11           Nepal        4.0        0.0        0.0     0.0\n",
              "12     Philippines        0.0        4.0        0.0     0.0\n",
              "13       Singapore       18.0        0.0        0.0     0.0\n",
              "14     South Korea       16.0        0.0        0.0     0.0\n",
              "15          Taiwan       20.0        0.0        0.0     0.0\n",
              "16        Thailand       43.0        0.0        2.0     0.0\n",
              "17   United States       15.0        0.0        0.0     0.0\n",
              "18         Vietnam       14.0        0.0        0.0     0.0"
            ]
          },
          "metadata": {
            "tags": []
          },
          "execution_count": 19
        }
      ]
    },
    {
      "cell_type": "code",
      "metadata": {
        "id": "VG13YlGmQPbV",
        "colab_type": "code",
        "colab": {
          "base_uri": "https://localhost:8080/",
          "height": 530
        },
        "outputId": "7eec30b8-c32f-4dbf-ba7d-9e27927259b5"
      },
      "source": [
        "plt.figure(1,figsize=(20,8))\n",
        "plt.subplot(121)\n",
        "sns.barplot(data=country,y='Country',x='Confirmed');\n",
        "plt.title('Confirmed Cases')\n",
        "plt.xlim(0,80)\n",
        "plt.subplot(122)\n",
        "sns.barplot(data=country,y='Country',x='Suspected');\n",
        "plt.title('Suspected cases')\n",
        "plt.xlim(0,80)"
      ],
      "execution_count": 29,
      "outputs": [
        {
          "output_type": "execute_result",
          "data": {
            "text/plain": [
              "(0, 80)"
            ]
          },
          "metadata": {
            "tags": []
          },
          "execution_count": 29
        },
        {
          "output_type": "display_data",
          "data": {
            "image/png": "[encoded data removed]",
            "text/plain": [
              "<Figure size 1440x576 with 2 Axes>"
            ]
          },
          "metadata": {
            "tags": []
          }
        }
      ]
    },
    {
      "cell_type": "code",
      "metadata": {
        "id": "-yJb6YSNTX4g",
        "colab_type": "code",
        "colab": {}
      },
      "source": [
        "'Country','Confirmed', 'Suspected', 'Recovered', 'Deaths'"
      ],
      "execution_count": 0,
      "outputs": []
    },
    {
      "cell_type": "code",
      "metadata": {
        "id": "8BrWsDnwTYAd",
        "colab_type": "code",
        "colab": {
          "base_uri": "https://localhost:8080/",
          "height": 204
        },
        "outputId": "1f54b1cd-c5ac-47e6-c66d-d09f5e01d566"
      },
      "source": [
        "china=df[df['Country']=='Mainland China'].copy()\n",
        "china.head()"
      ],
      "execution_count": 33,
      "outputs": [
        {
          "output_type": "execute_result",
          "data": {
            "text/html": [
              "<div>\n",
              "<style scoped>\n",
              "    .dataframe tbody tr th:only-of-type {\n",
              "        vertical-align: middle;\n",
              "    }\n",
              "\n",
              "    .dataframe tbody tr th {\n",
              "        vertical-align: top;\n",
              "    }\n",
              "\n",
              "    .dataframe thead th {\n",
              "        text-align: right;\n",
              "    }\n",
              "</style>\n",
              "<table border=\"1\" class=\"dataframe\">\n",
              "  <thead>\n",
              "    <tr style=\"text-align: right;\">\n",
              "      <th></th>\n",
              "      <th>Unnamed: 0</th>\n",
              "      <th>Province/State</th>\n",
              "      <th>Country</th>\n",
              "      <th>Date last updated</th>\n",
              "      <th>Confirmed</th>\n",
              "      <th>Suspected</th>\n",
              "      <th>Recovered</th>\n",
              "      <th>Deaths</th>\n",
              "    </tr>\n",
              "  </thead>\n",
              "  <tbody>\n",
              "    <tr>\n",
              "      <th>0</th>\n",
              "      <td>0</td>\n",
              "      <td>Shanghai</td>\n",
              "      <td>Mainland China</td>\n",
              "      <td>1/21/2020</td>\n",
              "      <td>9.0</td>\n",
              "      <td>10.0</td>\n",
              "      <td>0.0</td>\n",
              "      <td>0.0</td>\n",
              "    </tr>\n",
              "    <tr>\n",
              "      <th>1</th>\n",
              "      <td>1</td>\n",
              "      <td>Yunnan</td>\n",
              "      <td>Mainland China</td>\n",
              "      <td>1/21/2020</td>\n",
              "      <td>1.0</td>\n",
              "      <td>0.0</td>\n",
              "      <td>0.0</td>\n",
              "      <td>0.0</td>\n",
              "    </tr>\n",
              "    <tr>\n",
              "      <th>2</th>\n",
              "      <td>2</td>\n",
              "      <td>Beijing</td>\n",
              "      <td>Mainland China</td>\n",
              "      <td>1/21/2020</td>\n",
              "      <td>10.0</td>\n",
              "      <td>0.0</td>\n",
              "      <td>0.0</td>\n",
              "      <td>0.0</td>\n",
              "    </tr>\n",
              "    <tr>\n",
              "      <th>4</th>\n",
              "      <td>4</td>\n",
              "      <td>Jilin</td>\n",
              "      <td>Mainland China</td>\n",
              "      <td>1/21/2020</td>\n",
              "      <td>0.0</td>\n",
              "      <td>1.0</td>\n",
              "      <td>0.0</td>\n",
              "      <td>0.0</td>\n",
              "    </tr>\n",
              "    <tr>\n",
              "      <th>5</th>\n",
              "      <td>5</td>\n",
              "      <td>Sichuan</td>\n",
              "      <td>Mainland China</td>\n",
              "      <td>1/21/2020</td>\n",
              "      <td>2.0</td>\n",
              "      <td>1.0</td>\n",
              "      <td>0.0</td>\n",
              "      <td>0.0</td>\n",
              "    </tr>\n",
              "  </tbody>\n",
              "</table>\n",
              "</div>"
            ],
            "text/plain": [
              "   Unnamed: 0 Province/State         Country  ... Suspected  Recovered  Deaths\n",
              "0           0       Shanghai  Mainland China  ...      10.0        0.0     0.0\n",
              "1           1         Yunnan  Mainland China  ...       0.0        0.0     0.0\n",
              "2           2        Beijing  Mainland China  ...       0.0        0.0     0.0\n",
              "4           4          Jilin  Mainland China  ...       1.0        0.0     0.0\n",
              "5           5        Sichuan  Mainland China  ...       1.0        0.0     0.0\n",
              "\n",
              "[5 rows x 8 columns]"
            ]
          },
          "metadata": {
            "tags": []
          },
          "execution_count": 33
        }
      ]
    },
    {
      "cell_type": "code",
      "metadata": {
        "id": "kwjVwx0HSzeh",
        "colab_type": "code",
        "colab": {
          "base_uri": "https://localhost:8080/",
          "height": 514
        },
        "outputId": "977c8ae5-e2c4-4a00-de9d-9552914e86b3"
      },
      "source": [
        "china_cases=china[['Province/State','Confirmed', 'Suspected', 'Recovered', 'Deaths']].groupby(['Province/State']).agg({'Confirmed':'sum','Suspected':'sum','Recovered':'sum','Deaths':'sum'})\n",
        "china_cases.reset_index(inplace=True,)\n",
        "china_cases.head(15)"
      ],
      "execution_count": 36,
      "outputs": [
        {
          "output_type": "execute_result",
          "data": {
            "text/html": [
              "<div>\n",
              "<style scoped>\n",
              "    .dataframe tbody tr th:only-of-type {\n",
              "        vertical-align: middle;\n",
              "    }\n",
              "\n",
              "    .dataframe tbody tr th {\n",
              "        vertical-align: top;\n",
              "    }\n",
              "\n",
              "    .dataframe thead th {\n",
              "        text-align: right;\n",
              "    }\n",
              "</style>\n",
              "<table border=\"1\" class=\"dataframe\">\n",
              "  <thead>\n",
              "    <tr style=\"text-align: right;\">\n",
              "      <th></th>\n",
              "      <th>Province/State</th>\n",
              "      <th>Confirmed</th>\n",
              "      <th>Suspected</th>\n",
              "      <th>Recovered</th>\n",
              "      <th>Deaths</th>\n",
              "    </tr>\n",
              "  </thead>\n",
              "  <tbody>\n",
              "    <tr>\n",
              "      <th>0</th>\n",
              "      <td>Anhui</td>\n",
              "      <td>238.0</td>\n",
              "      <td>35.0</td>\n",
              "      <td>0.0</td>\n",
              "      <td>0.0</td>\n",
              "    </tr>\n",
              "    <tr>\n",
              "      <th>1</th>\n",
              "      <td>Beijing</td>\n",
              "      <td>304.0</td>\n",
              "      <td>22.0</td>\n",
              "      <td>8.0</td>\n",
              "      <td>0.0</td>\n",
              "    </tr>\n",
              "    <tr>\n",
              "      <th>2</th>\n",
              "      <td>Chongqing</td>\n",
              "      <td>338.0</td>\n",
              "      <td>26.0</td>\n",
              "      <td>0.0</td>\n",
              "      <td>0.0</td>\n",
              "    </tr>\n",
              "    <tr>\n",
              "      <th>3</th>\n",
              "      <td>Fujian</td>\n",
              "      <td>102.0</td>\n",
              "      <td>70.0</td>\n",
              "      <td>0.0</td>\n",
              "      <td>1.0</td>\n",
              "    </tr>\n",
              "    <tr>\n",
              "      <th>4</th>\n",
              "      <td>Gansu</td>\n",
              "      <td>28.0</td>\n",
              "      <td>0.0</td>\n",
              "      <td>0.0</td>\n",
              "      <td>0.0</td>\n",
              "    </tr>\n",
              "    <tr>\n",
              "      <th>5</th>\n",
              "      <td>Guangdong</td>\n",
              "      <td>546.0</td>\n",
              "      <td>6.0</td>\n",
              "      <td>14.0</td>\n",
              "      <td>0.0</td>\n",
              "    </tr>\n",
              "    <tr>\n",
              "      <th>6</th>\n",
              "      <td>Guangxi</td>\n",
              "      <td>158.0</td>\n",
              "      <td>2.0</td>\n",
              "      <td>0.0</td>\n",
              "      <td>0.0</td>\n",
              "    </tr>\n",
              "    <tr>\n",
              "      <th>7</th>\n",
              "      <td>Guizhou</td>\n",
              "      <td>28.0</td>\n",
              "      <td>1.0</td>\n",
              "      <td>0.0</td>\n",
              "      <td>0.0</td>\n",
              "    </tr>\n",
              "    <tr>\n",
              "      <th>8</th>\n",
              "      <td>Hainan</td>\n",
              "      <td>102.0</td>\n",
              "      <td>97.0</td>\n",
              "      <td>0.0</td>\n",
              "      <td>0.0</td>\n",
              "    </tr>\n",
              "    <tr>\n",
              "      <th>9</th>\n",
              "      <td>Hebei</td>\n",
              "      <td>48.0</td>\n",
              "      <td>0.0</td>\n",
              "      <td>0.0</td>\n",
              "      <td>7.0</td>\n",
              "    </tr>\n",
              "    <tr>\n",
              "      <th>10</th>\n",
              "      <td>Heilongjiang</td>\n",
              "      <td>58.0</td>\n",
              "      <td>2.0</td>\n",
              "      <td>0.0</td>\n",
              "      <td>5.0</td>\n",
              "    </tr>\n",
              "    <tr>\n",
              "      <th>11</th>\n",
              "      <td>Henan</td>\n",
              "      <td>259.0</td>\n",
              "      <td>50.0</td>\n",
              "      <td>0.0</td>\n",
              "      <td>2.0</td>\n",
              "    </tr>\n",
              "    <tr>\n",
              "      <th>12</th>\n",
              "      <td>Hubei</td>\n",
              "      <td>5856.0</td>\n",
              "      <td>11.0</td>\n",
              "      <td>238.0</td>\n",
              "      <td>248.0</td>\n",
              "    </tr>\n",
              "    <tr>\n",
              "      <th>13</th>\n",
              "      <td>Hunan</td>\n",
              "      <td>286.0</td>\n",
              "      <td>0.0</td>\n",
              "      <td>0.0</td>\n",
              "      <td>0.0</td>\n",
              "    </tr>\n",
              "    <tr>\n",
              "      <th>14</th>\n",
              "      <td>Inner Mongolia</td>\n",
              "      <td>25.0</td>\n",
              "      <td>5.0</td>\n",
              "      <td>0.0</td>\n",
              "      <td>0.0</td>\n",
              "    </tr>\n",
              "  </tbody>\n",
              "</table>\n",
              "</div>"
            ],
            "text/plain": [
              "    Province/State  Confirmed  Suspected  Recovered  Deaths\n",
              "0            Anhui      238.0       35.0        0.0     0.0\n",
              "1          Beijing      304.0       22.0        8.0     0.0\n",
              "2        Chongqing      338.0       26.0        0.0     0.0\n",
              "3           Fujian      102.0       70.0        0.0     1.0\n",
              "4            Gansu       28.0        0.0        0.0     0.0\n",
              "5        Guangdong      546.0        6.0       14.0     0.0\n",
              "6          Guangxi      158.0        2.0        0.0     0.0\n",
              "7          Guizhou       28.0        1.0        0.0     0.0\n",
              "8           Hainan      102.0       97.0        0.0     0.0\n",
              "9            Hebei       48.0        0.0        0.0     7.0\n",
              "10    Heilongjiang       58.0        2.0        0.0     5.0\n",
              "11           Henan      259.0       50.0        0.0     2.0\n",
              "12           Hubei     5856.0       11.0      238.0   248.0\n",
              "13           Hunan      286.0        0.0        0.0     0.0\n",
              "14  Inner Mongolia       25.0        5.0        0.0     0.0"
            ]
          },
          "metadata": {
            "tags": []
          },
          "execution_count": 36
        }
      ]
    },
    {
      "cell_type": "code",
      "metadata": {
        "id": "TXLEJXADTG0S",
        "colab_type": "code",
        "colab": {
          "base_uri": "https://localhost:8080/",
          "height": 577
        },
        "outputId": "b740733c-0e41-40a0-d113-3d8ca6482265"
      },
      "source": [
        "plt.figure(1,figsize=(20,8))\n",
        "plt.subplot(121)\n",
        "sns.barplot(data=china_cases,x='Province/State',y='Confirmed');\n",
        "plt.title('Confirmed Cases china')\n",
        "plt.xticks(np.arange(31),china_cases['Province/State'].values,rotation=90);\n",
        "\n",
        "plt.subplot(122)\n",
        "sns.barplot(data=china_cases,x='Province/State',y='Suspected');\n",
        "plt.title('Suspected cases china')\n",
        "plt.xticks(np.arange(31),china_cases['Province/State'].values,rotation=90);\n"
      ],
      "execution_count": 49,
      "outputs": [
        {
          "output_type": "display_data",
          "data": {
            "image/png": "[encoded data removed]",
            "text/plain": [
              "<Figure size 1440x576 with 2 Axes>"
            ]
          },
          "metadata": {
            "tags": []
          }
        }
      ]
    },
    {
      "cell_type": "code",
      "metadata": {
        "id": "LUGPiVA_UtIz",
        "colab_type": "code",
        "colab": {
          "base_uri": "https://localhost:8080/",
          "height": 34
        },
        "outputId": "ca92f2ba-8046-4df1-85a0-d8a569a7e223"
      },
      "source": [
        "china_cases.shape[0]"
      ],
      "execution_count": 41,
      "outputs": [
        {
          "output_type": "execute_result",
          "data": {
            "text/plain": [
              "31"
            ]
          },
          "metadata": {
            "tags": []
          },
          "execution_count": 41
        }
      ]
    },
    {
      "cell_type": "code",
      "metadata": {
        "id": "-s75HVw6UKA9",
        "colab_type": "code",
        "colab": {
          "base_uri": "https://localhost:8080/",
          "height": 360
        },
        "outputId": "90c02cd9-b347-447d-f5f1-ebd7364a4df7"
      },
      "source": [
        "sns.barplot(data=china_cases,x='Province/State',y='Deaths');\n",
        "plt.title('Suspected cases')\n",
        "plt.xticks(np.arange(31),china_cases['Province/State'].values,rotation=90);"
      ],
      "execution_count": 50,
      "outputs": [
        {
          "output_type": "display_data",
          "data": {
            "image/png": "[encoded data removed]",
            "text/plain": [
              "<Figure size 432x288 with 1 Axes>"
            ]
          },
          "metadata": {
            "tags": []
          }
        }
      ]
    },
    {
      "cell_type": "code",
      "metadata": {
        "id": "99_UpGIKUen3",
        "colab_type": "code",
        "colab": {}
      },
      "source": [
        "df1 = pd.read_csv('/content/corona/time_series_2019_ncov_confirmed.csv')"
      ],
      "execution_count": 0,
      "outputs": []
    },
    {
      "cell_type": "code",
      "metadata": {
        "id": "6rXnRk2uVLon",
        "colab_type": "code",
        "colab": {
          "base_uri": "https://localhost:8080/",
          "height": 241
        },
        "outputId": "f78e4098-0563-41c5-f43c-709f490b16df"
      },
      "source": [
        "df1.head(5)"
      ],
      "execution_count": 58,
      "outputs": [
        {
          "output_type": "execute_result",
          "data": {
            "text/html": [
              "<div>\n",
              "<style scoped>\n",
              "    .dataframe tbody tr th:only-of-type {\n",
              "        vertical-align: middle;\n",
              "    }\n",
              "\n",
              "    .dataframe tbody tr th {\n",
              "        vertical-align: top;\n",
              "    }\n",
              "\n",
              "    .dataframe thead th {\n",
              "        text-align: right;\n",
              "    }\n",
              "</style>\n",
              "<table border=\"1\" class=\"dataframe\">\n",
              "  <thead>\n",
              "    <tr style=\"text-align: right;\">\n",
              "      <th></th>\n",
              "      <th>Province/State</th>\n",
              "      <th>Country/Region</th>\n",
              "      <th>Lat</th>\n",
              "      <th>Long</th>\n",
              "      <th>1/21/20 22:00</th>\n",
              "      <th>1/22/20 12:00</th>\n",
              "      <th>1/23/20 12:00</th>\n",
              "      <th>1/24/20 0:00</th>\n",
              "      <th>1/24/20 12:00</th>\n",
              "      <th>1/25/20 0:00</th>\n",
              "      <th>1/25/20 12:00</th>\n",
              "      <th>1/25/20 22:00</th>\n",
              "      <th>1/26/20 11:00</th>\n",
              "      <th>1/26/20 23:00</th>\n",
              "      <th>1/27/20 9:00</th>\n",
              "      <th>1/27/20 19:00</th>\n",
              "      <th>1/27/20 20:30</th>\n",
              "      <th>1/28/20 13:00</th>\n",
              "      <th>1/28/20 18:00</th>\n",
              "      <th>1/28/20 23:00</th>\n",
              "      <th>1/29/20 13:30</th>\n",
              "      <th>1/29/20 14:30</th>\n",
              "      <th>1/29/20 21:00</th>\n",
              "      <th>1/30/20 11:00</th>\n",
              "      <th>1/31/20 14:00</th>\n",
              "      <th>02/01/20 10:00</th>\n",
              "      <th>02/02/20 21:00</th>\n",
              "      <th>02/03/20 21:00</th>\n",
              "      <th>02/04/20 9:40</th>\n",
              "      <th>02/04/20 22:00</th>\n",
              "      <th>02/05/20 9:00</th>\n",
              "      <th>02/05/20 23:00</th>\n",
              "      <th>02/06/20 9:00</th>\n",
              "      <th>02/06/20 14:20</th>\n",
              "      <th>02/07/20 20:13</th>\n",
              "      <th>02/07/20 22:50</th>\n",
              "      <th>02/08/20 22:04</th>\n",
              "      <th>02/08/20 23:04</th>\n",
              "      <th>02/09/20 10:30</th>\n",
              "      <th>02/09/20 23:20</th>\n",
              "    </tr>\n",
              "  </thead>\n",
              "  <tbody>\n",
              "    <tr>\n",
              "      <th>0</th>\n",
              "      <td>Anhui</td>\n",
              "      <td>Mainland China</td>\n",
              "      <td>31.82571</td>\n",
              "      <td>117.2264</td>\n",
              "      <td>0.0</td>\n",
              "      <td>1.0</td>\n",
              "      <td>9.0</td>\n",
              "      <td>15.0</td>\n",
              "      <td>15.0</td>\n",
              "      <td>39.0</td>\n",
              "      <td>39.0</td>\n",
              "      <td>60.0</td>\n",
              "      <td>60.0</td>\n",
              "      <td>70.0</td>\n",
              "      <td>70.0</td>\n",
              "      <td>70.0</td>\n",
              "      <td>106.0</td>\n",
              "      <td>106.0</td>\n",
              "      <td>106.0</td>\n",
              "      <td>152.0</td>\n",
              "      <td>152.0</td>\n",
              "      <td>152.0</td>\n",
              "      <td>200.0</td>\n",
              "      <td>200.0</td>\n",
              "      <td>237.0</td>\n",
              "      <td>297.0</td>\n",
              "      <td>408.0</td>\n",
              "      <td>480.0</td>\n",
              "      <td>480.0</td>\n",
              "      <td>530.0</td>\n",
              "      <td>530.0</td>\n",
              "      <td>591.0</td>\n",
              "      <td>591.0</td>\n",
              "      <td>591.0</td>\n",
              "      <td>665</td>\n",
              "      <td>733</td>\n",
              "      <td>733</td>\n",
              "      <td>779</td>\n",
              "      <td>779</td>\n",
              "      <td>830</td>\n",
              "    </tr>\n",
              "    <tr>\n",
              "      <th>1</th>\n",
              "      <td>Beijing</td>\n",
              "      <td>Mainland China</td>\n",
              "      <td>40.18238</td>\n",
              "      <td>116.4142</td>\n",
              "      <td>10.0</td>\n",
              "      <td>14.0</td>\n",
              "      <td>22.0</td>\n",
              "      <td>26.0</td>\n",
              "      <td>36.0</td>\n",
              "      <td>36.0</td>\n",
              "      <td>41.0</td>\n",
              "      <td>51.0</td>\n",
              "      <td>68.0</td>\n",
              "      <td>68.0</td>\n",
              "      <td>72.0</td>\n",
              "      <td>80.0</td>\n",
              "      <td>80.0</td>\n",
              "      <td>91.0</td>\n",
              "      <td>91.0</td>\n",
              "      <td>91.0</td>\n",
              "      <td>111.0</td>\n",
              "      <td>111.0</td>\n",
              "      <td>111.0</td>\n",
              "      <td>114.0</td>\n",
              "      <td>139.0</td>\n",
              "      <td>168.0</td>\n",
              "      <td>191.0</td>\n",
              "      <td>212.0</td>\n",
              "      <td>212.0</td>\n",
              "      <td>228.0</td>\n",
              "      <td>253.0</td>\n",
              "      <td>274.0</td>\n",
              "      <td>274.0</td>\n",
              "      <td>274.0</td>\n",
              "      <td>297</td>\n",
              "      <td>315</td>\n",
              "      <td>315</td>\n",
              "      <td>326</td>\n",
              "      <td>326</td>\n",
              "      <td>337</td>\n",
              "    </tr>\n",
              "    <tr>\n",
              "      <th>2</th>\n",
              "      <td>Chongqing</td>\n",
              "      <td>Mainland China</td>\n",
              "      <td>30.05718</td>\n",
              "      <td>107.8740</td>\n",
              "      <td>5.0</td>\n",
              "      <td>6.0</td>\n",
              "      <td>9.0</td>\n",
              "      <td>27.0</td>\n",
              "      <td>27.0</td>\n",
              "      <td>57.0</td>\n",
              "      <td>57.0</td>\n",
              "      <td>75.0</td>\n",
              "      <td>75.0</td>\n",
              "      <td>110.0</td>\n",
              "      <td>110.0</td>\n",
              "      <td>110.0</td>\n",
              "      <td>132.0</td>\n",
              "      <td>132.0</td>\n",
              "      <td>132.0</td>\n",
              "      <td>147.0</td>\n",
              "      <td>147.0</td>\n",
              "      <td>147.0</td>\n",
              "      <td>165.0</td>\n",
              "      <td>182.0</td>\n",
              "      <td>211.0</td>\n",
              "      <td>247.0</td>\n",
              "      <td>300.0</td>\n",
              "      <td>337.0</td>\n",
              "      <td>337.0</td>\n",
              "      <td>366.0</td>\n",
              "      <td>376.0</td>\n",
              "      <td>389.0</td>\n",
              "      <td>400.0</td>\n",
              "      <td>400.0</td>\n",
              "      <td>415</td>\n",
              "      <td>426</td>\n",
              "      <td>428</td>\n",
              "      <td>446</td>\n",
              "      <td>450</td>\n",
              "      <td>468</td>\n",
              "    </tr>\n",
              "    <tr>\n",
              "      <th>3</th>\n",
              "      <td>Fujian</td>\n",
              "      <td>Mainland China</td>\n",
              "      <td>26.07783</td>\n",
              "      <td>117.9895</td>\n",
              "      <td>0.0</td>\n",
              "      <td>1.0</td>\n",
              "      <td>5.0</td>\n",
              "      <td>5.0</td>\n",
              "      <td>10.0</td>\n",
              "      <td>10.0</td>\n",
              "      <td>18.0</td>\n",
              "      <td>18.0</td>\n",
              "      <td>35.0</td>\n",
              "      <td>35.0</td>\n",
              "      <td>56.0</td>\n",
              "      <td>59.0</td>\n",
              "      <td>59.0</td>\n",
              "      <td>80.0</td>\n",
              "      <td>80.0</td>\n",
              "      <td>82.0</td>\n",
              "      <td>84.0</td>\n",
              "      <td>84.0</td>\n",
              "      <td>101.0</td>\n",
              "      <td>101.0</td>\n",
              "      <td>120.0</td>\n",
              "      <td>144.0</td>\n",
              "      <td>159.0</td>\n",
              "      <td>179.0</td>\n",
              "      <td>179.0</td>\n",
              "      <td>194.0</td>\n",
              "      <td>205.0</td>\n",
              "      <td>215.0</td>\n",
              "      <td>215.0</td>\n",
              "      <td>215.0</td>\n",
              "      <td>224</td>\n",
              "      <td>239</td>\n",
              "      <td>239</td>\n",
              "      <td>250</td>\n",
              "      <td>250</td>\n",
              "      <td>261</td>\n",
              "    </tr>\n",
              "    <tr>\n",
              "      <th>4</th>\n",
              "      <td>Gansu</td>\n",
              "      <td>Mainland China</td>\n",
              "      <td>36.06110</td>\n",
              "      <td>103.8343</td>\n",
              "      <td>0.0</td>\n",
              "      <td>0.0</td>\n",
              "      <td>2.0</td>\n",
              "      <td>2.0</td>\n",
              "      <td>2.0</td>\n",
              "      <td>4.0</td>\n",
              "      <td>4.0</td>\n",
              "      <td>7.0</td>\n",
              "      <td>7.0</td>\n",
              "      <td>14.0</td>\n",
              "      <td>14.0</td>\n",
              "      <td>14.0</td>\n",
              "      <td>19.0</td>\n",
              "      <td>19.0</td>\n",
              "      <td>19.0</td>\n",
              "      <td>24.0</td>\n",
              "      <td>24.0</td>\n",
              "      <td>24.0</td>\n",
              "      <td>26.0</td>\n",
              "      <td>26.0</td>\n",
              "      <td>29.0</td>\n",
              "      <td>35.0</td>\n",
              "      <td>51.0</td>\n",
              "      <td>55.0</td>\n",
              "      <td>55.0</td>\n",
              "      <td>57.0</td>\n",
              "      <td>57.0</td>\n",
              "      <td>62.0</td>\n",
              "      <td>62.0</td>\n",
              "      <td>62.0</td>\n",
              "      <td>67</td>\n",
              "      <td>71</td>\n",
              "      <td>79</td>\n",
              "      <td>79</td>\n",
              "      <td>79</td>\n",
              "      <td>83</td>\n",
              "    </tr>\n",
              "  </tbody>\n",
              "</table>\n",
              "</div>"
            ],
            "text/plain": [
              "  Province/State  Country/Region  ...  02/09/20 10:30  02/09/20 23:20\n",
              "0          Anhui  Mainland China  ...             779             830\n",
              "1        Beijing  Mainland China  ...             326             337\n",
              "2      Chongqing  Mainland China  ...             450             468\n",
              "3         Fujian  Mainland China  ...             250             261\n",
              "4          Gansu  Mainland China  ...              79              83\n",
              "\n",
              "[5 rows x 40 columns]"
            ]
          },
          "metadata": {
            "tags": []
          },
          "execution_count": 58
        }
      ]
    },
    {
      "cell_type": "code",
      "metadata": {
        "id": "lh65dOvYXZdC",
        "colab_type": "code",
        "colab": {}
      },
      "source": [
        "col_list=['1/21/20 22:00',\n",
        "       '1/22/20 12:00', '1/23/20 12:00', '1/24/20 0:00', '1/24/20 12:00',\n",
        "       '1/25/20 0:00', '1/25/20 12:00', '1/25/20 22:00', '1/26/20 11:00',\n",
        "       '1/26/20 23:00', '1/27/20 9:00', '1/27/20 19:00', '1/27/20 20:30',\n",
        "       '1/28/20 13:00', '1/28/20 18:00', '1/28/20 23:00', '1/29/20 13:30',\n",
        "       '1/29/20 14:30', '1/29/20 21:00', '1/30/20 11:00', '1/31/20 14:00',\n",
        "       '02/01/20 10:00', '02/02/20 21:00', '02/03/20 21:00', '02/04/20 9:40',\n",
        "       '02/04/20 22:00', '02/05/20 9:00', '02/05/20 23:00', '02/06/20 9:00',\n",
        "       '02/06/20 14:20', '02/07/20 20:13', '02/07/20 22:50', '02/08/20 22:04',\n",
        "       '02/08/20 23:04', '02/09/20 10:30', '02/09/20 23:20']"
      ],
      "execution_count": 0,
      "outputs": []
    },
    {
      "cell_type": "code",
      "metadata": {
        "id": "8zaKdx45XUEg",
        "colab_type": "code",
        "colab": {}
      },
      "source": [
        "df1['confirmed'] = df1[col_list].sum(axis=1)"
      ],
      "execution_count": 0,
      "outputs": []
    },
    {
      "cell_type": "code",
      "metadata": {
        "id": "-HMbCksJXUI6",
        "colab_type": "code",
        "colab": {
          "base_uri": "https://localhost:8080/",
          "height": 204
        },
        "outputId": "2060b47c-0854-480f-86e8-e3eb0e829840"
      },
      "source": [
        "df1.drop(col_list,axis=1,inplace=True)\n",
        "df1.head()"
      ],
      "execution_count": 66,
      "outputs": [
        {
          "output_type": "execute_result",
          "data": {
            "text/html": [
              "<div>\n",
              "<style scoped>\n",
              "    .dataframe tbody tr th:only-of-type {\n",
              "        vertical-align: middle;\n",
              "    }\n",
              "\n",
              "    .dataframe tbody tr th {\n",
              "        vertical-align: top;\n",
              "    }\n",
              "\n",
              "    .dataframe thead th {\n",
              "        text-align: right;\n",
              "    }\n",
              "</style>\n",
              "<table border=\"1\" class=\"dataframe\">\n",
              "  <thead>\n",
              "    <tr style=\"text-align: right;\">\n",
              "      <th></th>\n",
              "      <th>Province/State</th>\n",
              "      <th>Country/Region</th>\n",
              "      <th>Lat</th>\n",
              "      <th>Long</th>\n",
              "      <th>confirmed</th>\n",
              "    </tr>\n",
              "  </thead>\n",
              "  <tbody>\n",
              "    <tr>\n",
              "      <th>0</th>\n",
              "      <td>Anhui</td>\n",
              "      <td>Mainland China</td>\n",
              "      <td>31.82571</td>\n",
              "      <td>117.2264</td>\n",
              "      <td>10876.0</td>\n",
              "    </tr>\n",
              "    <tr>\n",
              "      <th>1</th>\n",
              "      <td>Beijing</td>\n",
              "      <td>Mainland China</td>\n",
              "      <td>40.18238</td>\n",
              "      <td>116.4142</td>\n",
              "      <td>5465.0</td>\n",
              "    </tr>\n",
              "    <tr>\n",
              "      <th>2</th>\n",
              "      <td>Chongqing</td>\n",
              "      <td>Mainland China</td>\n",
              "      <td>30.05718</td>\n",
              "      <td>107.8740</td>\n",
              "      <td>7848.0</td>\n",
              "    </tr>\n",
              "    <tr>\n",
              "      <th>3</th>\n",
              "      <td>Fujian</td>\n",
              "      <td>Mainland China</td>\n",
              "      <td>26.07783</td>\n",
              "      <td>117.9895</td>\n",
              "      <td>4211.0</td>\n",
              "    </tr>\n",
              "    <tr>\n",
              "      <th>4</th>\n",
              "      <td>Gansu</td>\n",
              "      <td>Mainland China</td>\n",
              "      <td>36.06110</td>\n",
              "      <td>103.8343</td>\n",
              "      <td>1234.0</td>\n",
              "    </tr>\n",
              "  </tbody>\n",
              "</table>\n",
              "</div>"
            ],
            "text/plain": [
              "  Province/State  Country/Region       Lat      Long  confirmed\n",
              "0          Anhui  Mainland China  31.82571  117.2264    10876.0\n",
              "1        Beijing  Mainland China  40.18238  116.4142     5465.0\n",
              "2      Chongqing  Mainland China  30.05718  107.8740     7848.0\n",
              "3         Fujian  Mainland China  26.07783  117.9895     4211.0\n",
              "4          Gansu  Mainland China  36.06110  103.8343     1234.0"
            ]
          },
          "metadata": {
            "tags": []
          },
          "execution_count": 66
        }
      ]
    },
    {
      "cell_type": "code",
      "metadata": {
        "id": "p74420tGY0oK",
        "colab_type": "code",
        "colab": {}
      },
      "source": [
        "df1['size']=np.log(df1.confirmed.values)*30"
      ],
      "execution_count": 0,
      "outputs": []
    },
    {
      "cell_type": "code",
      "metadata": {
        "id": "FIec56ExV_Xt",
        "colab_type": "code",
        "colab": {}
      },
      "source": [
        "df1.fillna(0,inplace=True)"
      ],
      "execution_count": 0,
      "outputs": []
    },
    {
      "cell_type": "code",
      "metadata": {
        "id": "JDjVvv9IW5OE",
        "colab_type": "code",
        "colab": {}
      },
      "source": [
        "import plotly.express as px\n",
        "df = px.data.gapminder()\n",
        "fig = px.scatter_geo(df1, lat='Lat',lon=\"Long\", hover_name=\"Province/State\",color='Country/Region',size='size', projection=\"natural earth\",height=1080,width=1920)\n",
        "fig.show()"
      ],
      "execution_count": 0,
      "outputs": []
    },
    {
      "cell_type": "markdown",
      "metadata": {
        "id": "4IfsmoXnmdSi",
        "colab_type": "text"
      },
      "source": [
        "<center><img src=\"https://i.ibb.co/Dky1Zjp/newplot24.png\" width=\"1980\" height=\"500\"/></center>"
      ]
    },
    {
      "cell_type": "code",
      "metadata": {
        "id": "g4JT6w6VdlgL",
        "colab_type": "code",
        "colab": {}
      },
      "source": [
        "!pip install geopandas"
      ],
      "execution_count": 0,
      "outputs": []
    },
    {
      "cell_type": "code",
      "metadata": {
        "id": "Wc4MoxlXd6iu",
        "colab_type": "code",
        "colab": {}
      },
      "source": [
        "df2=df1[['Long','Lat','confirmed','Province/State']].copy()"
      ],
      "execution_count": 0,
      "outputs": []
    },
    {
      "cell_type": "code",
      "metadata": {
        "id": "tlyFy902eF5f",
        "colab_type": "code",
        "colab": {}
      },
      "source": [
        "df2.columns=['Longitue','Latitude','confirmed','Province/State']"
      ],
      "execution_count": 0,
      "outputs": []
    },
    {
      "cell_type": "code",
      "metadata": {
        "id": "HbGLIVz_hx_8",
        "colab_type": "code",
        "colab": {}
      },
      "source": [
        "df2['color1']=pd.factorize(df2['Province/State'])[0]"
      ],
      "execution_count": 0,
      "outputs": []
    },
    {
      "cell_type": "code",
      "metadata": {
        "id": "CygQhilfeMl2",
        "colab_type": "code",
        "colab": {
          "base_uri": "https://localhost:8080/",
          "height": 204
        },
        "outputId": "0f5408d5-dfda-4ce8-a38e-9f9df4ee63dc"
      },
      "source": [
        "df2.head()"
      ],
      "execution_count": 133,
      "outputs": [
        {
          "output_type": "execute_result",
          "data": {
            "text/html": [
              "<div>\n",
              "<style scoped>\n",
              "    .dataframe tbody tr th:only-of-type {\n",
              "        vertical-align: middle;\n",
              "    }\n",
              "\n",
              "    .dataframe tbody tr th {\n",
              "        vertical-align: top;\n",
              "    }\n",
              "\n",
              "    .dataframe thead th {\n",
              "        text-align: right;\n",
              "    }\n",
              "</style>\n",
              "<table border=\"1\" class=\"dataframe\">\n",
              "  <thead>\n",
              "    <tr style=\"text-align: right;\">\n",
              "      <th></th>\n",
              "      <th>Longitue</th>\n",
              "      <th>Latitude</th>\n",
              "      <th>confirmed</th>\n",
              "      <th>Province/State</th>\n",
              "      <th>confirmed1</th>\n",
              "      <th>geometry</th>\n",
              "      <th>color1</th>\n",
              "    </tr>\n",
              "  </thead>\n",
              "  <tbody>\n",
              "    <tr>\n",
              "      <th>0</th>\n",
              "      <td>117.2264</td>\n",
              "      <td>31.82571</td>\n",
              "      <td>10876.0</td>\n",
              "      <td>Anhui</td>\n",
              "      <td>92.943138</td>\n",
              "      <td>POINT (117.22640 31.82571)</td>\n",
              "      <td>0</td>\n",
              "    </tr>\n",
              "    <tr>\n",
              "      <th>1</th>\n",
              "      <td>116.4142</td>\n",
              "      <td>40.18238</td>\n",
              "      <td>5465.0</td>\n",
              "      <td>Beijing</td>\n",
              "      <td>86.061194</td>\n",
              "      <td>POINT (116.41420 40.18238)</td>\n",
              "      <td>1</td>\n",
              "    </tr>\n",
              "    <tr>\n",
              "      <th>2</th>\n",
              "      <td>107.8740</td>\n",
              "      <td>30.05718</td>\n",
              "      <td>7848.0</td>\n",
              "      <td>Chongqing</td>\n",
              "      <td>89.680140</td>\n",
              "      <td>POINT (107.87400 30.05718)</td>\n",
              "      <td>2</td>\n",
              "    </tr>\n",
              "    <tr>\n",
              "      <th>3</th>\n",
              "      <td>117.9895</td>\n",
              "      <td>26.07783</td>\n",
              "      <td>4211.0</td>\n",
              "      <td>Fujian</td>\n",
              "      <td>83.454554</td>\n",
              "      <td>POINT (117.98950 26.07783)</td>\n",
              "      <td>3</td>\n",
              "    </tr>\n",
              "    <tr>\n",
              "      <th>4</th>\n",
              "      <td>103.8343</td>\n",
              "      <td>36.06110</td>\n",
              "      <td>1234.0</td>\n",
              "      <td>Gansu</td>\n",
              "      <td>71.180162</td>\n",
              "      <td>POINT (103.83430 36.06110)</td>\n",
              "      <td>4</td>\n",
              "    </tr>\n",
              "  </tbody>\n",
              "</table>\n",
              "</div>"
            ],
            "text/plain": [
              "   Longitue  Latitude  ...                    geometry color1\n",
              "0  117.2264  31.82571  ...  POINT (117.22640 31.82571)      0\n",
              "1  116.4142  40.18238  ...  POINT (116.41420 40.18238)      1\n",
              "2  107.8740  30.05718  ...  POINT (107.87400 30.05718)      2\n",
              "3  117.9895  26.07783  ...  POINT (117.98950 26.07783)      3\n",
              "4  103.8343  36.06110  ...  POINT (103.83430 36.06110)      4\n",
              "\n",
              "[5 rows x 7 columns]"
            ]
          },
          "metadata": {
            "tags": []
          },
          "execution_count": 133
        }
      ]
    },
    {
      "cell_type": "code",
      "metadata": {
        "id": "KzTTaCTJW5DX",
        "colab_type": "code",
        "colab": {
          "base_uri": "https://localhost:8080/",
          "height": 499
        },
        "outputId": "a96938cf-c3c0-4362-ba36-b5d35a0fc207"
      },
      "source": [
        "from shapely.geometry import Point\n",
        "import geopandas as gpd\n",
        "from geopandas import GeoDataFrame\n",
        "\n",
        "\n",
        "geometry = [Point(xy) for xy in zip(df1['Long'], df1['Lat'])]\n",
        "gdf = GeoDataFrame(df2, geometry=geometry)   \n",
        "\n",
        "world = gpd.read_file(gpd.datasets.get_path('naturalearth_lowres'))\n",
        "gdf.plot(ax=world.plot(figsize=(20, 8)), marker='o', color='red', markersize='confirmed1',legend=True,categorical=False);\n",
        "plt.title('Coronavirus geo-location maping');"
      ],
      "execution_count": 141,
      "outputs": [
        {
          "output_type": "display_data",
          "data": {
            "image/png": "[encoded data removed]",
            "text/plain": [
              "<Figure size 1440x576 with 1 Axes>"
            ]
          },
          "metadata": {
            "tags": []
          }
        }
      ]
    },
    {
      "cell_type": "code",
      "metadata": {
        "id": "4rY0h3ztW5Aw",
        "colab_type": "code",
        "colab": {}
      },
      "source": [
        ""
      ],
      "execution_count": 0,
      "outputs": []
    }
  ]
}