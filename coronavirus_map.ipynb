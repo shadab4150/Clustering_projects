{
  "nbformat": 4,
  "nbformat_minor": 0,
  "metadata": {
    "colab": {
      "name": "coronavirus_map.ipynb",
      "provenance": [],
      "collapsed_sections": [],
      "authorship_tag": "ABX9TyPBamCBZa6ZLChVEK/rtYgs",
      "include_colab_link": true
    },
    "kernelspec": {
      "name": "python3",
      "display_name": "Python 3"
    }
  },
  "cells": [
    {
      "cell_type": "markdown",
      "metadata": {
        "id": "view-in-github",
        "colab_type": "text"
      },
      "source": [
        "<a href=\"https://colab.research.google.com/github/shadab4150/practice_projects/blob/master/coronavirus_map.ipynb\" target=\"_parent\"><img src=\"https://colab.research.google.com/assets/colab-badge.svg\" alt=\"Open In Colab\"/></a>"
      ]
    },
    {
      "cell_type": "code",
      "metadata": {
        "id": "oAMVZH3BPH84",
        "colab_type": "code",
        "outputId": "998b2cfe-3247-4cb7-e176-1acd02367fad",
        "colab": {
          "base_uri": "https://localhost:8080/",
          "height": 102
        }
      },
      "source": [
        "!unzip '/content/novel-corona-virus-2019-dataset.zip' -d '/content/corona/'"
      ],
      "execution_count": 0,
      "outputs": [
        {
          "output_type": "stream",
          "text": [
            "Archive:  /content/novel-corona-virus-2019-dataset.zip\n",
            "  inflating: /content/corona/2019_nCoV_data.csv  \n",
            "  inflating: /content/corona/time_series_2019_ncov_confirmed.csv  \n",
            "  inflating: /content/corona/time_series_2019_ncov_deaths.csv  \n",
            "  inflating: /content/corona/time_series_2019_ncov_recovered.csv  \n"
          ],
          "name": "stdout"
        }
      ]
    },
    {
      "cell_type": "code",
      "metadata": {
        "id": "WK0jUbVLKX_8",
        "colab_type": "code",
        "outputId": "277163ab-6d9e-4d49-c85a-f22e5d3ec112",
        "colab": {
          "base_uri": "https://localhost:8080/",
          "height": 85
        }
      },
      "source": [
        "!pip install squarify"
      ],
      "execution_count": 0,
      "outputs": [
        {
          "output_type": "stream",
          "text": [
            "Collecting squarify\n",
            "  Downloading https://files.pythonhosted.org/packages/0b/2b/2e77c35326efec19819cd1d729540d4d235e6c2a3f37658288a363a67da5/squarify-0.4.3-py3-none-any.whl\n",
            "Installing collected packages: squarify\n",
            "Successfully installed squarify-0.4.3\n"
          ],
          "name": "stdout"
        }
      ]
    },
    {
      "cell_type": "code",
      "metadata": {
        "id": "zAv2t14SP6fX",
        "colab_type": "code",
        "colab": {}
      },
      "source": [
        "import pandas as pd\n",
        "import seaborn as sns\n",
        "import matplotlib.pyplot as plt\n",
        "from tqdm import tqdm\n",
        "import plotly.express as px\n",
        "import numpy as np\n",
        "import squarify \n",
        "from itertools import cycle, islice\n",
        "\n",
        "def repeatlist(it, count):\n",
        "    return islice(cycle(it), count)\n",
        "%matplotlib inline"
      ],
      "execution_count": 0,
      "outputs": []
    },
    {
      "cell_type": "code",
      "metadata": {
        "id": "BTRUYpYfQK-b",
        "colab_type": "code",
        "colab": {}
      },
      "source": [
        "df = pd.read_csv('/content/2019_nC0v_20200121_20200126_cleaned.csv')"
      ],
      "execution_count": 0,
      "outputs": []
    },
    {
      "cell_type": "code",
      "metadata": {
        "id": "G1Wpnt9WQOSO",
        "colab_type": "code",
        "outputId": "3699ba36-c9bb-46fa-efd1-afbbd66b7f80",
        "colab": {
          "base_uri": "https://localhost:8080/",
          "height": 204
        }
      },
      "source": [
        "df.head()"
      ],
      "execution_count": 0,
      "outputs": [
        {
          "output_type": "execute_result",
          "data": {
            "text/html": [
              "<div>\n",
              "<style scoped>\n",
              "    .dataframe tbody tr th:only-of-type {\n",
              "        vertical-align: middle;\n",
              "    }\n",
              "\n",
              "    .dataframe tbody tr th {\n",
              "        vertical-align: top;\n",
              "    }\n",
              "\n",
              "    .dataframe thead th {\n",
              "        text-align: right;\n",
              "    }\n",
              "</style>\n",
              "<table border=\"1\" class=\"dataframe\">\n",
              "  <thead>\n",
              "    <tr style=\"text-align: right;\">\n",
              "      <th></th>\n",
              "      <th>Unnamed: 0</th>\n",
              "      <th>Province/State</th>\n",
              "      <th>Country</th>\n",
              "      <th>Date last updated</th>\n",
              "      <th>Confirmed</th>\n",
              "      <th>Suspected</th>\n",
              "      <th>Recovered</th>\n",
              "      <th>Deaths</th>\n",
              "    </tr>\n",
              "  </thead>\n",
              "  <tbody>\n",
              "    <tr>\n",
              "      <th>0</th>\n",
              "      <td>0</td>\n",
              "      <td>Shanghai</td>\n",
              "      <td>Mainland China</td>\n",
              "      <td>1/21/2020</td>\n",
              "      <td>9.0</td>\n",
              "      <td>10.0</td>\n",
              "      <td>0.0</td>\n",
              "      <td>0.0</td>\n",
              "    </tr>\n",
              "    <tr>\n",
              "      <th>1</th>\n",
              "      <td>1</td>\n",
              "      <td>Yunnan</td>\n",
              "      <td>Mainland China</td>\n",
              "      <td>1/21/2020</td>\n",
              "      <td>1.0</td>\n",
              "      <td>0.0</td>\n",
              "      <td>0.0</td>\n",
              "      <td>0.0</td>\n",
              "    </tr>\n",
              "    <tr>\n",
              "      <th>2</th>\n",
              "      <td>2</td>\n",
              "      <td>Beijing</td>\n",
              "      <td>Mainland China</td>\n",
              "      <td>1/21/2020</td>\n",
              "      <td>10.0</td>\n",
              "      <td>0.0</td>\n",
              "      <td>0.0</td>\n",
              "      <td>0.0</td>\n",
              "    </tr>\n",
              "    <tr>\n",
              "      <th>3</th>\n",
              "      <td>3</td>\n",
              "      <td>Taiwan</td>\n",
              "      <td>Taiwan</td>\n",
              "      <td>1/21/2020</td>\n",
              "      <td>1.0</td>\n",
              "      <td>0.0</td>\n",
              "      <td>0.0</td>\n",
              "      <td>0.0</td>\n",
              "    </tr>\n",
              "    <tr>\n",
              "      <th>4</th>\n",
              "      <td>4</td>\n",
              "      <td>Jilin</td>\n",
              "      <td>Mainland China</td>\n",
              "      <td>1/21/2020</td>\n",
              "      <td>0.0</td>\n",
              "      <td>1.0</td>\n",
              "      <td>0.0</td>\n",
              "      <td>0.0</td>\n",
              "    </tr>\n",
              "  </tbody>\n",
              "</table>\n",
              "</div>"
            ],
            "text/plain": [
              "   Unnamed: 0 Province/State         Country  ... Suspected  Recovered  Deaths\n",
              "0           0       Shanghai  Mainland China  ...      10.0        0.0     0.0\n",
              "1           1         Yunnan  Mainland China  ...       0.0        0.0     0.0\n",
              "2           2        Beijing  Mainland China  ...       0.0        0.0     0.0\n",
              "3           3         Taiwan          Taiwan  ...       0.0        0.0     0.0\n",
              "4           4          Jilin  Mainland China  ...       1.0        0.0     0.0\n",
              "\n",
              "[5 rows x 8 columns]"
            ]
          },
          "metadata": {
            "tags": []
          },
          "execution_count": 5
        }
      ]
    },
    {
      "cell_type": "code",
      "metadata": {
        "id": "5VoFOZVNmo8t",
        "colab_type": "code",
        "colab": {}
      },
      "source": [
        "corona['Date last updated']=pd.to_datetime(corona['Date last updated'],errors='coerce')"
      ],
      "execution_count": 0,
      "outputs": []
    },
    {
      "cell_type": "code",
      "metadata": {
        "id": "1vEOrc3FQmwv",
        "colab_type": "code",
        "colab": {}
      },
      "source": [
        "country=df[['Country','Confirmed', 'Suspected', 'Recovered', 'Deaths']].groupby(['Country']).agg({'Confirmed':'sum','Suspected':'sum','Recovered':'sum','Deaths':'sum'})"
      ],
      "execution_count": 0,
      "outputs": []
    },
    {
      "cell_type": "code",
      "metadata": {
        "id": "LQfgDzBwRT9y",
        "colab_type": "code",
        "colab": {}
      },
      "source": [
        "country.reset_index(inplace=True,)"
      ],
      "execution_count": 0,
      "outputs": []
    },
    {
      "cell_type": "code",
      "metadata": {
        "id": "4VEwX7JZReJb",
        "colab_type": "code",
        "outputId": "4fda5b82-4d63-4364-aa50-448cd86eb4f8",
        "colab": {
          "base_uri": "https://localhost:8080/",
          "height": 638
        }
      },
      "source": [
        "country"
      ],
      "execution_count": 0,
      "outputs": [
        {
          "output_type": "execute_result",
          "data": {
            "text/html": [
              "<div>\n",
              "<style scoped>\n",
              "    .dataframe tbody tr th:only-of-type {\n",
              "        vertical-align: middle;\n",
              "    }\n",
              "\n",
              "    .dataframe tbody tr th {\n",
              "        vertical-align: top;\n",
              "    }\n",
              "\n",
              "    .dataframe thead th {\n",
              "        text-align: right;\n",
              "    }\n",
              "</style>\n",
              "<table border=\"1\" class=\"dataframe\">\n",
              "  <thead>\n",
              "    <tr style=\"text-align: right;\">\n",
              "      <th></th>\n",
              "      <th>Country</th>\n",
              "      <th>Confirmed</th>\n",
              "      <th>Suspected</th>\n",
              "      <th>Recovered</th>\n",
              "      <th>Deaths</th>\n",
              "    </tr>\n",
              "  </thead>\n",
              "  <tbody>\n",
              "    <tr>\n",
              "      <th>0</th>\n",
              "      <td>Australia</td>\n",
              "      <td>13.0</td>\n",
              "      <td>1.0</td>\n",
              "      <td>0.0</td>\n",
              "      <td>0.0</td>\n",
              "    </tr>\n",
              "    <tr>\n",
              "      <th>1</th>\n",
              "      <td>Brazil</td>\n",
              "      <td>0.0</td>\n",
              "      <td>1.0</td>\n",
              "      <td>0.0</td>\n",
              "      <td>0.0</td>\n",
              "    </tr>\n",
              "    <tr>\n",
              "      <th>2</th>\n",
              "      <td>Canada</td>\n",
              "      <td>1.0</td>\n",
              "      <td>0.0</td>\n",
              "      <td>0.0</td>\n",
              "      <td>0.0</td>\n",
              "    </tr>\n",
              "    <tr>\n",
              "      <th>3</th>\n",
              "      <td>Colombia</td>\n",
              "      <td>0.0</td>\n",
              "      <td>1.0</td>\n",
              "      <td>0.0</td>\n",
              "      <td>0.0</td>\n",
              "    </tr>\n",
              "    <tr>\n",
              "      <th>4</th>\n",
              "      <td>France</td>\n",
              "      <td>14.0</td>\n",
              "      <td>0.0</td>\n",
              "      <td>0.0</td>\n",
              "      <td>0.0</td>\n",
              "    </tr>\n",
              "    <tr>\n",
              "      <th>5</th>\n",
              "      <td>Hong Kong</td>\n",
              "      <td>29.0</td>\n",
              "      <td>1139.0</td>\n",
              "      <td>0.0</td>\n",
              "      <td>0.0</td>\n",
              "    </tr>\n",
              "    <tr>\n",
              "      <th>6</th>\n",
              "      <td>Japan</td>\n",
              "      <td>18.0</td>\n",
              "      <td>0.0</td>\n",
              "      <td>1.0</td>\n",
              "      <td>0.0</td>\n",
              "    </tr>\n",
              "    <tr>\n",
              "      <th>7</th>\n",
              "      <td>Macau</td>\n",
              "      <td>18.0</td>\n",
              "      <td>0.0</td>\n",
              "      <td>0.0</td>\n",
              "      <td>0.0</td>\n",
              "    </tr>\n",
              "    <tr>\n",
              "      <th>8</th>\n",
              "      <td>Mainland China</td>\n",
              "      <td>10053.0</td>\n",
              "      <td>839.0</td>\n",
              "      <td>275.0</td>\n",
              "      <td>265.0</td>\n",
              "    </tr>\n",
              "    <tr>\n",
              "      <th>9</th>\n",
              "      <td>Malaysia</td>\n",
              "      <td>13.0</td>\n",
              "      <td>4.0</td>\n",
              "      <td>0.0</td>\n",
              "      <td>0.0</td>\n",
              "    </tr>\n",
              "    <tr>\n",
              "      <th>10</th>\n",
              "      <td>Mexico</td>\n",
              "      <td>0.0</td>\n",
              "      <td>1.0</td>\n",
              "      <td>0.0</td>\n",
              "      <td>0.0</td>\n",
              "    </tr>\n",
              "    <tr>\n",
              "      <th>11</th>\n",
              "      <td>Nepal</td>\n",
              "      <td>4.0</td>\n",
              "      <td>0.0</td>\n",
              "      <td>0.0</td>\n",
              "      <td>0.0</td>\n",
              "    </tr>\n",
              "    <tr>\n",
              "      <th>12</th>\n",
              "      <td>Philippines</td>\n",
              "      <td>0.0</td>\n",
              "      <td>4.0</td>\n",
              "      <td>0.0</td>\n",
              "      <td>0.0</td>\n",
              "    </tr>\n",
              "    <tr>\n",
              "      <th>13</th>\n",
              "      <td>Singapore</td>\n",
              "      <td>18.0</td>\n",
              "      <td>0.0</td>\n",
              "      <td>0.0</td>\n",
              "      <td>0.0</td>\n",
              "    </tr>\n",
              "    <tr>\n",
              "      <th>14</th>\n",
              "      <td>South Korea</td>\n",
              "      <td>16.0</td>\n",
              "      <td>0.0</td>\n",
              "      <td>0.0</td>\n",
              "      <td>0.0</td>\n",
              "    </tr>\n",
              "    <tr>\n",
              "      <th>15</th>\n",
              "      <td>Taiwan</td>\n",
              "      <td>20.0</td>\n",
              "      <td>0.0</td>\n",
              "      <td>0.0</td>\n",
              "      <td>0.0</td>\n",
              "    </tr>\n",
              "    <tr>\n",
              "      <th>16</th>\n",
              "      <td>Thailand</td>\n",
              "      <td>43.0</td>\n",
              "      <td>0.0</td>\n",
              "      <td>2.0</td>\n",
              "      <td>0.0</td>\n",
              "    </tr>\n",
              "    <tr>\n",
              "      <th>17</th>\n",
              "      <td>United States</td>\n",
              "      <td>15.0</td>\n",
              "      <td>0.0</td>\n",
              "      <td>0.0</td>\n",
              "      <td>0.0</td>\n",
              "    </tr>\n",
              "    <tr>\n",
              "      <th>18</th>\n",
              "      <td>Vietnam</td>\n",
              "      <td>14.0</td>\n",
              "      <td>0.0</td>\n",
              "      <td>0.0</td>\n",
              "      <td>0.0</td>\n",
              "    </tr>\n",
              "  </tbody>\n",
              "</table>\n",
              "</div>"
            ],
            "text/plain": [
              "           Country  Confirmed  Suspected  Recovered  Deaths\n",
              "0        Australia       13.0        1.0        0.0     0.0\n",
              "1           Brazil        0.0        1.0        0.0     0.0\n",
              "2           Canada        1.0        0.0        0.0     0.0\n",
              "3         Colombia        0.0        1.0        0.0     0.0\n",
              "4           France       14.0        0.0        0.0     0.0\n",
              "5        Hong Kong       29.0     1139.0        0.0     0.0\n",
              "6            Japan       18.0        0.0        1.0     0.0\n",
              "7            Macau       18.0        0.0        0.0     0.0\n",
              "8   Mainland China    10053.0      839.0      275.0   265.0\n",
              "9         Malaysia       13.0        4.0        0.0     0.0\n",
              "10          Mexico        0.0        1.0        0.0     0.0\n",
              "11           Nepal        4.0        0.0        0.0     0.0\n",
              "12     Philippines        0.0        4.0        0.0     0.0\n",
              "13       Singapore       18.0        0.0        0.0     0.0\n",
              "14     South Korea       16.0        0.0        0.0     0.0\n",
              "15          Taiwan       20.0        0.0        0.0     0.0\n",
              "16        Thailand       43.0        0.0        2.0     0.0\n",
              "17   United States       15.0        0.0        0.0     0.0\n",
              "18         Vietnam       14.0        0.0        0.0     0.0"
            ]
          },
          "metadata": {
            "tags": []
          },
          "execution_count": 8
        }
      ]
    },
    {
      "cell_type": "code",
      "metadata": {
        "id": "VG13YlGmQPbV",
        "colab_type": "code",
        "outputId": "37e60b3f-4c73-4179-8635-c8ec92bf6dff",
        "colab": {
          "base_uri": "https://localhost:8080/",
          "height": 530
        }
      },
      "source": [
        "plt.figure(1,figsize=(20,8))\n",
        "plt.subplot(121)\n",
        "sns.barplot(data=country,y='Country',x='Confirmed');\n",
        "plt.title('Confirmed Cases')\n",
        "plt.xlim(0,80)\n",
        "plt.subplot(122)\n",
        "sns.barplot(data=country,y='Country',x='Suspected');\n",
        "plt.title('Suspected cases')\n",
        "plt.xlim(0,80)"
      ],
      "execution_count": 0,
      "outputs": [
        {
          "output_type": "execute_result",
          "data": {
            "text/plain": [
              "(0, 80)"
            ]
          },
          "metadata": {
            "tags": []
          },
          "execution_count": 19
        },
        {
          "output_type": "display_data",
          "data": {
            "image/png": "[encoded data removed]",
            "text/plain": [
              "<Figure size 1440x576 with 2 Axes>"
            ]
          },
          "metadata": {
            "tags": []
          }
        }
      ]
    },
    {
      "cell_type": "code",
      "metadata": {
        "id": "8BrWsDnwTYAd",
        "colab_type": "code",
        "outputId": "b6f6378e-568e-43b0-fd89-5eae195bbd26",
        "colab": {
          "base_uri": "https://localhost:8080/",
          "height": 204
        }
      },
      "source": [
        "china=df[df['Country']=='Mainland China'].copy()\n",
        "china.head()"
      ],
      "execution_count": 0,
      "outputs": [
        {
          "output_type": "execute_result",
          "data": {
            "text/html": [
              "<div>\n",
              "<style scoped>\n",
              "    .dataframe tbody tr th:only-of-type {\n",
              "        vertical-align: middle;\n",
              "    }\n",
              "\n",
              "    .dataframe tbody tr th {\n",
              "        vertical-align: top;\n",
              "    }\n",
              "\n",
              "    .dataframe thead th {\n",
              "        text-align: right;\n",
              "    }\n",
              "</style>\n",
              "<table border=\"1\" class=\"dataframe\">\n",
              "  <thead>\n",
              "    <tr style=\"text-align: right;\">\n",
              "      <th></th>\n",
              "      <th>Unnamed: 0</th>\n",
              "      <th>Province/State</th>\n",
              "      <th>Country</th>\n",
              "      <th>Date last updated</th>\n",
              "      <th>Confirmed</th>\n",
              "      <th>Suspected</th>\n",
              "      <th>Recovered</th>\n",
              "      <th>Deaths</th>\n",
              "    </tr>\n",
              "  </thead>\n",
              "  <tbody>\n",
              "    <tr>\n",
              "      <th>0</th>\n",
              "      <td>0</td>\n",
              "      <td>Shanghai</td>\n",
              "      <td>Mainland China</td>\n",
              "      <td>1/21/2020</td>\n",
              "      <td>9.0</td>\n",
              "      <td>10.0</td>\n",
              "      <td>0.0</td>\n",
              "      <td>0.0</td>\n",
              "    </tr>\n",
              "    <tr>\n",
              "      <th>1</th>\n",
              "      <td>1</td>\n",
              "      <td>Yunnan</td>\n",
              "      <td>Mainland China</td>\n",
              "      <td>1/21/2020</td>\n",
              "      <td>1.0</td>\n",
              "      <td>0.0</td>\n",
              "      <td>0.0</td>\n",
              "      <td>0.0</td>\n",
              "    </tr>\n",
              "    <tr>\n",
              "      <th>2</th>\n",
              "      <td>2</td>\n",
              "      <td>Beijing</td>\n",
              "      <td>Mainland China</td>\n",
              "      <td>1/21/2020</td>\n",
              "      <td>10.0</td>\n",
              "      <td>0.0</td>\n",
              "      <td>0.0</td>\n",
              "      <td>0.0</td>\n",
              "    </tr>\n",
              "    <tr>\n",
              "      <th>4</th>\n",
              "      <td>4</td>\n",
              "      <td>Jilin</td>\n",
              "      <td>Mainland China</td>\n",
              "      <td>1/21/2020</td>\n",
              "      <td>0.0</td>\n",
              "      <td>1.0</td>\n",
              "      <td>0.0</td>\n",
              "      <td>0.0</td>\n",
              "    </tr>\n",
              "    <tr>\n",
              "      <th>5</th>\n",
              "      <td>5</td>\n",
              "      <td>Sichuan</td>\n",
              "      <td>Mainland China</td>\n",
              "      <td>1/21/2020</td>\n",
              "      <td>2.0</td>\n",
              "      <td>1.0</td>\n",
              "      <td>0.0</td>\n",
              "      <td>0.0</td>\n",
              "    </tr>\n",
              "  </tbody>\n",
              "</table>\n",
              "</div>"
            ],
            "text/plain": [
              "   Unnamed: 0 Province/State         Country  ... Suspected  Recovered  Deaths\n",
              "0           0       Shanghai  Mainland China  ...      10.0        0.0     0.0\n",
              "1           1         Yunnan  Mainland China  ...       0.0        0.0     0.0\n",
              "2           2        Beijing  Mainland China  ...       0.0        0.0     0.0\n",
              "4           4          Jilin  Mainland China  ...       1.0        0.0     0.0\n",
              "5           5        Sichuan  Mainland China  ...       1.0        0.0     0.0\n",
              "\n",
              "[5 rows x 8 columns]"
            ]
          },
          "metadata": {
            "tags": []
          },
          "execution_count": 12
        }
      ]
    },
    {
      "cell_type": "code",
      "metadata": {
        "id": "kwjVwx0HSzeh",
        "colab_type": "code",
        "outputId": "753833c3-3d0f-4f54-e41a-e78ab86810ee",
        "colab": {
          "base_uri": "https://localhost:8080/",
          "height": 514
        }
      },
      "source": [
        "china_cases=china[['Province/State','Confirmed', 'Suspected', 'Recovered', 'Deaths']].groupby(['Province/State']).agg({'Confirmed':'sum','Suspected':'sum','Recovered':'sum','Deaths':'sum'})\n",
        "china_cases.reset_index(inplace=True,)\n",
        "china_cases.head(15)"
      ],
      "execution_count": 0,
      "outputs": [
        {
          "output_type": "execute_result",
          "data": {
            "text/html": [
              "<div>\n",
              "<style scoped>\n",
              "    .dataframe tbody tr th:only-of-type {\n",
              "        vertical-align: middle;\n",
              "    }\n",
              "\n",
              "    .dataframe tbody tr th {\n",
              "        vertical-align: top;\n",
              "    }\n",
              "\n",
              "    .dataframe thead th {\n",
              "        text-align: right;\n",
              "    }\n",
              "</style>\n",
              "<table border=\"1\" class=\"dataframe\">\n",
              "  <thead>\n",
              "    <tr style=\"text-align: right;\">\n",
              "      <th></th>\n",
              "      <th>Province/State</th>\n",
              "      <th>Confirmed</th>\n",
              "      <th>Suspected</th>\n",
              "      <th>Recovered</th>\n",
              "      <th>Deaths</th>\n",
              "    </tr>\n",
              "  </thead>\n",
              "  <tbody>\n",
              "    <tr>\n",
              "      <th>0</th>\n",
              "      <td>Anhui</td>\n",
              "      <td>238.0</td>\n",
              "      <td>35.0</td>\n",
              "      <td>0.0</td>\n",
              "      <td>0.0</td>\n",
              "    </tr>\n",
              "    <tr>\n",
              "      <th>1</th>\n",
              "      <td>Beijing</td>\n",
              "      <td>304.0</td>\n",
              "      <td>22.0</td>\n",
              "      <td>8.0</td>\n",
              "      <td>0.0</td>\n",
              "    </tr>\n",
              "    <tr>\n",
              "      <th>2</th>\n",
              "      <td>Chongqing</td>\n",
              "      <td>338.0</td>\n",
              "      <td>26.0</td>\n",
              "      <td>0.0</td>\n",
              "      <td>0.0</td>\n",
              "    </tr>\n",
              "    <tr>\n",
              "      <th>3</th>\n",
              "      <td>Fujian</td>\n",
              "      <td>102.0</td>\n",
              "      <td>70.0</td>\n",
              "      <td>0.0</td>\n",
              "      <td>1.0</td>\n",
              "    </tr>\n",
              "    <tr>\n",
              "      <th>4</th>\n",
              "      <td>Gansu</td>\n",
              "      <td>28.0</td>\n",
              "      <td>0.0</td>\n",
              "      <td>0.0</td>\n",
              "      <td>0.0</td>\n",
              "    </tr>\n",
              "    <tr>\n",
              "      <th>5</th>\n",
              "      <td>Guangdong</td>\n",
              "      <td>546.0</td>\n",
              "      <td>6.0</td>\n",
              "      <td>14.0</td>\n",
              "      <td>0.0</td>\n",
              "    </tr>\n",
              "    <tr>\n",
              "      <th>6</th>\n",
              "      <td>Guangxi</td>\n",
              "      <td>158.0</td>\n",
              "      <td>2.0</td>\n",
              "      <td>0.0</td>\n",
              "      <td>0.0</td>\n",
              "    </tr>\n",
              "    <tr>\n",
              "      <th>7</th>\n",
              "      <td>Guizhou</td>\n",
              "      <td>28.0</td>\n",
              "      <td>1.0</td>\n",
              "      <td>0.0</td>\n",
              "      <td>0.0</td>\n",
              "    </tr>\n",
              "    <tr>\n",
              "      <th>8</th>\n",
              "      <td>Hainan</td>\n",
              "      <td>102.0</td>\n",
              "      <td>97.0</td>\n",
              "      <td>0.0</td>\n",
              "      <td>0.0</td>\n",
              "    </tr>\n",
              "    <tr>\n",
              "      <th>9</th>\n",
              "      <td>Hebei</td>\n",
              "      <td>48.0</td>\n",
              "      <td>0.0</td>\n",
              "      <td>0.0</td>\n",
              "      <td>7.0</td>\n",
              "    </tr>\n",
              "    <tr>\n",
              "      <th>10</th>\n",
              "      <td>Heilongjiang</td>\n",
              "      <td>58.0</td>\n",
              "      <td>2.0</td>\n",
              "      <td>0.0</td>\n",
              "      <td>5.0</td>\n",
              "    </tr>\n",
              "    <tr>\n",
              "      <th>11</th>\n",
              "      <td>Henan</td>\n",
              "      <td>259.0</td>\n",
              "      <td>50.0</td>\n",
              "      <td>0.0</td>\n",
              "      <td>2.0</td>\n",
              "    </tr>\n",
              "    <tr>\n",
              "      <th>12</th>\n",
              "      <td>Hubei</td>\n",
              "      <td>5856.0</td>\n",
              "      <td>11.0</td>\n",
              "      <td>238.0</td>\n",
              "      <td>248.0</td>\n",
              "    </tr>\n",
              "    <tr>\n",
              "      <th>13</th>\n",
              "      <td>Hunan</td>\n",
              "      <td>286.0</td>\n",
              "      <td>0.0</td>\n",
              "      <td>0.0</td>\n",
              "      <td>0.0</td>\n",
              "    </tr>\n",
              "    <tr>\n",
              "      <th>14</th>\n",
              "      <td>Inner Mongolia</td>\n",
              "      <td>25.0</td>\n",
              "      <td>5.0</td>\n",
              "      <td>0.0</td>\n",
              "      <td>0.0</td>\n",
              "    </tr>\n",
              "  </tbody>\n",
              "</table>\n",
              "</div>"
            ],
            "text/plain": [
              "    Province/State  Confirmed  Suspected  Recovered  Deaths\n",
              "0            Anhui      238.0       35.0        0.0     0.0\n",
              "1          Beijing      304.0       22.0        8.0     0.0\n",
              "2        Chongqing      338.0       26.0        0.0     0.0\n",
              "3           Fujian      102.0       70.0        0.0     1.0\n",
              "4            Gansu       28.0        0.0        0.0     0.0\n",
              "5        Guangdong      546.0        6.0       14.0     0.0\n",
              "6          Guangxi      158.0        2.0        0.0     0.0\n",
              "7          Guizhou       28.0        1.0        0.0     0.0\n",
              "8           Hainan      102.0       97.0        0.0     0.0\n",
              "9            Hebei       48.0        0.0        0.0     7.0\n",
              "10    Heilongjiang       58.0        2.0        0.0     5.0\n",
              "11           Henan      259.0       50.0        0.0     2.0\n",
              "12           Hubei     5856.0       11.0      238.0   248.0\n",
              "13           Hunan      286.0        0.0        0.0     0.0\n",
              "14  Inner Mongolia       25.0        5.0        0.0     0.0"
            ]
          },
          "metadata": {
            "tags": []
          },
          "execution_count": 13
        }
      ]
    },
    {
      "cell_type": "code",
      "metadata": {
        "id": "TXLEJXADTG0S",
        "colab_type": "code",
        "outputId": "c968cc4f-1c7d-4014-e9ba-94fb478bad4c",
        "colab": {
          "base_uri": "https://localhost:8080/",
          "height": 577
        }
      },
      "source": [
        "plt.figure(1,figsize=(20,8))\n",
        "plt.subplot(121)\n",
        "sns.barplot(data=china_cases,x='Province/State',y='Confirmed');\n",
        "plt.title('Confirmed Cases china')\n",
        "plt.xticks(np.arange(31),china_cases['Province/State'].values,rotation=90);\n",
        "plt.subplot(122)\n",
        "sns.barplot(data=china_cases,x='Province/State',y='Suspected');\n",
        "plt.title('Suspected cases china')\n",
        "plt.xticks(np.arange(31),china_cases['Province/State'].values,rotation=90);"
      ],
      "execution_count": 0,
      "outputs": [
        {
          "output_type": "display_data",
          "data": {
            "image/png": "[encoded data removed]",
            "text/plain": [
              "<Figure size 1440x576 with 2 Axes>"
            ]
          },
          "metadata": {
            "tags": []
          }
        }
      ]
    },
    {
      "cell_type": "code",
      "metadata": {
        "id": "LUGPiVA_UtIz",
        "colab_type": "code",
        "outputId": "ca92f2ba-8046-4df1-85a0-d8a569a7e223",
        "colab": {
          "base_uri": "https://localhost:8080/",
          "height": 34
        }
      },
      "source": [
        "china_cases.shape[0]"
      ],
      "execution_count": 0,
      "outputs": [
        {
          "output_type": "execute_result",
          "data": {
            "text/plain": [
              "31"
            ]
          },
          "metadata": {
            "tags": []
          },
          "execution_count": 41
        }
      ]
    },
    {
      "cell_type": "markdown",
      "metadata": {
        "id": "3VNZSQY3gOcA",
        "colab_type": "text"
      },
      "source": [
        "# Deaths in china"
      ]
    },
    {
      "cell_type": "code",
      "metadata": {
        "id": "-s75HVw6UKA9",
        "colab_type": "code",
        "outputId": "cb31ed0d-2ddc-4cc7-96b1-c7f754bc6e48",
        "colab": {
          "base_uri": "https://localhost:8080/",
          "height": 577
        }
      },
      "source": [
        "plt.figure(1,figsize=(16,8))\n",
        "sns.barplot(data=china_cases,x='Province/State',y='Deaths');\n",
        "plt.title('Deaths cases')\n",
        "plt.xticks(np.arange(31),china_cases['Province/State'].values,rotation=90)\n",
        "plt.show()"
      ],
      "execution_count": 0,
      "outputs": [
        {
          "output_type": "display_data",
          "data": {
            "image/png": "[encoded data removed]",
            "text/plain": [
              "<Figure size 1152x576 with 1 Axes>"
            ]
          },
          "metadata": {
            "tags": []
          }
        }
      ]
    },
    {
      "cell_type": "code",
      "metadata": {
        "id": "99_UpGIKUen3",
        "colab_type": "code",
        "colab": {}
      },
      "source": [
        "df1 = pd.read_csv('/content/corona/time_series_2019_ncov_confirmed.csv')\n",
        "df11 = pd.read_csv('/content/corona/time_series_2019_ncov_confirmed.csv')"
      ],
      "execution_count": 0,
      "outputs": []
    },
    {
      "cell_type": "code",
      "metadata": {
        "id": "6rXnRk2uVLon",
        "colab_type": "code",
        "outputId": "9bf60553-8f08-4419-a0a2-ed9bcca345b9",
        "colab": {
          "base_uri": "https://localhost:8080/",
          "height": 241
        }
      },
      "source": [
        "df1.head(5)"
      ],
      "execution_count": 0,
      "outputs": [
        {
          "output_type": "execute_result",
          "data": {
            "text/html": [
              "<div>\n",
              "<style scoped>\n",
              "    .dataframe tbody tr th:only-of-type {\n",
              "        vertical-align: middle;\n",
              "    }\n",
              "\n",
              "    .dataframe tbody tr th {\n",
              "        vertical-align: top;\n",
              "    }\n",
              "\n",
              "    .dataframe thead th {\n",
              "        text-align: right;\n",
              "    }\n",
              "</style>\n",
              "<table border=\"1\" class=\"dataframe\">\n",
              "  <thead>\n",
              "    <tr style=\"text-align: right;\">\n",
              "      <th></th>\n",
              "      <th>Province/State</th>\n",
              "      <th>Country/Region</th>\n",
              "      <th>Lat</th>\n",
              "      <th>Long</th>\n",
              "      <th>1/21/20 22:00</th>\n",
              "      <th>1/22/20 12:00</th>\n",
              "      <th>1/23/20 12:00</th>\n",
              "      <th>1/24/20 0:00</th>\n",
              "      <th>1/24/20 12:00</th>\n",
              "      <th>1/25/20 0:00</th>\n",
              "      <th>1/25/20 12:00</th>\n",
              "      <th>1/25/20 22:00</th>\n",
              "      <th>1/26/20 11:00</th>\n",
              "      <th>1/26/20 23:00</th>\n",
              "      <th>1/27/20 9:00</th>\n",
              "      <th>1/27/20 19:00</th>\n",
              "      <th>1/27/20 20:30</th>\n",
              "      <th>1/28/20 13:00</th>\n",
              "      <th>1/28/20 18:00</th>\n",
              "      <th>1/28/20 23:00</th>\n",
              "      <th>1/29/20 13:30</th>\n",
              "      <th>1/29/20 14:30</th>\n",
              "      <th>1/29/20 21:00</th>\n",
              "      <th>1/30/20 11:00</th>\n",
              "      <th>1/31/20 14:00</th>\n",
              "      <th>02/01/20 10:00</th>\n",
              "      <th>02/02/20 21:00</th>\n",
              "      <th>02/03/20 21:00</th>\n",
              "      <th>02/04/20 9:40</th>\n",
              "      <th>02/04/20 22:00</th>\n",
              "      <th>02/05/20 9:00</th>\n",
              "      <th>02/05/20 23:00</th>\n",
              "      <th>02/06/20 9:00</th>\n",
              "      <th>02/06/20 14:20</th>\n",
              "      <th>02/07/20 20:13</th>\n",
              "      <th>02/07/20 22:50</th>\n",
              "      <th>02/08/20 22:04</th>\n",
              "      <th>02/08/20 23:04</th>\n",
              "      <th>02/09/20 10:30</th>\n",
              "      <th>02/09/20 23:20</th>\n",
              "      <th>confirmed</th>\n",
              "    </tr>\n",
              "  </thead>\n",
              "  <tbody>\n",
              "    <tr>\n",
              "      <th>0</th>\n",
              "      <td>Anhui</td>\n",
              "      <td>Mainland China</td>\n",
              "      <td>31.82571</td>\n",
              "      <td>117.2264</td>\n",
              "      <td>0.0</td>\n",
              "      <td>1.0</td>\n",
              "      <td>9.0</td>\n",
              "      <td>15.0</td>\n",
              "      <td>15.0</td>\n",
              "      <td>39.0</td>\n",
              "      <td>39.0</td>\n",
              "      <td>60.0</td>\n",
              "      <td>60.0</td>\n",
              "      <td>70.0</td>\n",
              "      <td>70.0</td>\n",
              "      <td>70.0</td>\n",
              "      <td>106.0</td>\n",
              "      <td>106.0</td>\n",
              "      <td>106.0</td>\n",
              "      <td>152.0</td>\n",
              "      <td>152.0</td>\n",
              "      <td>152.0</td>\n",
              "      <td>200.0</td>\n",
              "      <td>200.0</td>\n",
              "      <td>237.0</td>\n",
              "      <td>297.0</td>\n",
              "      <td>408.0</td>\n",
              "      <td>480.0</td>\n",
              "      <td>480.0</td>\n",
              "      <td>530.0</td>\n",
              "      <td>530.0</td>\n",
              "      <td>591.0</td>\n",
              "      <td>591.0</td>\n",
              "      <td>591.0</td>\n",
              "      <td>665</td>\n",
              "      <td>733</td>\n",
              "      <td>733</td>\n",
              "      <td>779</td>\n",
              "      <td>779</td>\n",
              "      <td>830</td>\n",
              "      <td>830.0</td>\n",
              "    </tr>\n",
              "    <tr>\n",
              "      <th>1</th>\n",
              "      <td>Beijing</td>\n",
              "      <td>Mainland China</td>\n",
              "      <td>40.18238</td>\n",
              "      <td>116.4142</td>\n",
              "      <td>10.0</td>\n",
              "      <td>14.0</td>\n",
              "      <td>22.0</td>\n",
              "      <td>26.0</td>\n",
              "      <td>36.0</td>\n",
              "      <td>36.0</td>\n",
              "      <td>41.0</td>\n",
              "      <td>51.0</td>\n",
              "      <td>68.0</td>\n",
              "      <td>68.0</td>\n",
              "      <td>72.0</td>\n",
              "      <td>80.0</td>\n",
              "      <td>80.0</td>\n",
              "      <td>91.0</td>\n",
              "      <td>91.0</td>\n",
              "      <td>91.0</td>\n",
              "      <td>111.0</td>\n",
              "      <td>111.0</td>\n",
              "      <td>111.0</td>\n",
              "      <td>114.0</td>\n",
              "      <td>139.0</td>\n",
              "      <td>168.0</td>\n",
              "      <td>191.0</td>\n",
              "      <td>212.0</td>\n",
              "      <td>212.0</td>\n",
              "      <td>228.0</td>\n",
              "      <td>253.0</td>\n",
              "      <td>274.0</td>\n",
              "      <td>274.0</td>\n",
              "      <td>274.0</td>\n",
              "      <td>297</td>\n",
              "      <td>315</td>\n",
              "      <td>315</td>\n",
              "      <td>326</td>\n",
              "      <td>326</td>\n",
              "      <td>337</td>\n",
              "      <td>337.0</td>\n",
              "    </tr>\n",
              "    <tr>\n",
              "      <th>2</th>\n",
              "      <td>Chongqing</td>\n",
              "      <td>Mainland China</td>\n",
              "      <td>30.05718</td>\n",
              "      <td>107.8740</td>\n",
              "      <td>5.0</td>\n",
              "      <td>6.0</td>\n",
              "      <td>9.0</td>\n",
              "      <td>27.0</td>\n",
              "      <td>27.0</td>\n",
              "      <td>57.0</td>\n",
              "      <td>57.0</td>\n",
              "      <td>75.0</td>\n",
              "      <td>75.0</td>\n",
              "      <td>110.0</td>\n",
              "      <td>110.0</td>\n",
              "      <td>110.0</td>\n",
              "      <td>132.0</td>\n",
              "      <td>132.0</td>\n",
              "      <td>132.0</td>\n",
              "      <td>147.0</td>\n",
              "      <td>147.0</td>\n",
              "      <td>147.0</td>\n",
              "      <td>165.0</td>\n",
              "      <td>182.0</td>\n",
              "      <td>211.0</td>\n",
              "      <td>247.0</td>\n",
              "      <td>300.0</td>\n",
              "      <td>337.0</td>\n",
              "      <td>337.0</td>\n",
              "      <td>366.0</td>\n",
              "      <td>376.0</td>\n",
              "      <td>389.0</td>\n",
              "      <td>400.0</td>\n",
              "      <td>400.0</td>\n",
              "      <td>415</td>\n",
              "      <td>426</td>\n",
              "      <td>428</td>\n",
              "      <td>446</td>\n",
              "      <td>450</td>\n",
              "      <td>468</td>\n",
              "      <td>468.0</td>\n",
              "    </tr>\n",
              "    <tr>\n",
              "      <th>3</th>\n",
              "      <td>Fujian</td>\n",
              "      <td>Mainland China</td>\n",
              "      <td>26.07783</td>\n",
              "      <td>117.9895</td>\n",
              "      <td>0.0</td>\n",
              "      <td>1.0</td>\n",
              "      <td>5.0</td>\n",
              "      <td>5.0</td>\n",
              "      <td>10.0</td>\n",
              "      <td>10.0</td>\n",
              "      <td>18.0</td>\n",
              "      <td>18.0</td>\n",
              "      <td>35.0</td>\n",
              "      <td>35.0</td>\n",
              "      <td>56.0</td>\n",
              "      <td>59.0</td>\n",
              "      <td>59.0</td>\n",
              "      <td>80.0</td>\n",
              "      <td>80.0</td>\n",
              "      <td>82.0</td>\n",
              "      <td>84.0</td>\n",
              "      <td>84.0</td>\n",
              "      <td>101.0</td>\n",
              "      <td>101.0</td>\n",
              "      <td>120.0</td>\n",
              "      <td>144.0</td>\n",
              "      <td>159.0</td>\n",
              "      <td>179.0</td>\n",
              "      <td>179.0</td>\n",
              "      <td>194.0</td>\n",
              "      <td>205.0</td>\n",
              "      <td>215.0</td>\n",
              "      <td>215.0</td>\n",
              "      <td>215.0</td>\n",
              "      <td>224</td>\n",
              "      <td>239</td>\n",
              "      <td>239</td>\n",
              "      <td>250</td>\n",
              "      <td>250</td>\n",
              "      <td>261</td>\n",
              "      <td>261.0</td>\n",
              "    </tr>\n",
              "    <tr>\n",
              "      <th>4</th>\n",
              "      <td>Gansu</td>\n",
              "      <td>Mainland China</td>\n",
              "      <td>36.06110</td>\n",
              "      <td>103.8343</td>\n",
              "      <td>0.0</td>\n",
              "      <td>0.0</td>\n",
              "      <td>2.0</td>\n",
              "      <td>2.0</td>\n",
              "      <td>2.0</td>\n",
              "      <td>4.0</td>\n",
              "      <td>4.0</td>\n",
              "      <td>7.0</td>\n",
              "      <td>7.0</td>\n",
              "      <td>14.0</td>\n",
              "      <td>14.0</td>\n",
              "      <td>14.0</td>\n",
              "      <td>19.0</td>\n",
              "      <td>19.0</td>\n",
              "      <td>19.0</td>\n",
              "      <td>24.0</td>\n",
              "      <td>24.0</td>\n",
              "      <td>24.0</td>\n",
              "      <td>26.0</td>\n",
              "      <td>26.0</td>\n",
              "      <td>29.0</td>\n",
              "      <td>35.0</td>\n",
              "      <td>51.0</td>\n",
              "      <td>55.0</td>\n",
              "      <td>55.0</td>\n",
              "      <td>57.0</td>\n",
              "      <td>57.0</td>\n",
              "      <td>62.0</td>\n",
              "      <td>62.0</td>\n",
              "      <td>62.0</td>\n",
              "      <td>67</td>\n",
              "      <td>71</td>\n",
              "      <td>79</td>\n",
              "      <td>79</td>\n",
              "      <td>79</td>\n",
              "      <td>83</td>\n",
              "      <td>83.0</td>\n",
              "    </tr>\n",
              "  </tbody>\n",
              "</table>\n",
              "</div>"
            ],
            "text/plain": [
              "  Province/State  Country/Region  ...  02/09/20 23:20  confirmed\n",
              "0          Anhui  Mainland China  ...             830      830.0\n",
              "1        Beijing  Mainland China  ...             337      337.0\n",
              "2      Chongqing  Mainland China  ...             468      468.0\n",
              "3         Fujian  Mainland China  ...             261      261.0\n",
              "4          Gansu  Mainland China  ...              83       83.0\n",
              "\n",
              "[5 rows x 41 columns]"
            ]
          },
          "metadata": {
            "tags": []
          },
          "execution_count": 168
        }
      ]
    },
    {
      "cell_type": "code",
      "metadata": {
        "id": "GlK9gj3KYOOt",
        "colab_type": "code",
        "colab": {}
      },
      "source": [
        "df11.fillna(0,inplace=True)"
      ],
      "execution_count": 0,
      "outputs": []
    },
    {
      "cell_type": "code",
      "metadata": {
        "id": "lh65dOvYXZdC",
        "colab_type": "code",
        "colab": {}
      },
      "source": [
        "col_list=['1/21/20 22:00',\n",
        "       '1/22/20 12:00', '1/23/20 12:00', '1/24/20 0:00', '1/24/20 12:00',\n",
        "       '1/25/20 0:00', '1/25/20 12:00', '1/25/20 22:00', '1/26/20 11:00',\n",
        "       '1/26/20 23:00', '1/27/20 9:00', '1/27/20 19:00', '1/27/20 20:30',\n",
        "       '1/28/20 13:00', '1/28/20 18:00', '1/28/20 23:00', '1/29/20 13:30',\n",
        "       '1/29/20 14:30', '1/29/20 21:00', '1/30/20 11:00', '1/31/20 14:00',\n",
        "       '02/01/20 10:00', '02/02/20 21:00', '02/03/20 21:00', '02/04/20 9:40',\n",
        "       '02/04/20 22:00', '02/05/20 9:00', '02/05/20 23:00', '02/06/20 9:00',\n",
        "       '02/06/20 14:20', '02/07/20 20:13', '02/07/20 22:50', '02/08/20 22:04',\n",
        "       '02/08/20 23:04', '02/09/20 10:30', '02/09/20 23:20']"
      ],
      "execution_count": 0,
      "outputs": []
    },
    {
      "cell_type": "code",
      "metadata": {
        "id": "8zaKdx45XUEg",
        "colab_type": "code",
        "colab": {}
      },
      "source": [
        "df1['confirmed'] = df1[col_list].max(axis=1)"
      ],
      "execution_count": 0,
      "outputs": []
    },
    {
      "cell_type": "code",
      "metadata": {
        "id": "-HMbCksJXUI6",
        "colab_type": "code",
        "outputId": "bc10a18c-f8dd-428a-978d-aa655e97d987",
        "colab": {
          "base_uri": "https://localhost:8080/",
          "height": 204
        }
      },
      "source": [
        "df1.drop(col_list,axis=1,inplace=True)\n",
        "df1.head()"
      ],
      "execution_count": 0,
      "outputs": [
        {
          "output_type": "execute_result",
          "data": {
            "text/html": [
              "<div>\n",
              "<style scoped>\n",
              "    .dataframe tbody tr th:only-of-type {\n",
              "        vertical-align: middle;\n",
              "    }\n",
              "\n",
              "    .dataframe tbody tr th {\n",
              "        vertical-align: top;\n",
              "    }\n",
              "\n",
              "    .dataframe thead th {\n",
              "        text-align: right;\n",
              "    }\n",
              "</style>\n",
              "<table border=\"1\" class=\"dataframe\">\n",
              "  <thead>\n",
              "    <tr style=\"text-align: right;\">\n",
              "      <th></th>\n",
              "      <th>Province/State</th>\n",
              "      <th>Country/Region</th>\n",
              "      <th>Lat</th>\n",
              "      <th>Long</th>\n",
              "      <th>confirmed</th>\n",
              "    </tr>\n",
              "  </thead>\n",
              "  <tbody>\n",
              "    <tr>\n",
              "      <th>0</th>\n",
              "      <td>Anhui</td>\n",
              "      <td>Mainland China</td>\n",
              "      <td>31.82571</td>\n",
              "      <td>117.2264</td>\n",
              "      <td>830.0</td>\n",
              "    </tr>\n",
              "    <tr>\n",
              "      <th>1</th>\n",
              "      <td>Beijing</td>\n",
              "      <td>Mainland China</td>\n",
              "      <td>40.18238</td>\n",
              "      <td>116.4142</td>\n",
              "      <td>337.0</td>\n",
              "    </tr>\n",
              "    <tr>\n",
              "      <th>2</th>\n",
              "      <td>Chongqing</td>\n",
              "      <td>Mainland China</td>\n",
              "      <td>30.05718</td>\n",
              "      <td>107.8740</td>\n",
              "      <td>468.0</td>\n",
              "    </tr>\n",
              "    <tr>\n",
              "      <th>3</th>\n",
              "      <td>Fujian</td>\n",
              "      <td>Mainland China</td>\n",
              "      <td>26.07783</td>\n",
              "      <td>117.9895</td>\n",
              "      <td>261.0</td>\n",
              "    </tr>\n",
              "    <tr>\n",
              "      <th>4</th>\n",
              "      <td>Gansu</td>\n",
              "      <td>Mainland China</td>\n",
              "      <td>36.06110</td>\n",
              "      <td>103.8343</td>\n",
              "      <td>83.0</td>\n",
              "    </tr>\n",
              "  </tbody>\n",
              "</table>\n",
              "</div>"
            ],
            "text/plain": [
              "  Province/State  Country/Region       Lat      Long  confirmed\n",
              "0          Anhui  Mainland China  31.82571  117.2264      830.0\n",
              "1        Beijing  Mainland China  40.18238  116.4142      337.0\n",
              "2      Chongqing  Mainland China  30.05718  107.8740      468.0\n",
              "3         Fujian  Mainland China  26.07783  117.9895      261.0\n",
              "4          Gansu  Mainland China  36.06110  103.8343       83.0"
            ]
          },
          "metadata": {
            "tags": []
          },
          "execution_count": 169
        }
      ]
    },
    {
      "cell_type": "code",
      "metadata": {
        "id": "JDjVvv9IW5OE",
        "colab_type": "code",
        "colab": {}
      },
      "source": [
        "import plotly.express as px\n",
        "df = px.data.gapminder()\n",
        "fig = px.scatter_geo(df1, lat='Lat',lon=\"Long\", hover_name=\"Province/State\",color='Country/Region',size='confirmed',\n",
        "                     projection=\"natural earth\",height=720,width=1280)\n",
        "fig.show()"
      ],
      "execution_count": 0,
      "outputs": []
    },
    {
      "cell_type": "markdown",
      "metadata": {
        "id": "4IfsmoXnmdSi",
        "colab_type": "text"
      },
      "source": [
        "<center><img src=\"https://i.ibb.co/Dky1Zjp/newplot24.png\" width=\"1980\" height=\"500\"/></center>"
      ]
    },
    {
      "cell_type": "code",
      "metadata": {
        "id": "KnWDodXvTcQj",
        "colab_type": "code",
        "colab": {}
      },
      "source": [
        "color = ['r', 'g', 'b','c','m','y','gold','orange','skyblue','pink','cyan','lime','olive','purple']"
      ],
      "execution_count": 0,
      "outputs": []
    },
    {
      "cell_type": "markdown",
      "metadata": {
        "id": "Pn8ummdmUGm5",
        "colab_type": "text"
      },
      "source": [
        "# Treemap of confirmed cases in outside of china"
      ]
    },
    {
      "cell_type": "code",
      "metadata": {
        "id": "vypdNyHUVVWe",
        "colab_type": "code",
        "colab": {}
      },
      "source": [
        "new_con=df1[['Country/Region','confirmed']].groupby(['Country/Region']).agg({'confirmed':'sum'})\n",
        "new_con.reset_index(inplace=True)"
      ],
      "execution_count": 0,
      "outputs": []
    },
    {
      "cell_type": "code",
      "metadata": {
        "id": "BxSXyputWT2-",
        "colab_type": "code",
        "outputId": "32ab3a8d-0b5b-4e41-fc6b-31d36501a3ad",
        "colab": {
          "base_uri": "https://localhost:8080/",
          "height": 34
        }
      },
      "source": [
        "new_con.shape"
      ],
      "execution_count": 0,
      "outputs": [
        {
          "output_type": "execute_result",
          "data": {
            "text/plain": [
              "(29, 2)"
            ]
          },
          "metadata": {
            "tags": []
          },
          "execution_count": 172
        }
      ]
    },
    {
      "cell_type": "code",
      "metadata": {
        "id": "6-8DVWpOGiXQ",
        "colab_type": "code",
        "outputId": "33332ee1-f18b-4102-d75e-82321467abcc",
        "colab": {
          "base_uri": "https://localhost:8080/",
          "height": 683
        }
      },
      "source": [
        "plt.figure(1,figsize=(22,12))\n",
        "#color = ['r', 'g', 'b','c','m','y','gold','orange','skyblue']\n",
        "color = list(repeatlist(color, 29))\n",
        "squarify.plot(sizes=new_con[(new_con['confirmed']!=0)&(new_con['Country/Region']!='Mainland China')].confirmed.values.tolist(),\n",
        "              label=new_con[(new_con['confirmed']!=0)&(new_con['Country/Region']!='Mainland China')]['Country/Region'].values.tolist(), alpha=.7,color=color,\n",
        "              value=new_con[(new_con['confirmed']!=0)&(new_con['Country/Region']!='Mainland China')].confirmed.values.tolist())\n",
        "plt.axis('off')\n",
        "plt.show()\n"
      ],
      "execution_count": 0,
      "outputs": [
        {
          "output_type": "display_data",
          "data": {
            "image/png": "[encoded data removed]",
            "text/plain": [
              "<Figure size 1584x864 with 1 Axes>"
            ]
          },
          "metadata": {
            "tags": []
          }
        }
      ]
    },
    {
      "cell_type": "code",
      "metadata": {
        "id": "2jyA0wYPZovd",
        "colab_type": "code",
        "outputId": "07d075e1-b989-45fc-a5cb-92f4fc58b356",
        "colab": {
          "base_uri": "https://localhost:8080/",
          "height": 142
        }
      },
      "source": [
        "df1.head(3)"
      ],
      "execution_count": 0,
      "outputs": [
        {
          "output_type": "execute_result",
          "data": {
            "text/html": [
              "<div>\n",
              "<style scoped>\n",
              "    .dataframe tbody tr th:only-of-type {\n",
              "        vertical-align: middle;\n",
              "    }\n",
              "\n",
              "    .dataframe tbody tr th {\n",
              "        vertical-align: top;\n",
              "    }\n",
              "\n",
              "    .dataframe thead th {\n",
              "        text-align: right;\n",
              "    }\n",
              "</style>\n",
              "<table border=\"1\" class=\"dataframe\">\n",
              "  <thead>\n",
              "    <tr style=\"text-align: right;\">\n",
              "      <th></th>\n",
              "      <th>Province/State</th>\n",
              "      <th>Country/Region</th>\n",
              "      <th>Lat</th>\n",
              "      <th>Long</th>\n",
              "      <th>confirmed</th>\n",
              "      <th>size</th>\n",
              "    </tr>\n",
              "  </thead>\n",
              "  <tbody>\n",
              "    <tr>\n",
              "      <th>0</th>\n",
              "      <td>Anhui</td>\n",
              "      <td>Mainland China</td>\n",
              "      <td>31.82571</td>\n",
              "      <td>117.2264</td>\n",
              "      <td>830.0</td>\n",
              "      <td>100.821386</td>\n",
              "    </tr>\n",
              "    <tr>\n",
              "      <th>1</th>\n",
              "      <td>Beijing</td>\n",
              "      <td>Mainland China</td>\n",
              "      <td>40.18238</td>\n",
              "      <td>116.4142</td>\n",
              "      <td>337.0</td>\n",
              "      <td>87.301244</td>\n",
              "    </tr>\n",
              "    <tr>\n",
              "      <th>2</th>\n",
              "      <td>Chongqing</td>\n",
              "      <td>Mainland China</td>\n",
              "      <td>30.05718</td>\n",
              "      <td>107.8740</td>\n",
              "      <td>468.0</td>\n",
              "      <td>92.227024</td>\n",
              "    </tr>\n",
              "  </tbody>\n",
              "</table>\n",
              "</div>"
            ],
            "text/plain": [
              "  Province/State  Country/Region       Lat      Long  confirmed        size\n",
              "0          Anhui  Mainland China  31.82571  117.2264      830.0  100.821386\n",
              "1        Beijing  Mainland China  40.18238  116.4142      337.0   87.301244\n",
              "2      Chongqing  Mainland China  30.05718  107.8740      468.0   92.227024"
            ]
          },
          "metadata": {
            "tags": []
          },
          "execution_count": 176
        }
      ]
    },
    {
      "cell_type": "code",
      "metadata": {
        "id": "d99JA99BaCxX",
        "colab_type": "code",
        "colab": {}
      },
      "source": [
        "china_new=df1[df1['Country/Region']=='Mainland China'][['Province/State','confirmed']].copy()"
      ],
      "execution_count": 0,
      "outputs": []
    },
    {
      "cell_type": "code",
      "metadata": {
        "id": "bEIA8J04fe_M",
        "colab_type": "code",
        "outputId": "4953f0f5-6d0a-438e-8528-00fab09b7e12",
        "colab": {
          "base_uri": "https://localhost:8080/",
          "height": 34
        }
      },
      "source": [
        "china_new.shape"
      ],
      "execution_count": 0,
      "outputs": [
        {
          "output_type": "execute_result",
          "data": {
            "text/plain": [
              "(31, 2)"
            ]
          },
          "metadata": {
            "tags": []
          },
          "execution_count": 236
        }
      ]
    },
    {
      "cell_type": "code",
      "metadata": {
        "id": "G_f61EgZPv41",
        "colab_type": "code",
        "colab": {}
      },
      "source": [
        "china_all=china[['Province/State','Confirmed', 'Suspected', 'Recovered', 'Deaths']].groupby(['Province/State']).agg({'Confirmed':'sum','Suspected':'sum','Recovered':'sum','Deaths':'sum'})\n",
        "china_all.reset_index(inplace=True)"
      ],
      "execution_count": 0,
      "outputs": []
    },
    {
      "cell_type": "markdown",
      "metadata": {
        "id": "an1nmu2SUN3G",
        "colab_type": "text"
      },
      "source": [
        "# Number of confirmed cases in china"
      ]
    },
    {
      "cell_type": "code",
      "metadata": {
        "id": "7HwZZ7QIPu52",
        "colab_type": "code",
        "outputId": "ed3c3714-0640-4f8c-c0cf-69fd6deec931",
        "colab": {
          "base_uri": "https://localhost:8080/",
          "height": 482
        }
      },
      "source": [
        "plt.figure(1,figsize=(22,8))\n",
        "color = list(repeatlist(color, 31))\n",
        "squarify.plot(sizes=china_all[china_all['Confirmed']!=0].Confirmed.values.tolist(),\n",
        "              label=china_all[china_all['Confirmed']!=0]['Province/State'].values.tolist(), alpha=.7,color=color,\n",
        "              )\n",
        "plt.axis('off')\n",
        "plt.title('Number of confirmed cases in china')\n",
        "plt.show()\n"
      ],
      "execution_count": 0,
      "outputs": [
        {
          "output_type": "display_data",
          "data": {
            "image/png": "[encoded data removed]",
            "text/plain": [
              "<Figure size 1584x576 with 1 Axes>"
            ]
          },
          "metadata": {
            "tags": []
          }
        }
      ]
    },
    {
      "cell_type": "markdown",
      "metadata": {
        "id": "gQBAMEa1UiuO",
        "colab_type": "text"
      },
      "source": [
        "# Total Deaths in china"
      ]
    },
    {
      "cell_type": "code",
      "metadata": {
        "id": "q_2CDH_3Tmhs",
        "colab_type": "code",
        "outputId": "e354b8b7-17f2-43be-df54-f4667ee29266",
        "colab": {
          "base_uri": "https://localhost:8080/",
          "height": 474
        }
      },
      "source": [
        "plt.figure(1,figsize=(16,8))\n",
        "color = list(repeatlist(color, 6))\n",
        "squarify.plot(sizes=china_all[china_all['Deaths']!=0].Deaths.values.tolist(),\n",
        "              label=china_all[china_all['Deaths']!=0]['Province/State'].values.tolist(), alpha=.7,color=color,\n",
        "              value=china_all[china_all['Deaths']!=0].Deaths.values.tolist())\n",
        "plt.axis('off')\n",
        "\n",
        "plt.show()\n"
      ],
      "execution_count": 0,
      "outputs": [
        {
          "output_type": "display_data",
          "data": {
            "image/png": "[encoded data removed]",
            "text/plain": [
              "<Figure size 1152x576 with 1 Axes>"
            ]
          },
          "metadata": {
            "tags": []
          }
        }
      ]
    },
    {
      "cell_type": "code",
      "metadata": {
        "id": "Wc4MoxlXd6iu",
        "colab_type": "code",
        "colab": {}
      },
      "source": [
        "df2=df1[['Long','Lat','confirmed','Province/State']].copy()"
      ],
      "execution_count": 0,
      "outputs": []
    },
    {
      "cell_type": "code",
      "metadata": {
        "id": "tlyFy902eF5f",
        "colab_type": "code",
        "colab": {}
      },
      "source": [
        "df2.columns=['Longitue','Latitude','confirmed','Province/State']"
      ],
      "execution_count": 0,
      "outputs": []
    },
    {
      "cell_type": "code",
      "metadata": {
        "id": "CygQhilfeMl2",
        "colab_type": "code",
        "outputId": "ef9886ff-1bd4-4f4b-e1ad-c1a6f7142258",
        "colab": {
          "base_uri": "https://localhost:8080/",
          "height": 204
        }
      },
      "source": [
        "df2['size']=np.log(df2.confirmed.values)*10\n",
        "df2.head()"
      ],
      "execution_count": 0,
      "outputs": [
        {
          "output_type": "execute_result",
          "data": {
            "text/html": [
              "<div>\n",
              "<style scoped>\n",
              "    .dataframe tbody tr th:only-of-type {\n",
              "        vertical-align: middle;\n",
              "    }\n",
              "\n",
              "    .dataframe tbody tr th {\n",
              "        vertical-align: top;\n",
              "    }\n",
              "\n",
              "    .dataframe thead th {\n",
              "        text-align: right;\n",
              "    }\n",
              "</style>\n",
              "<table border=\"1\" class=\"dataframe\">\n",
              "  <thead>\n",
              "    <tr style=\"text-align: right;\">\n",
              "      <th></th>\n",
              "      <th>Longitue</th>\n",
              "      <th>Latitude</th>\n",
              "      <th>confirmed</th>\n",
              "      <th>Province/State</th>\n",
              "      <th>geometry</th>\n",
              "      <th>size</th>\n",
              "    </tr>\n",
              "  </thead>\n",
              "  <tbody>\n",
              "    <tr>\n",
              "      <th>0</th>\n",
              "      <td>117.2264</td>\n",
              "      <td>31.82571</td>\n",
              "      <td>10876.0</td>\n",
              "      <td>Anhui</td>\n",
              "      <td>POINT (117.22640 31.82571)</td>\n",
              "      <td>92.943138</td>\n",
              "    </tr>\n",
              "    <tr>\n",
              "      <th>1</th>\n",
              "      <td>116.4142</td>\n",
              "      <td>40.18238</td>\n",
              "      <td>5465.0</td>\n",
              "      <td>Beijing</td>\n",
              "      <td>POINT (116.41420 40.18238)</td>\n",
              "      <td>86.061194</td>\n",
              "    </tr>\n",
              "    <tr>\n",
              "      <th>2</th>\n",
              "      <td>107.8740</td>\n",
              "      <td>30.05718</td>\n",
              "      <td>7848.0</td>\n",
              "      <td>Chongqing</td>\n",
              "      <td>POINT (107.87400 30.05718)</td>\n",
              "      <td>89.680140</td>\n",
              "    </tr>\n",
              "    <tr>\n",
              "      <th>3</th>\n",
              "      <td>117.9895</td>\n",
              "      <td>26.07783</td>\n",
              "      <td>4211.0</td>\n",
              "      <td>Fujian</td>\n",
              "      <td>POINT (117.98950 26.07783)</td>\n",
              "      <td>83.454554</td>\n",
              "    </tr>\n",
              "    <tr>\n",
              "      <th>4</th>\n",
              "      <td>103.8343</td>\n",
              "      <td>36.06110</td>\n",
              "      <td>1234.0</td>\n",
              "      <td>Gansu</td>\n",
              "      <td>POINT (103.83430 36.06110)</td>\n",
              "      <td>71.180162</td>\n",
              "    </tr>\n",
              "  </tbody>\n",
              "</table>\n",
              "</div>"
            ],
            "text/plain": [
              "   Longitue  Latitude  ...                    geometry       size\n",
              "0  117.2264  31.82571  ...  POINT (117.22640 31.82571)  92.943138\n",
              "1  116.4142  40.18238  ...  POINT (116.41420 40.18238)  86.061194\n",
              "2  107.8740  30.05718  ...  POINT (107.87400 30.05718)  89.680140\n",
              "3  117.9895  26.07783  ...  POINT (117.98950 26.07783)  83.454554\n",
              "4  103.8343  36.06110  ...  POINT (103.83430 36.06110)  71.180162\n",
              "\n",
              "[5 rows x 6 columns]"
            ]
          },
          "metadata": {
            "tags": []
          },
          "execution_count": 34
        }
      ]
    },
    {
      "cell_type": "code",
      "metadata": {
        "id": "KzTTaCTJW5DX",
        "colab_type": "code",
        "outputId": "e9914e29-3e83-4de1-f882-0bf2300d9718",
        "colab": {
          "base_uri": "https://localhost:8080/",
          "height": 499
        }
      },
      "source": [
        "from shapely.geometry import Point\n",
        "import geopandas as gpd\n",
        "from geopandas import GeoDataFrame\n",
        "\n",
        "\n",
        "geometry = [Point(xy) for xy in zip(df1['Long'], df1['Lat'])]\n",
        "gdf = GeoDataFrame(df2, geometry=geometry)   \n",
        "\n",
        "world = gpd.read_file(gpd.datasets.get_path('naturalearth_lowres'))\n",
        "gdf.plot(ax=world.plot(figsize=(20, 8)), marker='o', color='red', markersize='size',legend=True,categorical=False);\n",
        "plt.title('Coronavirus geo-location maping');"
      ],
      "execution_count": 0,
      "outputs": [
        {
          "output_type": "display_data",
          "data": {
            "image/png": "[encoded data removed]",
            "text/plain": [
              "<Figure size 1440x576 with 1 Axes>"
            ]
          },
          "metadata": {
            "tags": []
          }
        }
      ]
    },
    {
      "cell_type": "code",
      "metadata": {
        "id": "4rY0h3ztW5Aw",
        "colab_type": "code",
        "colab": {}
      },
      "source": [
        ""
      ],
      "execution_count": 0,
      "outputs": []
    }
  ]
}